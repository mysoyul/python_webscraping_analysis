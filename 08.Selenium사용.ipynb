{
 "cells": [
  {
   "cell_type": "code",
   "execution_count": 2,
   "id": "90ab8c6e-f384-4170-a85e-e5b37b2adcf5",
   "metadata": {},
   "outputs": [
    {
     "name": "stdout",
     "output_type": "stream",
     "text": [
      "Collecting selenium\n",
      "  Using cached selenium-3.141.0-py2.py3-none-any.whl (904 kB)\n",
      "Requirement already satisfied: urllib3 in c:\\users\\vega2\\anaconda3\\lib\\site-packages (from selenium) (1.26.4)\n",
      "Installing collected packages: selenium\n",
      "Successfully installed selenium-3.141.0\n"
     ]
    }
   ],
   "source": [
    "#!pip install selenium"
   ]
  },
  {
   "cell_type": "code",
   "execution_count": 43,
   "id": "5750b530-9e55-4de7-b4c7-a7759bcad84b",
   "metadata": {},
   "outputs": [
    {
     "name": "stdout",
     "output_type": "stream",
     "text": [
      "Name: selenium\n",
      "Version: 3.141.0\n",
      "Summary: Python bindings for Selenium\n",
      "Home-page: https://github.com/SeleniumHQ/selenium/\n",
      "Author: UNKNOWN\n",
      "Author-email: UNKNOWN\n",
      "License: Apache 2.0\n",
      "Location: c:\\users\\vega2\\anaconda3\\lib\\site-packages\n",
      "Requires: urllib3\n",
      "Required-by: \n"
     ]
    }
   ],
   "source": [
    "!pip show selenium"
   ]
  },
  {
   "cell_type": "code",
   "execution_count": 44,
   "id": "f1923e41-167c-48f9-a72f-0ec672b7c1a5",
   "metadata": {},
   "outputs": [
    {
     "data": {
      "text/plain": [
       "'3.141.0'"
      ]
     },
     "execution_count": 44,
     "metadata": {},
     "output_type": "execute_result"
    }
   ],
   "source": [
    "import selenium\n",
    "\n",
    "selenium.__version__"
   ]
  },
  {
   "cell_type": "markdown",
   "id": "46aba6e9-2db5-488b-be74-3a1a4f40bed7",
   "metadata": {},
   "source": [
    "### WebDriver의 Chrome 객체생성\n",
    "* python.org 요청\n",
    "* pypi 메뉴를 클릭해서 pypi.org site로 이동"
   ]
  },
  {
   "cell_type": "code",
   "execution_count": 9,
   "id": "4440fcf3-5a8c-4ba5-8bd0-144df23efb2f",
   "metadata": {},
   "outputs": [
    {
     "name": "stdout",
     "output_type": "stream",
     "text": [
      "<selenium.webdriver.remote.webelement.WebElement (session=\"5768c2979b8d40f9f88dd3cb65bb503e\", element=\"a77363bc-443e-4b4a-bd35-6dfbdf1d54bc\")>\n"
     ]
    }
   ],
   "source": [
    "from selenium import webdriver\n",
    "import time\n",
    "\n",
    "driver = webdriver.Chrome('./chromedriver.exe')\n",
    "#print(driver)\n",
    "driver.get('https://www.python.org/')\n",
    "\n",
    "li_tags = driver.find_elements_by_css_selector('div#top ul.menu li')\n",
    "\n",
    "pypi = None\n",
    "for li_tag in li_tags:\n",
    "    if li_tag.text == 'PyPI':\n",
    "        pypi = li_tag     \n",
    "        print(pypi)\n",
    "        \n",
    "time.sleep(3)\n",
    "#li webElement를 click\n",
    "pypi.click()\n",
    "\n",
    "time.sleep(3)\n",
    "#종료\n",
    "driver.quit()"
   ]
  },
  {
   "cell_type": "code",
   "execution_count": 11,
   "id": "965319db-43c3-4cd5-bffe-6537ca8c2e6e",
   "metadata": {},
   "outputs": [],
   "source": [
    "import os\n",
    "\n",
    "if not os.path.isdir('img'):\n",
    "    os.mkdir('img')"
   ]
  },
  {
   "cell_type": "code",
   "execution_count": 14,
   "id": "e4458473-cae1-4e72-bc1b-3ab13457728e",
   "metadata": {},
   "outputs": [],
   "source": [
    "# screenshot \n",
    "from selenium import webdriver\n",
    "import time\n",
    "\n",
    "driver = webdriver.Chrome('./chromedriver.exe')\n",
    "driver.get('https://www.naver.com/')\n",
    "driver.save_screenshot('img/naver.png')\n",
    "\n",
    "time.sleep(3)\n",
    "driver.quit()"
   ]
  },
  {
   "cell_type": "markdown",
   "id": "b2d13a50-92ac-4906-96b1-fdd15f5c1110",
   "metadata": {},
   "source": [
    "### 검색어를 입력하고 해당 페이지로 이동\n",
    "* 검색을 입력하고 엔터를 친다\n",
    "* 검색된 결과 중에서 지식인 검색된 링크를 클릭"
   ]
  },
  {
   "cell_type": "code",
   "execution_count": 19,
   "id": "aec48784-ef02-48e9-9f3f-49d501b2fd41",
   "metadata": {},
   "outputs": [
    {
     "name": "stdout",
     "output_type": "stream",
     "text": [
      "<selenium.webdriver.remote.webelement.WebElement (session=\"689588cc1068b9ba28a5b05223481855\", element=\"3650bcbf-68b2-452b-b715-9e47b5a02717\")>\n"
     ]
    }
   ],
   "source": [
    "from selenium import webdriver\n",
    "from selenium.webdriver.common.keys import Keys\n",
    "import time\n",
    "\n",
    "driver = webdriver.Chrome('./chromedriver.exe')\n",
    "driver.get('https://www.naver.com/')\n",
    "time.sleep(2)\n",
    "\n",
    "input_tag = driver.find_element_by_css_selector('input#query')\n",
    "print(input_tag)\n",
    "input_tag.send_keys('파이썬')\n",
    "input_tag.send_keys(Keys.ENTER)\n",
    "time.sleep(2)\n",
    "\n",
    "a_tag = driver.find_elements_by_css_selector('a.lnk_tit')\n",
    "if a_tag:\n",
    "    a_tag[0].click()\n",
    "    \n",
    "time.sleep(3)\n",
    "driver.quit()"
   ]
  },
  {
   "cell_type": "markdown",
   "id": "d4feebc2-7768-400d-bd26-c14d7e492bab",
   "metadata": {},
   "source": [
    "### Daum 로그인 / 로그아웃\n",
    "* id와 pass 입력하고 엔터\n",
    "* 이름과 메일건수 알아내기\n",
    "* 로그아웃 버튼 클릭"
   ]
  },
  {
   "cell_type": "code",
   "execution_count": 62,
   "id": "e13caf84-7552-4e2a-89c7-94268f11a386",
   "metadata": {},
   "outputs": [
    {
     "name": "stdout",
     "output_type": "stream",
     "text": [
      "display: block;\n",
      "login fail\n"
     ]
    }
   ],
   "source": [
    "from selenium import webdriver\n",
    "from selenium.webdriver.common.keys import Keys\n",
    "import time\n",
    "\n",
    "from selenium.webdriver.support.ui import WebDriverWait\n",
    "from selenium.webdriver.support import expected_conditions as EC\n",
    "from selenium.webdriver.common.by import By\n",
    "\n",
    "from selenium.common.exceptions import NoSuchElementException\n",
    "\n",
    "url = 'https://logins.daum.net/accounts/signinform.do'\n",
    "\n",
    "driver = webdriver.Chrome('./chromedriver.exe')\n",
    "driver.get(url)\n",
    "\n",
    "#웹리소스 로딩을 위해서 2초 wait를 반드시 해주어야 합니다. \n",
    "#클래스 선택자를 못가져오고 에러가 발생했던 원인은 웹리소스들이 로딩이 되기 전에 tag를 가져와서 에러가 발생하였음\n",
    "driver.implicitly_wait(2)\n",
    "\n",
    "time.sleep(2)\n",
    "\n",
    "#id와 password를 엘리먼트 찾고, 값을 입력하기\n",
    "driver.find_element_by_css_selector('input#id').send_keys('vega2k_')\n",
    "driver.find_element_by_css_selector('input#inputPwd').send_keys('!python123')\n",
    "time.sleep(2)\n",
    "\n",
    "#password필드에서 엔터치기\n",
    "driver.find_element_by_css_selector('input#inputPwd').send_keys(Keys.RETURN)\n",
    "\n",
    "try:\n",
    "    if driver.find_element_by_css_selector('p#id_msg').is_displayed() or driver.find_element_by_css_selector('p#pw_msg').is_displayed():    \n",
    "        pwfail_tag = driver.find_element_by_css_selector('p#pw_msg').get_attribute('style')\n",
    "        print(pwfail_tag)\n",
    "        if 'block' in pwfail_tag:\n",
    "            login_ok = False    \n",
    "            print(\"login fail\")\n",
    "        #fail_tag = WebDriverWait(driver,timeout=5).until(EC.presence_of_element_located((By.CSS_SELECTOR, \"p#pw_msg\")))\n",
    "except NoSuchElementException as nexp:\n",
    "    #print(nexp)\n",
    "    # p#pw_msg 엘리먼트가 없으면 로그인 성공한것임\n",
    "    login_ok = True    \n",
    "except Exception as exp:\n",
    "    print(exp)\n",
    "        \n",
    "if login_ok:\n",
    "    print('login ok ----------------')\n",
    "    \n",
    "    # implicitly_wait() 하지 않을 경우에는 엘리먼트를 가져올때 waiting 타임을 주어서 가져오는 방법입니다.\n",
    "    # name_tag = WebDriverWait(driver,timeout=5).until(EC.presence_of_element_located((By.CSS_SELECTOR, \"a.name_user\")))\n",
    "    # print(name_tag)\n",
    "    name_tag = driver.find_element_by_css_selector('a.name_user')\n",
    "    if name_tag:\n",
    "        name_text = name_tag.text\n",
    "        print(\"이름 \", name_text)\n",
    "\n",
    "    #mail_tag = WebDriverWait(driver,timeout=5).until(EC.presence_of_element_located((By.CSS_SELECTOR, \"a.link_num\")))\n",
    "    mail_tag = driver.find_element_by_css_selector('a.link_num')\n",
    "    print(mail_tag)\n",
    "    if mail_tag:\n",
    "        mail_cnt = mail_tag.text\n",
    "        print(\"메일건수 \", mail_cnt)\n",
    "\n",
    "    logout_tag = driver.find_element_by_css_selector('a.btn_logout')    \n",
    "    if logout_tag:    \n",
    "        logout_tag.click()\n",
    "\n",
    "time.sleep(3)\n",
    "driver.quit()\n",
    "\n"
   ]
  }
 ],
 "metadata": {
  "kernelspec": {
   "display_name": "Python 3",
   "language": "python",
   "name": "python3"
  },
  "language_info": {
   "codemirror_mode": {
    "name": "ipython",
    "version": 3
   },
   "file_extension": ".py",
   "mimetype": "text/x-python",
   "name": "python",
   "nbconvert_exporter": "python",
   "pygments_lexer": "ipython3",
   "version": "3.8.8"
  }
 },
 "nbformat": 4,
 "nbformat_minor": 5
}
