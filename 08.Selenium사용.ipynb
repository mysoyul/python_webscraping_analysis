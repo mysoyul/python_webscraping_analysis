{
 "cells": [
  {
   "cell_type": "code",
   "execution_count": 2,
   "id": "90ab8c6e-f384-4170-a85e-e5b37b2adcf5",
   "metadata": {},
   "outputs": [
    {
     "name": "stdout",
     "output_type": "stream",
     "text": [
      "Collecting selenium\n",
      "  Using cached selenium-3.141.0-py2.py3-none-any.whl (904 kB)\n",
      "Requirement already satisfied: urllib3 in c:\\users\\vega2\\anaconda3\\lib\\site-packages (from selenium) (1.26.4)\n",
      "Installing collected packages: selenium\n",
      "Successfully installed selenium-3.141.0\n"
     ]
    }
   ],
   "source": [
    "#!pip install selenium"
   ]
  },
  {
   "cell_type": "code",
   "execution_count": 3,
   "id": "5750b530-9e55-4de7-b4c7-a7759bcad84b",
   "metadata": {},
   "outputs": [
    {
     "name": "stdout",
     "output_type": "stream",
     "text": [
      "Name: selenium\n",
      "Version: 3.141.0\n",
      "Summary: Python bindings for Selenium\n",
      "Home-page: https://github.com/SeleniumHQ/selenium/\n",
      "Author: UNKNOWN\n",
      "Author-email: UNKNOWN\n",
      "License: Apache 2.0\n",
      "Location: c:\\users\\vega2\\anaconda3\\lib\\site-packages\n",
      "Requires: urllib3\n",
      "Required-by: \n"
     ]
    }
   ],
   "source": [
    "!pip show selenium"
   ]
  },
  {
   "cell_type": "markdown",
   "id": "46aba6e9-2db5-488b-be74-3a1a4f40bed7",
   "metadata": {},
   "source": [
    "### WebDriver의 Chrome 객체생성\n",
    "* python.org 요청\n",
    "* pypi 메뉴를 클릭해서 pypi.org site로 이동"
   ]
  },
  {
   "cell_type": "code",
   "execution_count": 8,
   "id": "4440fcf3-5a8c-4ba5-8bd0-144df23efb2f",
   "metadata": {},
   "outputs": [
    {
     "name": "stdout",
     "output_type": "stream",
     "text": [
      "<selenium.webdriver.remote.webelement.WebElement (session=\"036281abf6f716d6b7197e0813c8dd3b\", element=\"f736a0f8-5070-4916-8904-eea76f1f15c1\")>\n"
     ]
    }
   ],
   "source": [
    "from selenium import webdriver\n",
    "import time\n",
    "\n",
    "driver = webdriver.Chrome('./chromedriver.exe')\n",
    "#print(driver)\n",
    "driver.get('https://www.python.org/')\n",
    "\n",
    "li_tags = driver.find_elements_by_css_selector('div#top ul.menu li')\n",
    "\n",
    "pypi = None\n",
    "for li_tag in li_tags:\n",
    "    if li_tag.text == 'PyPI':\n",
    "        pypi = li_tag     \n",
    "        print(pypi)\n",
    "        \n",
    "time.sleep(3)\n",
    "#li webElement를 click\n",
    "pypi.click()\n",
    "\n",
    "time.sleep(3)\n",
    "#종료\n",
    "driver.quit()"
   ]
  },
  {
   "cell_type": "code",
   "execution_count": null,
   "id": "965319db-43c3-4cd5-bffe-6537ca8c2e6e",
   "metadata": {},
   "outputs": [],
   "source": []
  }
 ],
 "metadata": {
  "kernelspec": {
   "display_name": "Python 3",
   "language": "python",
   "name": "python3"
  },
  "language_info": {
   "codemirror_mode": {
    "name": "ipython",
    "version": 3
   },
   "file_extension": ".py",
   "mimetype": "text/x-python",
   "name": "python",
   "nbconvert_exporter": "python",
   "pygments_lexer": "ipython3",
   "version": "3.8.8"
  }
 },
 "nbformat": 4,
 "nbformat_minor": 5
}
