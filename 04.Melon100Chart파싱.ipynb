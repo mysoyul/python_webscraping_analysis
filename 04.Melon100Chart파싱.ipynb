{
 "cells": [
  {
   "cell_type": "markdown",
   "id": "9107e1a8",
   "metadata": {},
   "source": [
    "### Melon 100 Chart \n",
    "* 100곡의 노래의 제목, Song ID추출\n",
    "* Song ID로 노래의 상세정보를 100 번 요청\n",
    "* 100곡의 정보를 json에 저장\n",
    "* json file을 읽어서 Pandas DataFrame에 저장해서 표데이터로 만들기\n",
    "* 표데이터를 DB에 저장"
   ]
  },
  {
   "cell_type": "code",
   "execution_count": 41,
   "id": "4edc11f0",
   "metadata": {},
   "outputs": [
    {
     "name": "stdout",
     "output_type": "stream",
     "text": [
      "100\n"
     ]
    },
    {
     "data": {
      "text/plain": [
       "[{'title': 'STAY',\n",
       "  'id': '33658563',\n",
       "  'url': 'https://www.melon.com/song/detail.htm?songId=33658563'},\n",
       " {'title': '신호등',\n",
       "  'id': '33480898',\n",
       "  'url': 'https://www.melon.com/song/detail.htm?songId=33480898'},\n",
       " {'title': 'My Universe',\n",
       "  'id': '33998510',\n",
       "  'url': 'https://www.melon.com/song/detail.htm?songId=33998510'},\n",
       " {'title': 'Permission to Dance',\n",
       "  'id': '33666269',\n",
       "  'url': 'https://www.melon.com/song/detail.htm?songId=33666269'}]"
      ]
     },
     "execution_count": 41,
     "metadata": {},
     "output_type": "execute_result"
    }
   ],
   "source": [
    "import requests\n",
    "from bs4 import BeautifulSoup\n",
    "import re\n",
    "\n",
    "req_header = {\n",
    "    \"User-Agent\": \"Mozilla/5.0 (Windows NT 10.0; Win64; x64) AppleWebKit/537.36 (KHTML, like Gecko) Chrome/93.0.4577.82 Safari/537.36\"\n",
    "}\n",
    "url = 'https://www.melon.com/chart/index.htm'\n",
    "\n",
    "res = requests.get(url, headers=req_header)\n",
    "#print(res.status_code)\n",
    "soup = BeautifulSoup(res.text, 'html.parser')\n",
    "# print(len(soup.select(\"a[href*='playSong']\")))\n",
    "# print(len(soup.select('div#tb_list'))) #1개\n",
    "# print(len(soup.select('div#tb_list tr'))) #101\n",
    "# print(len(soup.select('div#tb_list tr div.wrap_song_info'))) #200\n",
    "# print(len(soup.select('div#tb_list tr div.wrap_song_info a'))) #427\n",
    "# print(len(soup.select(\"div#tb_list tr div.wrap_song_info a[href*='playSong']\"))) #100\n",
    "\n",
    "#100곡의 song 정보를 저장할 list 선언\n",
    "song_list = list()\n",
    "\n",
    "atags = soup.select(\"div#tb_list tr div.wrap_song_info a[href*='playSong']\")\n",
    "for idx,atag in enumerate(atags,1):\n",
    "    #1곡의 song 정보를 저장할 dict 선언\n",
    "    song_dict = dict()\n",
    "    title = atag.text\n",
    "    song_dict['title'] = title\n",
    "    href = atag['href']\n",
    "    matched = re.search(r'(\\d+)\\);', href)\n",
    "    song_id = matched.group(1)\n",
    "    song_dict['id'] = song_id\n",
    "    song_url = f'https://www.melon.com/song/detail.htm?songId={song_id}'\n",
    "    #print(idx,title, song_url)\n",
    "    song_dict['url'] = song_url\n",
    "    #print(idx, song_dict)\n",
    "    song_list.append(song_dict)\n",
    "\n",
    "print(len(song_list))    \n",
    "song_list[0:4]"
   ]
  },
  {
   "cell_type": "markdown",
   "id": "9fc1d91d",
   "metadata": {},
   "source": [
    "### 100곡의 Song의 상세정보 파싱하기"
   ]
  },
  {
   "cell_type": "code",
   "execution_count": 51,
   "id": "cd142fe8",
   "metadata": {},
   "outputs": [
    {
     "name": "stdout",
     "output_type": "stream",
     "text": [
      "----> 1 = STAY\n",
      "----> 2 = 신호등\n",
      "----> 3 = My Universe\n",
      "----> 4 = Permission to Dance\n",
      "----> 5 = OHAYO MY NIGHT\n",
      "----> 6 = Next Level\n",
      "----> 7 = 바라만 본다\n",
      "----> 8 = Butter\n",
      "----> 9 = 낙하 (with 아이유)\n",
      "----> 10 = Weekend\n",
      "----> 11 = 좋아좋아\n",
      "----> 12 = Dynamite\n",
      "----> 13 = 이제 나만 믿어요\n",
      "----> 14 = Queendom\n",
      "----> 15 = 시간을 거슬러 (낮에 뜨는 달 X 케이윌)\n",
      "----> 16 = Bad Habits\n",
      "----> 17 = 다정히 내 이름을 부르면\n",
      "----> 18 = Peaches (Feat. Daniel Caesar & Giveon)\n",
      "----> 19 = DUMB DUMB\n",
      "----> 20 = 헤픈 우연\n",
      "----> 21 = 가을 타나 봐\n",
      "----> 22 = 별빛 같은 나의 사랑아\n",
      "----> 23 = 고백\n",
      "----> 24 = 비와 당신\n",
      "----> 25 = 그대라는 사치\n",
      "----> 26 = HERO\n",
      "----> 27 = 비가 오는 날엔 (2021)\n",
      "----> 28 = 다시 사랑한다면 (김필 Ver.)\n",
      "----> 29 = 라일락\n",
      "----> 30 = 끝사랑\n",
      "----> 31 = Dun Dun Dance\n",
      "----> 32 = 롤린 (Rollin')\n",
      "----> 33 = Sticker\n",
      "----> 34 = Bk Love\n",
      "----> 35 = 잊었니\n",
      "----> 36 = Celebrity\n",
      "----> 37 = Savage Love (Laxed - Siren Beat) (BTS Remix)\n",
      "----> 38 = 가을 우체국 앞에서\n",
      "----> 39 = ASAP\n",
      "----> 40 = 색안경 (STEREOTYPE)\n",
      "----> 41 = 작은 것들을 위한 시 (Boy With Luv) (Feat. Halsey)\n",
      "----> 42 = 하루만 더\n",
      "----> 43 = 사이렌 Remix (Feat. UNEDUCATED KID, Paul Blanco)\n",
      "----> 44 = 너를 생각해\n",
      "----> 45 = 찰나가 영원이 될 때 (The Eternal Moment)\n",
      "----> 46 = 미워요\n",
      "----> 47 = 사랑의 아픔 딛고\n",
      "----> 48 = 봄날\n",
      "----> 49 = 계단말고 엘리베이터\n",
      "----> 50 = LOCO\n",
      "----> 51 = Life Goes On\n",
      "----> 52 = 밝게 빛나는 별이 되어 비춰줄게\n",
      "----> 53 = 내 손을 잡아\n",
      "----> 54 = 고백\n",
      "----> 55 = Lemonade\n",
      "----> 56 = 빨간 립스틱 (Feat. 윤미래)\n",
      "----> 57 = 목로주점\n",
      "----> 58 = Hey Mama (Feat. Nicki Minaj, Bebe Rexha & Afrojack)\n",
      "----> 59 = 치맛바람 (Chi Mat Ba Ram)\n",
      "----> 60 = 안녕 (Hello)\n",
      "----> 61 = Off My Face\n",
      "----> 62 = 어떻게 이별까지 사랑하겠어, 널 사랑하는 거지\n",
      "----> 63 = Alcohol-Free\n",
      "----> 64 = 밤하늘의 별을(2020)\n",
      "----> 65 = 운전만해 (We Ride)\n",
      "----> 66 = Lovesick Girls\n",
      "----> 67 = 추억은 만남보다 이별에 남아\n",
      "----> 68 = 아로하\n",
      "----> 69 = 산책\n",
      "----> 70 = 잠이 오질 않네요\n",
      "----> 71 = Timeless\n",
      "----> 72 = 멜로디\n",
      "----> 73 = 취기를 빌려 (취향저격 그녀 X 산들)\n",
      "----> 74 = 비 오는 날 듣기 좋은 노래 (Feat. Colde)\n",
      "----> 75 = 이젠 잊기로 해요 (Drama Ver.)\n",
      "----> 76 = 모든 날, 모든 순간 (Every day, Every Moment)\n",
      "----> 77 = 흔들리는 꽃들 속에서 네 샴푸향이 느껴진거야\n",
      "----> 78 = Blueming\n",
      "----> 79 = Road Trip\n",
      "----> 80 = 여전히 아름다운지\n",
      "----> 81 = 오늘도 빛나는 너에게 (To You My Light) (Feat.이라온)\n",
      "----> 82 = 오래된 노래\n",
      "----> 83 = 너 하나야 (낮에 뜨는 달 X 길구봉구)\n",
      "----> 84 = 그날에 나는 맘이 편했을까\n",
      "----> 85 = 상상더하기\n",
      "----> 86 = LOVE DAY (2021) (바른연애 길잡이 X 양요섭, 정은지)\n",
      "----> 87 = 나를 아는 사람\n",
      "----> 88 = 고백\n",
      "----> 89 = 어푸 (Ah puh)\n",
      "----> 90 = 에잇(Prod.&Feat. SUGA of BTS)\n",
      "----> 91 = 2002\n",
      "----> 92 = 전화 한 번 못하니\n",
      "----> 93 = 내일의 나에게 (The Rainy Night)\n",
      "----> 94 = METEOR\n",
      "----> 95 = Dreamer\n",
      "----> 96 = Butterfly\n",
      "----> 97 = Breakfast\n",
      "----> 98 = 12:45 (Stripped)\n",
      "----> 99 = 다시 만나는 날 (Promise You)\n",
      "----> 100 = Dolphin\n",
      "100\n",
      "[{'곡명': 'STAY', '가수': 'The Kid LAROI', '앨범': 'Stay', '발매일': '2021.07.09', '장르': 'POP', '좋아요': 155350, '가사': \"I do the same thing I told youthat I never wouldI told you I'd changeeven when I knew I never couldI know that I can't findnobody elseas good as youI need you to stayneed you to stay hey OhI get drunk wake upI'm wasted stillI realize the timethat I wasted hereI feel like you can'tfeel the way I feelOh I'll be fucked upif you can't be right hereOh ooh-woahOh ooh-woah ooh-woahOh ooh-woahOh ooh-woah ooh-woahOh ooh-woahOh ooh-woah ooh-woahOh I'll be fucked upif you can't be right hereI do the same thing I told youthat I never wouldI told you I'd changeeven when I knew I never couldI know that I can't findnobody elseas good as youI need you to stayneed you to stay heyI do the same thing I told youthat I never wouldI told you I'd changeeven when I knew I never couldI know that I can't findnobody elseas good as youI need you to stayneed you to stay heyWhen I'm away from youI miss your touch OohYou're the reasonI believe in love OohIt's been difficultfor me to trust OohAnd I'm afraidthat I'ma fuck it up OohAin't no waythat I can leave you stranded'Cause you ain't ever left meempty-handedAnd you know that I knowthat I can't live without youSo baby stayOh ooh-woahOh ooh-woah ooh-woahOh ooh-woahOh ooh-woah ooh-woahOh ooh-woahOh ooh-woah ooh-woahI'll be fucked upif you can't be right hereI do the same thing I told youthat I never wouldI told you I'd changeeven when I knew I never couldI know that I can't findnobody elseas good as youI need you to stayneed you to stay heyI do the same thingI told you that I never wouldI told you I'd changeeven when I knew I never couldI know that I can't findnobody elseas good as youI need you to stayneed you to stay heyWoah-ohI need you to stayneed you to stay hey\"}, {'곡명': '신호등', '가수': '이무진', '앨범': '신호등', '발매일': '2021.05.14', '장르': '록/메탈', '좋아요': 216683, '가사': '이제야 목적지를 정했지만가려한 날 막아서네 난 갈 길이 먼데새빨간 얼굴로 화를 냈던친구가 생각나네이미 난 발걸음을 떼었지만가려한 날 재촉하네 걷기도 힘든데새파랗게 겁에 질려 도망간친구가 뇌에 맴도네건반처럼 생긴 도로 위수많은 동그라미들 모두가멈췄다 굴렀다 말은 잘 들어그건 나도 문제가 아냐붉은색 푸른색 그 사이3초 그 짧은 시간노란색 빛을 내는저기 저 신호등이내 머릿속을 텅 비워버려내가 빠른지도느린지도 모르겠어그저 눈앞이 샛노랄 뿐이야솔직히 말하자면 차라리운전대를 못 잡던 어릴 때가더 좋았었던 것 같아그땐 함께 온 세상을거닐 친구가 있었으니건반처럼 생긴 도로 위수많은 조명들이 날 빠르게번갈아 가며 비추고 있지만난 아직 초짜란 말이야붉은색 푸른색 그 사이3초 그 짧은 시간노란색 빛을 내는 저기 저 신호등이내 머릿속을 텅 비워버려내가 빠른지도느린지도 모르겠어그저 눈앞이 샛노랄 뿐이야꼬질꼬질한 사람이나부자 곁엔 아무도 없는삼색 조명과 이색 칠 위에서 있어 괴롭히지 마붉은색 푸른색 그 사이3초 그 짧은 시간노란색 빛을 내는 저기 저 신호등이내 머릿속을 텅 비워버려내가 빠른지도느린지도 모르겠어그저 눈앞이 샛노랄 뿐이야'}, {'곡명': 'My Universe', '가수': 'Coldplay', '앨범': 'My Universe', '발매일': '2021.09.24', '장르': 'POP', '좋아요': 81628, '가사': 'You, you are my universe andI just want to put you firstAnd you, you are my universe, and I…In the night I lie and look up at youWhen the morning comes I watch you riseThere’s a paradise they couldn’t captureThat bright infinity inside your eyes매일 밤 네게 날아가 (가)꿈이란 것도 잊은 채나 웃으며 너를 만나 (나)Never ending forever babyYou, you are my universe andI just want to put you firstAnd you, you are my universe, andYou make my world light up inside어둠이 내겐 더 편했었지길어진 그림자 속에서 (eyes)And they said that we can’t be togetherBecauseBecause we come from different sidesYou, you are my universe andI just want to put you firstAnd you, you are my universe, andYou make my world light up insideMy universe (do do, do do)My universe (do do, do do)My universe (do do, do do)(you make my world)You make my world light up insideMake my world light up inside나를 밝혀주는 건너란 사랑으로 수 놓아진 별내 우주의 넌또 다른 세상을 만들어 주는 걸너는 내 별이자 나의 우주니까지금 이 시련도 결국엔 잠시니까너는 언제까지나 지금처럼 밝게만 빛나줘우리는 너를 따라 이 긴 밤을 수놓을 거야너와 함께 날아가 (가)When I’m without you I’m crazy자 어서 내 손을 잡아 (아)We are made of each other babyYou, you are my universe andI just want to put you firstAnd you, you are my universe, andYou make my world light up insideMy universe (you, you are)My universe (I just want)My universe (you, you are)My universe, and IMy universe'}]\n"
     ]
    }
   ],
   "source": [
    "import requests\n",
    "from bs4 import BeautifulSoup\n",
    "import re\n",
    "\n",
    "req_header = {\n",
    "    \"User-Agent\": \"Mozilla/5.0 (Windows NT 10.0; Win64; x64) AppleWebKit/537.36 (KHTML, like Gecko) Chrome/93.0.4577.82 Safari/537.36\"\n",
    "}\n",
    "#100곡의 Song 상세정보를 저장할 list 선언\n",
    "song_detail_list = []\n",
    "for idx,song in enumerate(song_list,1):\n",
    "    #1곡의 Song 상세정보를 저장할 dict 선언\n",
    "    song_detail_dict = {}\n",
    "    res = requests.get(song['url'], headers=req_header)\n",
    "    soup = BeautifulSoup(res.text, 'html.parser')\n",
    "    print(f\"----> {idx} = {song['title']}\")\n",
    "    #노래제목\n",
    "    song_detail_dict['곡명'] = song['title']\n",
    "    #가수\n",
    "    song_detail_dict['가수'] = soup.select(\"a[href*='goArtistDetail'] span\")[0].text\n",
    "    #앨범\n",
    "    song_detail_dict['앨범'] = soup.select('div.meta dd')[0].text\n",
    "    #발매일\n",
    "    song_detail_dict['발매일'] = soup.select('div.meta dd')[1].text\n",
    "    #장르\n",
    "    song_detail_dict['장르'] = soup.select('div.meta dd')[2].text\n",
    "    #좋아요 건수\n",
    "    song_id = song['id']\n",
    "    like_url = f'https://www.melon.com/commonlike/getSongLike.json?contsIds={song_id}'\n",
    "    like_res = requests.get(like_url, headers=req_header)\n",
    "    #print(song['title'], like_res.json()['contsLike'][0]['SUMMCNT'])\n",
    "    song_detail_dict['좋아요'] = like_res.json()['contsLike'][0]['SUMMCNT']\n",
    "    #가사\n",
    "    lyric_tag = soup.select('div#d_video_summary')\n",
    "    if lyric_tag:\n",
    "        lyric = lyric_tag[0].text\n",
    "        #print(lyric)\n",
    "    else:\n",
    "        lyric = ''\n",
    "        \n",
    "    #정규표현식 생성\n",
    "    reg_exp = re.compile(r'[\\n\\r\\t]')\n",
    "    #정규표현식과 매핑되는 문자열을 empty string으로 대체해라\n",
    "    lyric_clean = reg_exp.sub('',lyric.strip())\n",
    "    song_detail_dict['가사'] = lyric_clean\n",
    "    \n",
    "    #dict을 list에 추가\n",
    "    song_detail_list.append(song_detail_dict)\n",
    "\n",
    "print(len(song_detail_list))\n",
    "print(song_detail_list[0:3])\n"
   ]
  },
  {
   "cell_type": "markdown",
   "id": "6bcda01e",
   "metadata": {},
   "source": [
    "### Song 상세정보 리스트를 Json 저장"
   ]
  },
  {
   "cell_type": "code",
   "execution_count": 53,
   "id": "12af8437",
   "metadata": {},
   "outputs": [],
   "source": [
    "import json\n",
    "\n",
    "with open('data/songs.json','w',encoding='utf8') as file:\n",
    "    json.dump(song_detail_list, file)"
   ]
  },
  {
   "cell_type": "code",
   "execution_count": 56,
   "id": "87fd7ca6",
   "metadata": {},
   "outputs": [],
   "source": [
    "import json\n",
    "\n",
    "with open('data/songs.json','r',encoding='utf8') as file:\n",
    "    contents = file.read()\n",
    "    json_contents = json.loads(contents)\n",
    "\n",
    "#json_contents    "
   ]
  },
  {
   "cell_type": "markdown",
   "id": "8bc302ef",
   "metadata": {},
   "source": [
    "### Json file을 읽어서 Pandas DataFrame으로 저장"
   ]
  },
  {
   "cell_type": "code",
   "execution_count": 60,
   "id": "dbf0f5fa",
   "metadata": {},
   "outputs": [
    {
     "data": {
      "text/html": [
       "<div>\n",
       "<style scoped>\n",
       "    .dataframe tbody tr th:only-of-type {\n",
       "        vertical-align: middle;\n",
       "    }\n",
       "\n",
       "    .dataframe tbody tr th {\n",
       "        vertical-align: top;\n",
       "    }\n",
       "\n",
       "    .dataframe thead th {\n",
       "        text-align: right;\n",
       "    }\n",
       "</style>\n",
       "<table border=\"1\" class=\"dataframe\">\n",
       "  <thead>\n",
       "    <tr style=\"text-align: right;\">\n",
       "      <th></th>\n",
       "      <th>곡명</th>\n",
       "      <th>가수</th>\n",
       "      <th>앨범</th>\n",
       "      <th>발매일</th>\n",
       "      <th>장르</th>\n",
       "      <th>좋아요</th>\n",
       "      <th>가사</th>\n",
       "    </tr>\n",
       "  </thead>\n",
       "  <tbody>\n",
       "    <tr>\n",
       "      <th>0</th>\n",
       "      <td>STAY</td>\n",
       "      <td>The Kid LAROI</td>\n",
       "      <td>Stay</td>\n",
       "      <td>2021.07.09</td>\n",
       "      <td>POP</td>\n",
       "      <td>155350</td>\n",
       "      <td>I do the same thing I told youthat I never wou...</td>\n",
       "    </tr>\n",
       "    <tr>\n",
       "      <th>1</th>\n",
       "      <td>신호등</td>\n",
       "      <td>이무진</td>\n",
       "      <td>신호등</td>\n",
       "      <td>2021.05.14</td>\n",
       "      <td>록/메탈</td>\n",
       "      <td>216683</td>\n",
       "      <td>이제야 목적지를 정했지만가려한 날 막아서네 난 갈 길이 먼데새빨간 얼굴로 화를 냈던...</td>\n",
       "    </tr>\n",
       "    <tr>\n",
       "      <th>2</th>\n",
       "      <td>My Universe</td>\n",
       "      <td>Coldplay</td>\n",
       "      <td>My Universe</td>\n",
       "      <td>2021.09.24</td>\n",
       "      <td>POP</td>\n",
       "      <td>81628</td>\n",
       "      <td>You, you are my universe andI just want to put...</td>\n",
       "    </tr>\n",
       "    <tr>\n",
       "      <th>3</th>\n",
       "      <td>Permission to Dance</td>\n",
       "      <td>방탄소년단</td>\n",
       "      <td>Butter / Permission to Dance</td>\n",
       "      <td>2021.07.09</td>\n",
       "      <td>댄스</td>\n",
       "      <td>177295</td>\n",
       "      <td>It’s the thought of being youngWhen your heart...</td>\n",
       "    </tr>\n",
       "    <tr>\n",
       "      <th>4</th>\n",
       "      <td>OHAYO MY NIGHT</td>\n",
       "      <td>디핵 (D-Hack)</td>\n",
       "      <td>OHAYO MY NIGHT</td>\n",
       "      <td>2020.06.20</td>\n",
       "      <td>랩/힙합</td>\n",
       "      <td>135131</td>\n",
       "      <td>너를 사랑하고 있어너를 사랑하고 있어자기야 날 사랑해주면 안 될까말처럼 쉽지는 않은...</td>\n",
       "    </tr>\n",
       "  </tbody>\n",
       "</table>\n",
       "</div>"
      ],
      "text/plain": [
       "                    곡명             가수                            앨범  \\\n",
       "0                 STAY  The Kid LAROI                          Stay   \n",
       "1                  신호등            이무진                           신호등   \n",
       "2          My Universe       Coldplay                   My Universe   \n",
       "3  Permission to Dance          방탄소년단  Butter / Permission to Dance   \n",
       "4       OHAYO MY NIGHT    디핵 (D-Hack)                OHAYO MY NIGHT   \n",
       "\n",
       "          발매일    장르     좋아요                                                 가사  \n",
       "0  2021.07.09   POP  155350  I do the same thing I told youthat I never wou...  \n",
       "1  2021.05.14  록/메탈  216683  이제야 목적지를 정했지만가려한 날 막아서네 난 갈 길이 먼데새빨간 얼굴로 화를 냈던...  \n",
       "2  2021.09.24   POP   81628  You, you are my universe andI just want to put...  \n",
       "3  2021.07.09    댄스  177295  It’s the thought of being youngWhen your heart...  \n",
       "4  2020.06.20  랩/힙합  135131  너를 사랑하고 있어너를 사랑하고 있어자기야 날 사랑해주면 안 될까말처럼 쉽지는 않은...  "
      ]
     },
     "execution_count": 60,
     "metadata": {},
     "output_type": "execute_result"
    }
   ],
   "source": [
    "import pandas as pd\n",
    "\n",
    "song_df = pd.read_json('data/songs.json')\n",
    "song_df.head()"
   ]
  },
  {
   "cell_type": "code",
   "execution_count": 64,
   "id": "b60e03c8",
   "metadata": {},
   "outputs": [
    {
     "data": {
      "text/html": [
       "<div>\n",
       "<style scoped>\n",
       "    .dataframe tbody tr th:only-of-type {\n",
       "        vertical-align: middle;\n",
       "    }\n",
       "\n",
       "    .dataframe tbody tr th {\n",
       "        vertical-align: top;\n",
       "    }\n",
       "\n",
       "    .dataframe thead th {\n",
       "        text-align: right;\n",
       "    }\n",
       "</style>\n",
       "<table border=\"1\" class=\"dataframe\">\n",
       "  <thead>\n",
       "    <tr style=\"text-align: right;\">\n",
       "      <th></th>\n",
       "      <th>곡명</th>\n",
       "      <th>가수</th>\n",
       "      <th>앨범</th>\n",
       "      <th>발매일</th>\n",
       "      <th>장르</th>\n",
       "      <th>좋아요</th>\n",
       "      <th>가사</th>\n",
       "    </tr>\n",
       "  </thead>\n",
       "  <tbody>\n",
       "    <tr>\n",
       "      <th>0</th>\n",
       "      <td>STAY</td>\n",
       "      <td>The Kid LAROI</td>\n",
       "      <td>Stay</td>\n",
       "      <td>2021.07.09</td>\n",
       "      <td>POP</td>\n",
       "      <td>155350</td>\n",
       "      <td>I do the same thing I told youthat I never wou...</td>\n",
       "    </tr>\n",
       "    <tr>\n",
       "      <th>1</th>\n",
       "      <td>신호등</td>\n",
       "      <td>이무진</td>\n",
       "      <td>신호등</td>\n",
       "      <td>2021.05.14</td>\n",
       "      <td>록/메탈</td>\n",
       "      <td>216683</td>\n",
       "      <td>이제야 목적지를 정했지만가려한 날 막아서네 난 갈 길이 먼데새빨간 얼굴로 화를 냈던...</td>\n",
       "    </tr>\n",
       "    <tr>\n",
       "      <th>2</th>\n",
       "      <td>My Universe</td>\n",
       "      <td>Coldplay</td>\n",
       "      <td>My Universe</td>\n",
       "      <td>2021.09.24</td>\n",
       "      <td>POP</td>\n",
       "      <td>81628</td>\n",
       "      <td>You, you are my universe andI just want to put...</td>\n",
       "    </tr>\n",
       "  </tbody>\n",
       "</table>\n",
       "</div>"
      ],
      "text/plain": [
       "            곡명             가수           앨범         발매일    장르     좋아요  \\\n",
       "0         STAY  The Kid LAROI         Stay  2021.07.09   POP  155350   \n",
       "1          신호등            이무진          신호등  2021.05.14  록/메탈  216683   \n",
       "2  My Universe       Coldplay  My Universe  2021.09.24   POP   81628   \n",
       "\n",
       "                                                  가사  \n",
       "0  I do the same thing I told youthat I never wou...  \n",
       "1  이제야 목적지를 정했지만가려한 날 막아서네 난 갈 길이 먼데새빨간 얼굴로 화를 냈던...  \n",
       "2  You, you are my universe andI just want to put...  "
      ]
     },
     "execution_count": 64,
     "metadata": {},
     "output_type": "execute_result"
    }
   ],
   "source": [
    "# song_detail_list을 읽어서 DataFrame 생성하기\n",
    "\n",
    "# empty DataFrame을 생성\n",
    "song_df2 = pd.DataFrame(columns=['곡명','가수','앨범','발매일','장르','좋아요','가사'])\n",
    "\n",
    "for song_dict in song_detail_list:\n",
    "    #dict를 Series객체로 wrapping\n",
    "    series_obj = pd.Series(song_dict)\n",
    "    #Series 객체를 DataFrame에 append \n",
    "    song_df2 = song_df2.append(series_obj, ignore_index=True)\n",
    "\n",
    "song_df2.head(3)    "
   ]
  },
  {
   "cell_type": "code",
   "execution_count": 66,
   "id": "5eea9a92",
   "metadata": {},
   "outputs": [
    {
     "data": {
      "text/html": [
       "<div>\n",
       "<style scoped>\n",
       "    .dataframe tbody tr th:only-of-type {\n",
       "        vertical-align: middle;\n",
       "    }\n",
       "\n",
       "    .dataframe tbody tr th {\n",
       "        vertical-align: top;\n",
       "    }\n",
       "\n",
       "    .dataframe thead th {\n",
       "        text-align: right;\n",
       "    }\n",
       "</style>\n",
       "<table border=\"1\" class=\"dataframe\">\n",
       "  <thead>\n",
       "    <tr style=\"text-align: right;\">\n",
       "      <th></th>\n",
       "      <th>곡명</th>\n",
       "      <th>가수</th>\n",
       "      <th>앨범</th>\n",
       "      <th>발매일</th>\n",
       "      <th>장르</th>\n",
       "      <th>좋아요</th>\n",
       "      <th>가사</th>\n",
       "    </tr>\n",
       "  </thead>\n",
       "  <tbody>\n",
       "    <tr>\n",
       "      <th>97</th>\n",
       "      <td>12:45 (Stripped)</td>\n",
       "      <td>Etham</td>\n",
       "      <td>12:45 (Stripped)</td>\n",
       "      <td>2018.10.26</td>\n",
       "      <td>POP</td>\n",
       "      <td>150614</td>\n",
       "      <td>It's 12 45 on a Tuesdayand I don't really care...</td>\n",
       "    </tr>\n",
       "    <tr>\n",
       "      <th>98</th>\n",
       "      <td>다시 만나는 날 (Promise You)</td>\n",
       "      <td>NCT 127</td>\n",
       "      <td>Sticker - The 3rd Album</td>\n",
       "      <td>2021.09.17</td>\n",
       "      <td>댄스</td>\n",
       "      <td>33515</td>\n",
       "      <td>Bye 아무렇지 않게 인사한 채Why 우린 아직까지 닿지 못해Lie 가끔 거짓말이었...</td>\n",
       "    </tr>\n",
       "    <tr>\n",
       "      <th>99</th>\n",
       "      <td>Dolphin</td>\n",
       "      <td>오마이걸 (OH MY GIRL)</td>\n",
       "      <td>NONSTOP</td>\n",
       "      <td>2020.04.27</td>\n",
       "      <td>댄스</td>\n",
       "      <td>192064</td>\n",
       "      <td>oh my god 타이밍이 참 얄미워오늘 같은 날 마주쳐 이게 뭐야머리는 엉망인 데...</td>\n",
       "    </tr>\n",
       "  </tbody>\n",
       "</table>\n",
       "</div>"
      ],
      "text/plain": [
       "                        곡명                 가수                       앨범  \\\n",
       "97        12:45 (Stripped)              Etham         12:45 (Stripped)   \n",
       "98  다시 만나는 날 (Promise You)            NCT 127  Sticker - The 3rd Album   \n",
       "99                 Dolphin  오마이걸 (OH MY GIRL)                  NONSTOP   \n",
       "\n",
       "           발매일   장르     좋아요                                                 가사  \n",
       "97  2018.10.26  POP  150614  It's 12 45 on a Tuesdayand I don't really care...  \n",
       "98  2021.09.17   댄스   33515  Bye 아무렇지 않게 인사한 채Why 우린 아직까지 닿지 못해Lie 가끔 거짓말이었...  \n",
       "99  2020.04.27   댄스  192064  oh my god 타이밍이 참 얄미워오늘 같은 날 마주쳐 이게 뭐야머리는 엉망인 데...  "
      ]
     },
     "execution_count": 66,
     "metadata": {},
     "output_type": "execute_result"
    }
   ],
   "source": [
    "song_df.tail(3)"
   ]
  },
  {
   "cell_type": "code",
   "execution_count": 68,
   "id": "35bd8fd9",
   "metadata": {},
   "outputs": [
    {
     "data": {
      "text/html": [
       "<div>\n",
       "<style scoped>\n",
       "    .dataframe tbody tr th:only-of-type {\n",
       "        vertical-align: middle;\n",
       "    }\n",
       "\n",
       "    .dataframe tbody tr th {\n",
       "        vertical-align: top;\n",
       "    }\n",
       "\n",
       "    .dataframe thead th {\n",
       "        text-align: right;\n",
       "    }\n",
       "</style>\n",
       "<table border=\"1\" class=\"dataframe\">\n",
       "  <thead>\n",
       "    <tr style=\"text-align: right;\">\n",
       "      <th></th>\n",
       "      <th>곡명</th>\n",
       "      <th>가수</th>\n",
       "      <th>앨범</th>\n",
       "      <th>발매일</th>\n",
       "      <th>장르</th>\n",
       "      <th>좋아요</th>\n",
       "      <th>가사</th>\n",
       "    </tr>\n",
       "  </thead>\n",
       "  <tbody>\n",
       "    <tr>\n",
       "      <th>42</th>\n",
       "      <td>사이렌 Remix (Feat. UNEDUCATED KID, Paul Blanco)</td>\n",
       "      <td>호미들</td>\n",
       "      <td>사이렌 Remix</td>\n",
       "      <td>2021.03.20</td>\n",
       "      <td>랩/힙합</td>\n",
       "      <td>112377</td>\n",
       "      <td>울려댔어 사이렌텅 빈 길거리엔도망치다 흘린 칼자루와 피가 흥건해우리 그때 어릴땐뭘 ...</td>\n",
       "    </tr>\n",
       "  </tbody>\n",
       "</table>\n",
       "</div>"
      ],
      "text/plain": [
       "                                               곡명   가수         앨범         발매일  \\\n",
       "42  사이렌 Remix (Feat. UNEDUCATED KID, Paul Blanco)  호미들  사이렌 Remix  2021.03.20   \n",
       "\n",
       "      장르     좋아요                                                 가사  \n",
       "42  랩/힙합  112377  울려댔어 사이렌텅 빈 길거리엔도망치다 흘린 칼자루와 피가 흥건해우리 그때 어릴땐뭘 ...  "
      ]
     },
     "execution_count": 68,
     "metadata": {},
     "output_type": "execute_result"
    }
   ],
   "source": [
    "song_df.sample()"
   ]
  },
  {
   "cell_type": "code",
   "execution_count": 76,
   "id": "fb34633e",
   "metadata": {},
   "outputs": [
    {
     "name": "stdout",
     "output_type": "stream",
     "text": [
      "shape (100, 7)\n",
      "columns Index(['곡명', '가수', '앨범', '발매일', '장르', '좋아요', '가사'], dtype='object')\n",
      "index RangeIndex(start=0, stop=100, step=1)\n",
      "<class 'numpy.ndarray'>\n"
     ]
    }
   ],
   "source": [
    "print('shape', song_df.shape)\n",
    "print('columns', song_df.columns)\n",
    "print('index', song_df.index)\n",
    "#print('values', song_df.values[0:1])\n",
    "print(type(song_df.values))"
   ]
  },
  {
   "cell_type": "code",
   "execution_count": 78,
   "id": "07ccc3d3",
   "metadata": {},
   "outputs": [
    {
     "name": "stdout",
     "output_type": "stream",
     "text": [
      "<class 'pandas.core.frame.DataFrame'>\n",
      "RangeIndex: 100 entries, 0 to 99\n",
      "Data columns (total 7 columns):\n",
      " #   Column  Non-Null Count  Dtype \n",
      "---  ------  --------------  ----- \n",
      " 0   곡명      100 non-null    object\n",
      " 1   가수      100 non-null    object\n",
      " 2   앨범      100 non-null    object\n",
      " 3   발매일     100 non-null    object\n",
      " 4   장르      100 non-null    object\n",
      " 5   좋아요     100 non-null    int64 \n",
      " 6   가사      100 non-null    object\n",
      "dtypes: int64(1), object(6)\n",
      "memory usage: 5.6+ KB\n"
     ]
    }
   ],
   "source": [
    "song_df.info()"
   ]
  },
  {
   "cell_type": "code",
   "execution_count": 80,
   "id": "ba9290fc",
   "metadata": {},
   "outputs": [
    {
     "data": {
      "text/plain": [
       "Index(['곡명', '가수', '앨범', '발매일', '장르', '좋아요', '가사'], dtype='object')"
      ]
     },
     "execution_count": 80,
     "metadata": {},
     "output_type": "execute_result"
    }
   ],
   "source": [
    "# 특정 컬럼1개 선택\n",
    "song_df.columns"
   ]
  },
  {
   "cell_type": "code",
   "execution_count": 83,
   "id": "724b4c34",
   "metadata": {},
   "outputs": [
    {
     "name": "stdout",
     "output_type": "stream",
     "text": [
      "<class 'pandas.core.series.Series'>\n"
     ]
    },
    {
     "data": {
      "text/plain": [
       "0           STAY\n",
       "1            신호등\n",
       "2    My Universe\n",
       "Name: 곡명, dtype: object"
      ]
     },
     "execution_count": 83,
     "metadata": {},
     "output_type": "execute_result"
    }
   ],
   "source": [
    "print(type(song_df['곡명']))\n",
    "song_df['곡명'].head(3)"
   ]
  },
  {
   "cell_type": "code",
   "execution_count": 86,
   "id": "68c7f057",
   "metadata": {},
   "outputs": [
    {
     "data": {
      "text/plain": [
       "임영웅                  12\n",
       "NCT 127               7\n",
       "방탄소년단                 6\n",
       "아이유                   6\n",
       "브레이브걸스                3\n",
       "이무진                   3\n",
       "조정석                   2\n",
       "오마이걸 (OH MY GIRL)     2\n",
       "장범준                   2\n",
       "마크툽 (MAKTUB)          2\n",
       "Name: 가수, dtype: int64"
      ]
     },
     "execution_count": 86,
     "metadata": {},
     "output_type": "execute_result"
    }
   ],
   "source": [
    "# row counting  value_counts()\n",
    "song_df['가수'].value_counts().head(10)"
   ]
  },
  {
   "cell_type": "code",
   "execution_count": 88,
   "id": "8e09369d",
   "metadata": {},
   "outputs": [
    {
     "data": {
      "text/plain": [
       "댄스                26\n",
       "발라드               18\n",
       "성인가요              10\n",
       "랩/힙합              10\n",
       "POP                8\n",
       "발라드, 국내드라마         7\n",
       "록/메탈               6\n",
       "록/메탈, 국내드라마        4\n",
       "R&B/Soul           4\n",
       "R&B/Soul, 인디음악     3\n",
       "Name: 장르, dtype: int64"
      ]
     },
     "execution_count": 88,
     "metadata": {},
     "output_type": "execute_result"
    }
   ],
   "source": [
    "song_df['장르'].value_counts().head(10)"
   ]
  },
  {
   "cell_type": "code",
   "execution_count": 90,
   "id": "eeef0d10",
   "metadata": {},
   "outputs": [
    {
     "data": {
      "text/plain": [
       "array(['POP', '록/메탈', '댄스', '랩/힙합', '발라드', '발라드, 국내드라마', '성인가요',\n",
       "       'R&B/Soul', '포크/블루스', '발라드, 인디음악', '록/메탈, 국내드라마', 'R&B/Soul, 인디음악',\n",
       "       '일렉트로니카', '인디음악, 포크/블루스'], dtype=object)"
      ]
     },
     "execution_count": 90,
     "metadata": {},
     "output_type": "execute_result"
    }
   ],
   "source": [
    "# 고유한 값을 제공하는 unique() \n",
    "song_df['장르'].unique()"
   ]
  },
  {
   "cell_type": "code",
   "execution_count": 93,
   "id": "cf198b79",
   "metadata": {},
   "outputs": [
    {
     "data": {
      "text/html": [
       "<div>\n",
       "<style scoped>\n",
       "    .dataframe tbody tr th:only-of-type {\n",
       "        vertical-align: middle;\n",
       "    }\n",
       "\n",
       "    .dataframe tbody tr th {\n",
       "        vertical-align: top;\n",
       "    }\n",
       "\n",
       "    .dataframe thead th {\n",
       "        text-align: right;\n",
       "    }\n",
       "</style>\n",
       "<table border=\"1\" class=\"dataframe\">\n",
       "  <thead>\n",
       "    <tr style=\"text-align: right;\">\n",
       "      <th></th>\n",
       "      <th>곡명</th>\n",
       "      <th>가수</th>\n",
       "      <th>앨범</th>\n",
       "      <th>발매일</th>\n",
       "      <th>장르</th>\n",
       "      <th>좋아요</th>\n",
       "      <th>가사</th>\n",
       "    </tr>\n",
       "  </thead>\n",
       "  <tbody>\n",
       "    <tr>\n",
       "      <th>57</th>\n",
       "      <td>Hey Mama (Feat. Nicki Minaj, Bebe Rexha &amp; Afro...</td>\n",
       "      <td>David Guetta</td>\n",
       "      <td>Listen</td>\n",
       "      <td>2014.11.25</td>\n",
       "      <td>일렉트로니카</td>\n",
       "      <td>40396</td>\n",
       "      <td></td>\n",
       "    </tr>\n",
       "  </tbody>\n",
       "</table>\n",
       "</div>"
      ],
      "text/plain": [
       "                                                   곡명            가수      앨범  \\\n",
       "57  Hey Mama (Feat. Nicki Minaj, Bebe Rexha & Afro...  David Guetta  Listen   \n",
       "\n",
       "           발매일      장르    좋아요 가사  \n",
       "57  2014.11.25  일렉트로니카  40396     "
      ]
     },
     "execution_count": 93,
     "metadata": {},
     "output_type": "execute_result"
    }
   ],
   "source": [
    "# empty string check \n",
    "# boolean indexing\n",
    "#song_df['가사'] == ''\n",
    "song_df.loc[song_df['가사'] == '']"
   ]
  },
  {
   "cell_type": "code",
   "execution_count": 96,
   "id": "b841649d",
   "metadata": {},
   "outputs": [
    {
     "data": {
      "text/plain": [
       "3                           Permission to Dance\n",
       "7                                        Butter\n",
       "11                                     Dynamite\n",
       "40    작은 것들을 위한 시 (Boy With Luv) (Feat. Halsey)\n",
       "47                                           봄날\n",
       "50                                 Life Goes On\n",
       "Name: 곡명, dtype: object"
      ]
     },
     "execution_count": 96,
     "metadata": {},
     "output_type": "execute_result"
    }
   ],
   "source": [
    "song_df.loc[song_df['가수'] == '방탄소년단','곡명']"
   ]
  },
  {
   "cell_type": "markdown",
   "id": "638e657c",
   "metadata": {},
   "source": [
    "### 특정 행과 열을 선택\n",
    "* loc[] 과 iloc[]  property 사용\n",
    "* Slicing 사용\n",
    "* 여러개의 행과 열을 선택 [] 사용\n",
    "* 조건식을 사용"
   ]
  },
  {
   "cell_type": "code",
   "execution_count": 99,
   "id": "5ae15183",
   "metadata": {},
   "outputs": [
    {
     "data": {
      "text/html": [
       "<div>\n",
       "<style scoped>\n",
       "    .dataframe tbody tr th:only-of-type {\n",
       "        vertical-align: middle;\n",
       "    }\n",
       "\n",
       "    .dataframe tbody tr th {\n",
       "        vertical-align: top;\n",
       "    }\n",
       "\n",
       "    .dataframe thead th {\n",
       "        text-align: right;\n",
       "    }\n",
       "</style>\n",
       "<table border=\"1\" class=\"dataframe\">\n",
       "  <thead>\n",
       "    <tr style=\"text-align: right;\">\n",
       "      <th></th>\n",
       "      <th>곡명</th>\n",
       "      <th>가수</th>\n",
       "      <th>앨범</th>\n",
       "      <th>발매일</th>\n",
       "      <th>장르</th>\n",
       "    </tr>\n",
       "  </thead>\n",
       "  <tbody>\n",
       "    <tr>\n",
       "      <th>0</th>\n",
       "      <td>STAY</td>\n",
       "      <td>The Kid LAROI</td>\n",
       "      <td>Stay</td>\n",
       "      <td>2021.07.09</td>\n",
       "      <td>POP</td>\n",
       "    </tr>\n",
       "    <tr>\n",
       "      <th>1</th>\n",
       "      <td>신호등</td>\n",
       "      <td>이무진</td>\n",
       "      <td>신호등</td>\n",
       "      <td>2021.05.14</td>\n",
       "      <td>록/메탈</td>\n",
       "    </tr>\n",
       "    <tr>\n",
       "      <th>2</th>\n",
       "      <td>My Universe</td>\n",
       "      <td>Coldplay</td>\n",
       "      <td>My Universe</td>\n",
       "      <td>2021.09.24</td>\n",
       "      <td>POP</td>\n",
       "    </tr>\n",
       "    <tr>\n",
       "      <th>3</th>\n",
       "      <td>Permission to Dance</td>\n",
       "      <td>방탄소년단</td>\n",
       "      <td>Butter / Permission to Dance</td>\n",
       "      <td>2021.07.09</td>\n",
       "      <td>댄스</td>\n",
       "    </tr>\n",
       "    <tr>\n",
       "      <th>4</th>\n",
       "      <td>OHAYO MY NIGHT</td>\n",
       "      <td>디핵 (D-Hack)</td>\n",
       "      <td>OHAYO MY NIGHT</td>\n",
       "      <td>2020.06.20</td>\n",
       "      <td>랩/힙합</td>\n",
       "    </tr>\n",
       "    <tr>\n",
       "      <th>5</th>\n",
       "      <td>Next Level</td>\n",
       "      <td>aespa</td>\n",
       "      <td>Next Level</td>\n",
       "      <td>2021.05.17</td>\n",
       "      <td>댄스</td>\n",
       "    </tr>\n",
       "  </tbody>\n",
       "</table>\n",
       "</div>"
      ],
      "text/plain": [
       "                    곡명             가수                            앨범  \\\n",
       "0                 STAY  The Kid LAROI                          Stay   \n",
       "1                  신호등            이무진                           신호등   \n",
       "2          My Universe       Coldplay                   My Universe   \n",
       "3  Permission to Dance          방탄소년단  Butter / Permission to Dance   \n",
       "4       OHAYO MY NIGHT    디핵 (D-Hack)                OHAYO MY NIGHT   \n",
       "5           Next Level          aespa                    Next Level   \n",
       "\n",
       "          발매일    장르  \n",
       "0  2021.07.09   POP  \n",
       "1  2021.05.14  록/메탈  \n",
       "2  2021.09.24   POP  \n",
       "3  2021.07.09    댄스  \n",
       "4  2020.06.20  랩/힙합  \n",
       "5  2021.05.17    댄스  "
      ]
     },
     "execution_count": 99,
     "metadata": {},
     "output_type": "execute_result"
    }
   ],
   "source": [
    "# 인덱스가 0부터 5인 행과 곡명부터 장르까지의 열을 선택 (slicing)\n",
    "song_df.loc[0:5,'곡명':'장르']"
   ]
  },
  {
   "cell_type": "code",
   "execution_count": 104,
   "id": "d80ed344",
   "metadata": {},
   "outputs": [
    {
     "data": {
      "text/html": [
       "<div>\n",
       "<style scoped>\n",
       "    .dataframe tbody tr th:only-of-type {\n",
       "        vertical-align: middle;\n",
       "    }\n",
       "\n",
       "    .dataframe tbody tr th {\n",
       "        vertical-align: top;\n",
       "    }\n",
       "\n",
       "    .dataframe thead th {\n",
       "        text-align: right;\n",
       "    }\n",
       "</style>\n",
       "<table border=\"1\" class=\"dataframe\">\n",
       "  <thead>\n",
       "    <tr style=\"text-align: right;\">\n",
       "      <th></th>\n",
       "      <th>곡명</th>\n",
       "      <th>앨범</th>\n",
       "      <th>장르</th>\n",
       "      <th>가사</th>\n",
       "    </tr>\n",
       "  </thead>\n",
       "  <tbody>\n",
       "    <tr>\n",
       "      <th>0</th>\n",
       "      <td>STAY</td>\n",
       "      <td>Stay</td>\n",
       "      <td>POP</td>\n",
       "      <td>I do the same thing I told youthat I never wou...</td>\n",
       "    </tr>\n",
       "    <tr>\n",
       "      <th>2</th>\n",
       "      <td>My Universe</td>\n",
       "      <td>My Universe</td>\n",
       "      <td>POP</td>\n",
       "      <td>You, you are my universe andI just want to put...</td>\n",
       "    </tr>\n",
       "    <tr>\n",
       "      <th>4</th>\n",
       "      <td>OHAYO MY NIGHT</td>\n",
       "      <td>OHAYO MY NIGHT</td>\n",
       "      <td>랩/힙합</td>\n",
       "      <td>너를 사랑하고 있어너를 사랑하고 있어자기야 날 사랑해주면 안 될까말처럼 쉽지는 않은...</td>\n",
       "    </tr>\n",
       "    <tr>\n",
       "      <th>6</th>\n",
       "      <td>바라만 본다</td>\n",
       "      <td>MSG워너비 1집</td>\n",
       "      <td>발라드</td>\n",
       "      <td>내가 너라면 다 알아볼 텐데널 위할 사람 찾아낼 텐데지난 오랜 시간 너의 그 곁을지...</td>\n",
       "    </tr>\n",
       "    <tr>\n",
       "      <th>8</th>\n",
       "      <td>낙하 (with 아이유)</td>\n",
       "      <td>NEXT EPISODE</td>\n",
       "      <td>록/메탈</td>\n",
       "      <td>말했잖아 언젠가이런 날이 온다면난 널 혼자 내버려두지 않을 거라고 죄다 낭떠러지야,...</td>\n",
       "    </tr>\n",
       "    <tr>\n",
       "      <th>10</th>\n",
       "      <td>좋아좋아</td>\n",
       "      <td>슬기로운 의사생활 시즌2 OST Part 5</td>\n",
       "      <td>발라드, 국내드라마</td>\n",
       "      <td>처음 널 만나는 날노란 세 송이 장미를 들고룰루랄라 신촌을 향하는내 가슴은 마냥 두...</td>\n",
       "    </tr>\n",
       "  </tbody>\n",
       "</table>\n",
       "</div>"
      ],
      "text/plain": [
       "                곡명                        앨범          장르  \\\n",
       "0             STAY                      Stay         POP   \n",
       "2      My Universe               My Universe         POP   \n",
       "4   OHAYO MY NIGHT            OHAYO MY NIGHT        랩/힙합   \n",
       "6           바라만 본다                 MSG워너비 1집         발라드   \n",
       "8    낙하 (with 아이유)              NEXT EPISODE        록/메탈   \n",
       "10            좋아좋아  슬기로운 의사생활 시즌2 OST Part 5  발라드, 국내드라마   \n",
       "\n",
       "                                                   가사  \n",
       "0   I do the same thing I told youthat I never wou...  \n",
       "2   You, you are my universe andI just want to put...  \n",
       "4   너를 사랑하고 있어너를 사랑하고 있어자기야 날 사랑해주면 안 될까말처럼 쉽지는 않은...  \n",
       "6   내가 너라면 다 알아볼 텐데널 위할 사람 찾아낼 텐데지난 오랜 시간 너의 그 곁을지...  \n",
       "8   말했잖아 언젠가이런 날이 온다면난 널 혼자 내버려두지 않을 거라고 죄다 낭떠러지야,...  \n",
       "10  처음 널 만나는 날노란 세 송이 장미를 들고룰루랄라 신촌을 향하는내 가슴은 마냥 두...  "
      ]
     },
     "execution_count": 104,
     "metadata": {},
     "output_type": "execute_result"
    }
   ],
   "source": [
    "# 인덱스가 0부터 5인 행, 하나씩 skip\n",
    "song_df.loc[0:10:2,'곡명':'가사':2]"
   ]
  },
  {
   "cell_type": "code",
   "execution_count": 105,
   "id": "17aa20a1",
   "metadata": {},
   "outputs": [
    {
     "data": {
      "text/html": [
       "<div>\n",
       "<style scoped>\n",
       "    .dataframe tbody tr th:only-of-type {\n",
       "        vertical-align: middle;\n",
       "    }\n",
       "\n",
       "    .dataframe tbody tr th {\n",
       "        vertical-align: top;\n",
       "    }\n",
       "\n",
       "    .dataframe thead th {\n",
       "        text-align: right;\n",
       "    }\n",
       "</style>\n",
       "<table border=\"1\" class=\"dataframe\">\n",
       "  <thead>\n",
       "    <tr style=\"text-align: right;\">\n",
       "      <th></th>\n",
       "      <th>곡명</th>\n",
       "      <th>가수</th>\n",
       "      <th>좋아요</th>\n",
       "    </tr>\n",
       "  </thead>\n",
       "  <tbody>\n",
       "    <tr>\n",
       "      <th>0</th>\n",
       "      <td>STAY</td>\n",
       "      <td>The Kid LAROI</td>\n",
       "      <td>155350</td>\n",
       "    </tr>\n",
       "    <tr>\n",
       "      <th>5</th>\n",
       "      <td>Next Level</td>\n",
       "      <td>aespa</td>\n",
       "      <td>207149</td>\n",
       "    </tr>\n",
       "    <tr>\n",
       "      <th>9</th>\n",
       "      <td>Weekend</td>\n",
       "      <td>태연 (TAEYEON)</td>\n",
       "      <td>138904</td>\n",
       "    </tr>\n",
       "    <tr>\n",
       "      <th>11</th>\n",
       "      <td>Dynamite</td>\n",
       "      <td>방탄소년단</td>\n",
       "      <td>424000</td>\n",
       "    </tr>\n",
       "    <tr>\n",
       "      <th>15</th>\n",
       "      <td>Bad Habits</td>\n",
       "      <td>Ed Sheeran</td>\n",
       "      <td>72727</td>\n",
       "    </tr>\n",
       "  </tbody>\n",
       "</table>\n",
       "</div>"
      ],
      "text/plain": [
       "            곡명             가수     좋아요\n",
       "0         STAY  The Kid LAROI  155350\n",
       "5   Next Level          aespa  207149\n",
       "9      Weekend   태연 (TAEYEON)  138904\n",
       "11    Dynamite          방탄소년단  424000\n",
       "15  Bad Habits     Ed Sheeran   72727"
      ]
     },
     "execution_count": 105,
     "metadata": {},
     "output_type": "execute_result"
    }
   ],
   "source": [
    "# 특정 행과 열을 여러개 선택\n",
    "song_df.loc[[0,5,9,11,15],['곡명','가수','좋아요']]"
   ]
  }
 ],
 "metadata": {
  "kernelspec": {
   "display_name": "Python 3",
   "language": "python",
   "name": "python3"
  },
  "language_info": {
   "codemirror_mode": {
    "name": "ipython",
    "version": 3
   },
   "file_extension": ".py",
   "mimetype": "text/x-python",
   "name": "python",
   "nbconvert_exporter": "python",
   "pygments_lexer": "ipython3",
   "version": "3.8.8"
  }
 },
 "nbformat": 4,
 "nbformat_minor": 5
}
