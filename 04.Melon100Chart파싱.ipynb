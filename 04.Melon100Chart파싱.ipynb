{
 "cells": [
  {
   "cell_type": "markdown",
   "id": "20640bfa",
   "metadata": {},
   "source": [
    "### Melon 100 Chart \n",
    "* 100곡의 노래의 제목, Song ID추출\n",
    "* Song ID로 노래의 상세정보를 100 번 요청\n",
    "* 100곡의 정보를 json에 저장\n",
    "* json file을 읽어서 Pandas DataFrame에 저장해서 표데이터로 만들기\n",
    "* 표데이터를 DB에 저장"
   ]
  },
  {
   "cell_type": "code",
   "execution_count": 41,
   "id": "e48ef488",
   "metadata": {},
   "outputs": [
    {
     "name": "stdout",
     "output_type": "stream",
     "text": [
      "100\n"
     ]
    },
    {
     "data": {
      "text/plain": [
       "[{'title': 'STAY',\n",
       "  'id': '33658563',\n",
       "  'url': 'https://www.melon.com/song/detail.htm?songId=33658563'},\n",
       " {'title': '신호등',\n",
       "  'id': '33480898',\n",
       "  'url': 'https://www.melon.com/song/detail.htm?songId=33480898'},\n",
       " {'title': 'My Universe',\n",
       "  'id': '33998510',\n",
       "  'url': 'https://www.melon.com/song/detail.htm?songId=33998510'},\n",
       " {'title': 'Permission to Dance',\n",
       "  'id': '33666269',\n",
       "  'url': 'https://www.melon.com/song/detail.htm?songId=33666269'}]"
      ]
     },
     "execution_count": 41,
     "metadata": {},
     "output_type": "execute_result"
    }
   ],
   "source": [
    "import requests\n",
    "from bs4 import BeautifulSoup\n",
    "import re\n",
    "\n",
    "req_header = {\n",
    "    \"User-Agent\": \"Mozilla/5.0 (Windows NT 10.0; Win64; x64) AppleWebKit/537.36 (KHTML, like Gecko) Chrome/93.0.4577.82 Safari/537.36\"\n",
    "}\n",
    "url = 'https://www.melon.com/chart/index.htm'\n",
    "\n",
    "res = requests.get(url, headers=req_header)\n",
    "#print(res.status_code)\n",
    "soup = BeautifulSoup(res.text, 'html.parser')\n",
    "# print(len(soup.select(\"a[href*='playSong']\")))\n",
    "# print(len(soup.select('div#tb_list'))) #1개\n",
    "# print(len(soup.select('div#tb_list tr'))) #101\n",
    "# print(len(soup.select('div#tb_list tr div.wrap_song_info'))) #200\n",
    "# print(len(soup.select('div#tb_list tr div.wrap_song_info a'))) #427\n",
    "# print(len(soup.select(\"div#tb_list tr div.wrap_song_info a[href*='playSong']\"))) #100\n",
    "\n",
    "#100곡의 song 정보를 저장할 list 선언\n",
    "song_list = list()\n",
    "\n",
    "atags = soup.select(\"div#tb_list tr div.wrap_song_info a[href*='playSong']\")\n",
    "for idx,atag in enumerate(atags,1):\n",
    "    #1곡의 song 정보를 저장할 dict 선언\n",
    "    song_dict = dict()\n",
    "    title = atag.text\n",
    "    song_dict['title'] = title\n",
    "    href = atag['href']\n",
    "    matched = re.search(r'(\\d+)\\);', href)\n",
    "    song_id = matched.group(1)\n",
    "    song_dict['id'] = song_id\n",
    "    song_url = f'https://www.melon.com/song/detail.htm?songId={song_id}'\n",
    "    #print(idx,title, song_url)\n",
    "    song_dict['url'] = song_url\n",
    "    #print(idx, song_dict)\n",
    "    song_list.append(song_dict)\n",
    "\n",
    "print(len(song_list))    \n",
    "song_list[0:4]"
   ]
  },
  {
   "cell_type": "markdown",
   "id": "8044f7ba",
   "metadata": {},
   "source": [
    "### 100곡의 Song의 상세정보 파싱하기"
   ]
  },
  {
   "cell_type": "code",
   "execution_count": 47,
   "id": "48253c34",
   "metadata": {},
   "outputs": [
    {
     "name": "stdout",
     "output_type": "stream",
     "text": [
      "\n",
      "\t\t\t\t\t\t\tI do the same thing I told youthat I never wouldI told you I'd changeeven when I knew I never couldI know that I can't findnobody elseas good as youI need you to stayneed you to stay hey OhI get drunk wake upI'm wasted stillI realize the timethat I wasted hereI feel like you can'tfeel the way I feelOh I'll be fucked upif you can't be right hereOh ooh-woahOh ooh-woah ooh-woahOh ooh-woahOh ooh-woah ooh-woahOh ooh-woahOh ooh-woah ooh-woahOh I'll be fucked upif you can't be right hereI do the same thing I told youthat I never wouldI told you I'd changeeven when I knew I never couldI know that I can't findnobody elseas good as youI need you to stayneed you to stay heyI do the same thing I told youthat I never wouldI told you I'd changeeven when I knew I never couldI know that I can't findnobody elseas good as youI need you to stayneed you to stay heyWhen I'm away from youI miss your touch OohYou're the reasonI believe in love OohIt's been difficultfor me to trust OohAnd I'm afraidthat I'ma fuck it up OohAin't no waythat I can leave you stranded'Cause you ain't ever left meempty-handedAnd you know that I knowthat I can't live without youSo baby stayOh ooh-woahOh ooh-woah ooh-woahOh ooh-woahOh ooh-woah ooh-woahOh ooh-woahOh ooh-woah ooh-woahI'll be fucked upif you can't be right hereI do the same thing I told youthat I never wouldI told you I'd changeeven when I knew I never couldI know that I can't findnobody elseas good as youI need you to stayneed you to stay heyI do the same thingI told you that I never wouldI told you I'd changeeven when I knew I never couldI know that I can't findnobody elseas good as youI need you to stayneed you to stay heyWoah-ohI need you to stayneed you to stay hey\n",
      "\n",
      "\n",
      "\t\t\t\t\t\t\t이제야 목적지를 정했지만가려한 날 막아서네 난 갈 길이 먼데새빨간 얼굴로 화를 냈던친구가 생각나네이미 난 발걸음을 떼었지만가려한 날 재촉하네 걷기도 힘든데새파랗게 겁에 질려 도망간친구가 뇌에 맴도네건반처럼 생긴 도로 위수많은 동그라미들 모두가멈췄다 굴렀다 말은 잘 들어그건 나도 문제가 아냐붉은색 푸른색 그 사이3초 그 짧은 시간노란색 빛을 내는저기 저 신호등이내 머릿속을 텅 비워버려내가 빠른지도느린지도 모르겠어그저 눈앞이 샛노랄 뿐이야솔직히 말하자면 차라리운전대를 못 잡던 어릴 때가더 좋았었던 것 같아그땐 함께 온 세상을거닐 친구가 있었으니건반처럼 생긴 도로 위수많은 조명들이 날 빠르게번갈아 가며 비추고 있지만난 아직 초짜란 말이야붉은색 푸른색 그 사이3초 그 짧은 시간노란색 빛을 내는 저기 저 신호등이내 머릿속을 텅 비워버려내가 빠른지도느린지도 모르겠어그저 눈앞이 샛노랄 뿐이야꼬질꼬질한 사람이나부자 곁엔 아무도 없는삼색 조명과 이색 칠 위에서 있어 괴롭히지 마붉은색 푸른색 그 사이3초 그 짧은 시간노란색 빛을 내는 저기 저 신호등이내 머릿속을 텅 비워버려내가 빠른지도느린지도 모르겠어그저 눈앞이 샛노랄 뿐이야\n",
      "\n",
      "\n",
      "\t\t\t\t\t\t\tYou, you are my universe andI just want to put you firstAnd you, you are my universe, and I…In the night I lie and look up at youWhen the morning comes I watch you riseThere’s a paradise they couldn’t captureThat bright infinity inside your eyes매일 밤 네게 날아가 (가)꿈이란 것도 잊은 채나 웃으며 너를 만나 (나)Never ending forever babyYou, you are my universe andI just want to put you firstAnd you, you are my universe, andYou make my world light up inside어둠이 내겐 더 편했었지길어진 그림자 속에서 (eyes)And they said that we can’t be togetherBecauseBecause we come from different sidesYou, you are my universe andI just want to put you firstAnd you, you are my universe, andYou make my world light up insideMy universe (do do, do do)My universe (do do, do do)My universe (do do, do do)(you make my world)You make my world light up insideMake my world light up inside나를 밝혀주는 건너란 사랑으로 수 놓아진 별내 우주의 넌또 다른 세상을 만들어 주는 걸너는 내 별이자 나의 우주니까지금 이 시련도 결국엔 잠시니까너는 언제까지나 지금처럼 밝게만 빛나줘우리는 너를 따라 이 긴 밤을 수놓을 거야너와 함께 날아가 (가)When I’m without you I’m crazy자 어서 내 손을 잡아 (아)We are made of each other babyYou, you are my universe andI just want to put you firstAnd you, you are my universe, andYou make my world light up insideMy universe (you, you are)My universe (I just want)My universe (you, you are)My universe, and IMy universe\n",
      "\t\t\t\t\t\n"
     ]
    }
   ],
   "source": [
    "import requests\n",
    "from bs4 import BeautifulSoup\n",
    "import re\n",
    "\n",
    "req_header = {\n",
    "    \"User-Agent\": \"Mozilla/5.0 (Windows NT 10.0; Win64; x64) AppleWebKit/537.36 (KHTML, like Gecko) Chrome/93.0.4577.82 Safari/537.36\"\n",
    "}\n",
    "#100곡의 Song 상세정보를 저장할 list 선언\n",
    "song_detail_list = []\n",
    "for idx,song in enumerate(song_list[0:3],1):\n",
    "    #1곡의 Song 상세정보를 저장할 dict 선언\n",
    "    song_detail_dict = {}\n",
    "    res = requests.get(song['url'], headers=req_header)\n",
    "    soup = BeautifulSoup(res.text, 'html.parser')\n",
    "    #노래제목\n",
    "    song_detail_dict['곡명'] = song['title']\n",
    "    #가수\n",
    "    song_detail_dict['가수'] = soup.select(\"a[href*='goArtistDetail'] span\")[0].text\n",
    "    #앨범\n",
    "    song_detail_dict['앨범'] = soup.select('div.meta dd')[0].text\n",
    "    #발매일\n",
    "    song_detail_dict['발매일'] = soup.select('div.meta dd')[1].text\n",
    "    #장르\n",
    "    song_detail_dict['장르'] = soup.select('div.meta dd')[2].text\n",
    "    #좋아요 건수\n",
    "    song_id = song['id']\n",
    "    like_url = f'https://www.melon.com/commonlike/getSongLike.json?contsIds={song_id}'\n",
    "    like_res = requests.get(like_url, headers=req_header)\n",
    "    #print(song['title'], like_res.json()['contsLike'][0]['SUMMCNT'])\n",
    "    song_detail_dict['좋아요'] = like_res.json()['contsLike'][0]['SUMMCNT']\n",
    "    #가사\n",
    "    lyric_tag = soup.select('div#d_video_summary')\n",
    "    if lyric_tag:\n",
    "        lyric = lyric_tag[0].text\n",
    "        #print(lyric)\n",
    "    else:\n",
    "        lyric = ''\n",
    "    \n",
    "    song_detail_dict['가사'] = lyric\n",
    "    print(song_detail_dict)\n",
    "    "
   ]
  }
 ],
 "metadata": {
  "kernelspec": {
   "display_name": "Python 3",
   "language": "python",
   "name": "python3"
  },
  "language_info": {
   "codemirror_mode": {
    "name": "ipython",
    "version": 3
   },
   "file_extension": ".py",
   "mimetype": "text/x-python",
   "name": "python",
   "nbconvert_exporter": "python",
   "pygments_lexer": "ipython3",
   "version": "3.8.8"
  }
 },
 "nbformat": 4,
 "nbformat_minor": 5
}
