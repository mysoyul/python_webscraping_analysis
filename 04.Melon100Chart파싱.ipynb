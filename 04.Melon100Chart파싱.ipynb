{
 "cells": [
  {
   "cell_type": "markdown",
   "id": "93530fb6",
   "metadata": {},
   "source": [
    "### Melon 100 Chart \n",
    "* 100곡의 노래의 제목, Song ID추출\n",
    "* Song ID로 노래의 상세정보를 100 번 요청\n",
    "* 100곡의 정보를 json에 저장\n",
    "* json file을 읽어서 Pandas DataFrame에 저장해서 표데이터로 만들기\n",
    "* 표데이터를 DB에 저장"
   ]
  },
  {
   "cell_type": "code",
   "execution_count": 2,
   "id": "358038c4",
   "metadata": {},
   "outputs": [
    {
     "data": {
      "text/plain": [
       "{'User-Agent': 'Mozilla/5.0 (Windows NT 10.0; Win64; x64) AppleWebKit/537.36 (KHTML, like Gecko) Chrome/93.0.4577.82 Safari/537.36'}"
      ]
     },
     "execution_count": 2,
     "metadata": {},
     "output_type": "execute_result"
    }
   ],
   "source": [
    "import requests\n",
    "from bs4 import BeautifulSoup\n",
    "import re\n",
    "\n",
    "req_header = {\n",
    "    \"User-Agent\": \"Mozilla/5.0 (Windows NT 10.0; Win64; x64) AppleWebKit/537.36 (KHTML, like Gecko) Chrome/93.0.4577.82 Safari/537.36\"\n",
    "}\n",
    "req_header"
   ]
  },
  {
   "cell_type": "code",
   "execution_count": null,
   "id": "3a437611",
   "metadata": {},
   "outputs": [],
   "source": []
  }
 ],
 "metadata": {
  "kernelspec": {
   "display_name": "Python 3",
   "language": "python",
   "name": "python3"
  },
  "language_info": {
   "codemirror_mode": {
    "name": "ipython",
    "version": 3
   },
   "file_extension": ".py",
   "mimetype": "text/x-python",
   "name": "python",
   "nbconvert_exporter": "python",
   "pygments_lexer": "ipython3",
   "version": "3.8.8"
  }
 },
 "nbformat": 4,
 "nbformat_minor": 5
}
