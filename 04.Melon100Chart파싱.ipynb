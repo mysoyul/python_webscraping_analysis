{
 "cells": [
  {
   "cell_type": "markdown",
   "id": "33ec5d49",
   "metadata": {},
   "source": [
    "### Melon 100 Chart \n",
    "* 100곡의 노래의 제목, Song ID추출\n",
    "* Song ID로 노래의 상세정보를 100 번 요청\n",
    "* 100곡의 정보를 json에 저장\n",
    "* json file을 읽어서 Pandas DataFrame에 저장해서 표데이터로 만들기\n",
    "* 표데이터를 DB에 저장"
   ]
  },
  {
   "cell_type": "code",
   "execution_count": 10,
   "id": "3acd4fd2",
   "metadata": {},
   "outputs": [
    {
     "name": "stdout",
     "output_type": "stream",
     "text": [
      "200\n",
      "1\n",
      "101\n",
      "200\n",
      "427\n",
      "100\n"
     ]
    }
   ],
   "source": [
    "import requests\n",
    "from bs4 import BeautifulSoup\n",
    "import re\n",
    "\n",
    "req_header = {\n",
    "    \"User-Agent\": \"Mozilla/5.0 (Windows NT 10.0; Win64; x64) AppleWebKit/537.36 (KHTML, like Gecko) Chrome/93.0.4577.82 Safari/537.36\"\n",
    "}\n",
    "url = 'https://www.melon.com/chart/index.htm'\n",
    "\n",
    "res = requests.get(url, headers=req_header)\n",
    "print(res.status_code)\n",
    "soup = BeautifulSoup(res.text, 'html.parser')\n",
    "print(len(soup.select('div#tb_list'))) #1개\n",
    "print(len(soup.select('div#tb_list tr'))) #101\n",
    "print(len(soup.select('div#tb_list tr div.wrap_song_info'))) #200\n",
    "print(len(soup.select('div#tb_list tr div.wrap_song_info a'))) #427\n",
    "print(len(soup.select(\"div#tb_list tr div.wrap_song_info a[href*='playSong']\"))) #100"
   ]
  },
  {
   "cell_type": "code",
   "execution_count": null,
   "id": "efc6204d",
   "metadata": {},
   "outputs": [],
   "source": []
  }
 ],
 "metadata": {
  "kernelspec": {
   "display_name": "Python 3",
   "language": "python",
   "name": "python3"
  },
  "language_info": {
   "codemirror_mode": {
    "name": "ipython",
    "version": 3
   },
   "file_extension": ".py",
   "mimetype": "text/x-python",
   "name": "python",
   "nbconvert_exporter": "python",
   "pygments_lexer": "ipython3",
   "version": "3.8.8"
  }
 },
 "nbformat": 4,
 "nbformat_minor": 5
}
