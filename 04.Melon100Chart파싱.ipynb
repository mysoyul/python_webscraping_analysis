{
 "cells": [
  {
   "cell_type": "markdown",
   "id": "9240131b",
   "metadata": {},
   "source": [
    "### Melon 100 Chart \n",
    "* 100곡의 노래의 제목, Song ID추출\n",
    "* Song ID로 노래의 상세정보를 100 번 요청\n",
    "* 100곡의 정보를 json에 저장\n",
    "* json file을 읽어서 Pandas DataFrame에 저장해서 표데이터로 만들기\n",
    "* 표데이터를 DB에 저장"
   ]
  },
  {
   "cell_type": "code",
   "execution_count": 20,
   "id": "fe45ffde",
   "metadata": {},
   "outputs": [
    {
     "name": "stdout",
     "output_type": "stream",
     "text": [
      "100\n",
      "1\n",
      "101\n",
      "200\n",
      "427\n",
      "100\n"
     ]
    }
   ],
   "source": [
    "import requests\n",
    "from bs4 import BeautifulSoup\n",
    "import re\n",
    "\n",
    "req_header = {\n",
    "    \"User-Agent\": \"Mozilla/5.0 (Windows NT 10.0; Win64; x64) AppleWebKit/537.36 (KHTML, like Gecko) Chrome/93.0.4577.82 Safari/537.36\"\n",
    "}\n",
    "url = 'https://www.melon.com/chart/index.htm'\n",
    "\n",
    "res = requests.get(url, headers=req_header)\n",
    "#print(res.status_code)\n",
    "soup = BeautifulSoup(res.text, 'html.parser')\n",
    "print(len(soup.select(\"a[href*='playSong']\")))\n",
    "print(len(soup.select('div#tb_list'))) #1개\n",
    "print(len(soup.select('div#tb_list tr'))) #101\n",
    "print(len(soup.select('div#tb_list tr div.wrap_song_info'))) #200\n",
    "print(len(soup.select('div#tb_list tr div.wrap_song_info a'))) #427\n",
    "print(len(soup.select(\"div#tb_list tr div.wrap_song_info a[href*='playSong']\"))) #100"
   ]
  },
  {
   "cell_type": "code",
   "execution_count": 28,
   "id": "2d5ef73d",
   "metadata": {},
   "outputs": [
    {
     "name": "stdout",
     "output_type": "stream",
     "text": [
      "100\n"
     ]
    },
    {
     "data": {
      "text/plain": [
       "[{'title': 'STAY',\n",
       "  'url': 'https://www.melon.com/song/detail.htm?songId=33658563'},\n",
       " {'title': 'My Universe',\n",
       "  'url': 'https://www.melon.com/song/detail.htm?songId=33998510'},\n",
       " {'title': '신호등',\n",
       "  'url': 'https://www.melon.com/song/detail.htm?songId=33480898'},\n",
       " {'title': 'OHAYO MY NIGHT',\n",
       "  'url': 'https://www.melon.com/song/detail.htm?songId=32698101'}]"
      ]
     },
     "execution_count": 28,
     "metadata": {},
     "output_type": "execute_result"
    }
   ],
   "source": [
    "#100곡의 song 정보를 저장할 list 선언\n",
    "song_list = list()\n",
    "\n",
    "atags = soup.select(\"div#tb_list tr div.wrap_song_info a[href*='playSong']\")\n",
    "for idx,atag in enumerate(atags,1):\n",
    "    #1곡의 song 정보를 저장할 dict 선언\n",
    "    song_dict = dict()\n",
    "    title = atag.text\n",
    "    song_dict['title'] = title\n",
    "    href = atag['href']\n",
    "    matched = re.search(r'(\\d+)\\);', href)\n",
    "    song_id = matched.group(1)\n",
    "    song_url = f'https://www.melon.com/song/detail.htm?songId={song_id}'\n",
    "    #print(idx,title, song_url)\n",
    "    song_dict['url'] = song_url\n",
    "    #print(idx, song_dict)\n",
    "    song_list.append(song_dict)\n",
    "\n",
    "print(len(song_list))    \n",
    "song_list[0:4]"
   ]
  },
  {
   "cell_type": "markdown",
   "id": "3db2020e",
   "metadata": {},
   "source": [
    "### 100곡의 Song의 상세정보 파싱하기"
   ]
  },
  {
   "cell_type": "code",
   "execution_count": 35,
   "id": "a9f415e9",
   "metadata": {},
   "outputs": [
    {
     "name": "stdout",
     "output_type": "stream",
     "text": [
      "{'곡명': 'STAY', '가수': 'The Kid LAROI', '앨범': 'Stay'}\n",
      "{'곡명': 'My Universe', '가수': 'Coldplay', '앨범': 'My Universe'}\n",
      "{'곡명': '신호등', '가수': '이무진', '앨범': '신호등'}\n"
     ]
    }
   ],
   "source": [
    "import requests\n",
    "from bs4 import BeautifulSoup\n",
    "import re\n",
    "\n",
    "req_header = {\n",
    "    \"User-Agent\": \"Mozilla/5.0 (Windows NT 10.0; Win64; x64) AppleWebKit/537.36 (KHTML, like Gecko) Chrome/93.0.4577.82 Safari/537.36\"\n",
    "}\n",
    "#100곡의 Song 상세정보를 저장할 list 선언\n",
    "song_detail_list = []\n",
    "for idx,song in enumerate(song_list[0:3],1):\n",
    "    #1곡의 Song 상세정보를 저장할 dict 선언\n",
    "    song_detail_dict = {}\n",
    "    res = requests.get(song['url'], headers=req_header)\n",
    "    soup = BeautifulSoup(res.text, 'html.parser')\n",
    "    #노래제목\n",
    "    song_detail_dict['곡명'] = song['title']\n",
    "    #가수\n",
    "    song_detail_dict['가수'] = soup.select(\"a[href*='goArtistDetail'] span\")[0].text\n",
    "    #앨범\n",
    "    song_detail_dict['앨범'] = soup.select('div.meta dd')[0].text\n",
    "    print(song_detail_dict)\n"
   ]
  }
 ],
 "metadata": {
  "kernelspec": {
   "display_name": "Python 3",
   "language": "python",
   "name": "python3"
  },
  "language_info": {
   "codemirror_mode": {
    "name": "ipython",
    "version": 3
   },
   "file_extension": ".py",
   "mimetype": "text/x-python",
   "name": "python",
   "nbconvert_exporter": "python",
   "pygments_lexer": "ipython3",
   "version": "3.8.8"
  }
 },
 "nbformat": 4,
 "nbformat_minor": 5
}
