{
 "cells": [
  {
   "cell_type": "markdown",
   "id": "edc275f4",
   "metadata": {},
   "source": [
    "### 국회의원 정보 스크래핑\n",
    "* 이름, ID 추출\n",
    "* ID를 사용해서 상세페이지로 요청 보내기\n",
    "* DataFrame에 저장하고, DB에 저장\n",
    "* 시각화"
   ]
  },
  {
   "cell_type": "code",
   "execution_count": 15,
   "id": "1b38c80f",
   "metadata": {},
   "outputs": [
    {
     "name": "stdout",
     "output_type": "stream",
     "text": [
      "200\n",
      "297\n"
     ]
    },
    {
     "data": {
      "text/plain": [
       "[{'name': '강기윤', 'id': '9771230'}, {'name': '강대식', 'id': '9771142'}]"
      ]
     },
     "execution_count": 15,
     "metadata": {},
     "output_type": "execute_result"
    }
   ],
   "source": [
    "import requests\n",
    "from bs4 import BeautifulSoup\n",
    "import re\n",
    "\n",
    "url = 'https://www.assembly.go.kr/assm/memact/congressman/memCond/memCondListAjax.do'\n",
    "req_param = {\n",
    "    #?currentPage=1&rowPerPage=500\n",
    "    \"currentPage\":1,\n",
    "    \"rowPerPage\":500\n",
    "}\n",
    "\n",
    "res = requests.get(url, params=req_param)\n",
    "print(res.status_code)\n",
    "\n",
    "if res.ok:\n",
    "    soup = BeautifulSoup(res.text, 'html.parser')\n",
    "    atag_list = soup.select(\"div.memberna_list dl dt a\")\n",
    "    \n",
    "    member_list = []    \n",
    "    for atag in atag_list:\n",
    "\n",
    "        member_dict = {}\n",
    "        \n",
    "        member_dict['name'] = atag.text  #<a href=\"\">둘리</a>\n",
    "        \n",
    "        href = atag['href']\n",
    "        matched = re.search(r'(\\d+)', href)\n",
    "        if matched:\n",
    "            member_dict['id'] = matched.group(0)\n",
    "        \n",
    "        #print(member_dict)\n",
    "        member_list.append(member_dict)\n",
    "\n",
    "print(len(member_list))\n",
    "member_list[0:2]"
   ]
  },
  {
   "cell_type": "code",
   "execution_count": 25,
   "id": "0496cd88",
   "metadata": {},
   "outputs": [
    {
     "name": "stdout",
     "output_type": "stream",
     "text": [
      "----- 시작\n",
      "---> 번호 1 <------\n",
      "['국민의힘', '경남 창원시성산구', '\\r\\n\\t\\t\\t\\t\\t\\t\\t\\t\\t\\t\\t\\t\\t\\t\\t\\t\\t\\t\\t\\t\\t\\t\\t\\t\\t보건복지위원회\\r\\n\\t\\t\\t\\t\\t\\t\\t\\t\\t\\t\\t\\t\\t\\t\\t\\t\\t\\t\\t\\t\\t\\t\\t\\t', '재선(\\r\\n\\t\\t\\t\\t\\t\\t\\t\\t\\t\\t\\t\\t\\t\\t\\t\\t\\t\\t\\t\\t\\t\\t\\t\\t\\t19대\\r\\n\\t\\t\\t\\t\\t\\t\\t\\t\\t\\t\\t\\t\\t\\t\\t\\t\\t\\t\\t ,\\r\\n\\t\\t\\t\\t\\t\\t\\t\\t\\t\\t\\t\\t\\t\\t\\t\\t\\t\\t\\t\\t\\t\\t\\t\\t\\t\\t21대\\r\\n\\t\\t\\t\\t\\t\\t\\t\\t\\t\\t\\t\\t\\t\\t\\t\\t\\t\\t\\t\\t\\t\\t\\t\\t\\t)', '\\r\\n\\t\\t\\t\\t\\t\\t\\t\\t\\t\\t\\t\\t\\t\\t\\t\\t                                    \\t\\t\\t\\t\\t\\t\\t                                                                02-784-1751\\r\\n\\t\\t\\t\\t\\t\\t\\t', '\\r\\n                                의원회관 937호\\r\\n\\t\\t\\t\\t\\t\\t\\t', 'http://blog.naver.com/ggotop', 'ggotop@naver.com', '\\r\\n\\t\\t\\t\\t\\t\\t\\t\\t    \\t\\t\\t\\t\\t\\t\\t\\t    \\t\\t\\t\\t\\t\\t\\t\\t\\t김홍광\\r\\n    \\t\\t\\t\\t\\t\\t\\t\\t\\t    \\t\\t\\t\\t\\t\\t\\t\\t\\t\\t ,\\r\\n    \\t\\t\\t\\t\\t\\t\\t\\t\\t    \\t\\t\\t\\t\\t\\t\\t\\t    \\t\\t\\t\\t\\t\\t\\t\\t\\t한영애\\r\\n    \\t\\t\\t\\t\\t\\t\\t\\t\\t    \\t\\t\\t\\t\\t\\t\\t\\t\\t\\t\\t\\t\\t\\t\\t\\t\\t\\t\\t\\t\\t\\t\\t', '\\r\\n\\t\\t\\t\\t\\t\\t\\t\\t    \\t\\t\\t\\t\\t\\t\\t\\t    \\t\\t\\t\\t\\t\\t\\t\\t\\t지상훈\\r\\n    \\t\\t\\t\\t\\t\\t\\t\\t\\t    \\t\\t\\t\\t\\t\\t\\t\\t\\t\\t ,\\r\\n    \\t\\t\\t\\t\\t\\t\\t\\t\\t    \\t\\t\\t\\t\\t\\t\\t\\t    \\t\\t\\t\\t\\t\\t\\t\\t\\t최광림\\r\\n    \\t\\t\\t\\t\\t\\t\\t\\t\\t    \\t\\t\\t\\t\\t\\t\\t\\t\\t\\t\\t\\t\\t\\t\\t\\t\\t\\t\\t\\t\\t\\t\\t', '\\r\\n\\t\\t\\t\\t\\t\\t\\t\\t    \\t\\t\\t\\t\\t\\t\\t\\t    \\t\\t\\t\\t\\t\\t\\t\\t\\t김영록\\r\\n    \\t\\t\\t\\t\\t\\t\\t\\t\\t    \\t\\t\\t\\t\\t\\t\\t\\t\\t\\t ,\\r\\n    \\t\\t\\t\\t\\t\\t\\t\\t\\t    \\t\\t\\t\\t\\t\\t\\t\\t    \\t\\t\\t\\t\\t\\t\\t\\t\\t안효상\\r\\n    \\t\\t\\t\\t\\t\\t\\t\\t\\t    \\t\\t\\t\\t\\t\\t\\t\\t\\t\\t ,\\r\\n    \\t\\t\\t\\t\\t\\t\\t\\t\\t    \\t\\t\\t\\t\\t\\t\\t\\t    \\t\\t\\t\\t\\t\\t\\t\\t\\t이유진\\r\\n    \\t\\t\\t\\t\\t\\t\\t\\t\\t    \\t\\t\\t\\t\\t\\t\\t\\t\\t\\t ,\\r\\n    \\t\\t\\t\\t\\t\\t\\t\\t\\t    \\t\\t\\t\\t\\t\\t\\t\\t    \\t\\t\\t\\t\\t\\t\\t\\t\\t홍지형\\r\\n    \\t\\t\\t\\t\\t\\t\\t\\t\\t    \\t\\t\\t\\t\\t\\t\\t\\t\\t\\t\\t\\t\\t\\t\\t\\t\\t\\t\\t\\t\\t\\t\\t\\t\\t\\t\\t\\t\\t\\t\\t\\t    \\t\\t\\t\\t\\t\\t\\t\\t    \\t\\t\\t\\t\\t\\t\\t\\t\\t, 김지훈\\r\\n    \\t\\t\\t\\t\\t\\t\\t\\t    \\t\\t\\t\\t\\t\\t\\t\\t\\t\\t\\t\\t\\t\\t\\t\\t\\t\\t\\t\\t\\t\\t\\t', '', '']\n",
      "---> 번호 2 <------\n",
      "['국민의힘', '대구 동구을', '\\r\\n\\t\\t\\t\\t\\t\\t\\t\\t\\t\\t\\t\\t\\t\\t\\t\\t\\t\\t\\t\\t\\t\\t\\t\\t\\t국방위원회\\r\\n\\t\\t\\t\\t\\t\\t\\t\\t\\t\\t\\t\\t\\t\\t\\t\\t\\t\\t\\t\\t\\t\\t\\t\\t', '초선(\\r\\n\\t\\t\\t\\t\\t\\t\\t\\t\\t\\t\\t\\t\\t\\t\\t\\t\\t\\t\\t\\t\\t\\t\\t\\t\\t21대\\r\\n\\t\\t\\t\\t\\t\\t\\t\\t\\t\\t\\t\\t\\t\\t\\t\\t\\t\\t\\t\\t\\t\\t\\t\\t\\t)', '\\r\\n\\t\\t\\t\\t\\t\\t\\t\\t\\t\\t\\t\\t\\t\\t\\t\\t                                    \\t\\t\\t\\t\\t\\t\\t                                                                02-784-5275\\r\\n\\t\\t\\t\\t\\t\\t\\t', '\\r\\n                                의원회관 341호\\r\\n\\t\\t\\t\\t\\t\\t\\t', '', 'kds21341@naver.com', '\\r\\n\\t\\t\\t\\t\\t\\t\\t\\t    \\t\\t\\t\\t\\t\\t\\t\\t    \\t\\t\\t\\t\\t\\t\\t\\t\\t박홍규\\r\\n    \\t\\t\\t\\t\\t\\t\\t\\t\\t    \\t\\t\\t\\t\\t\\t\\t\\t\\t\\t ,\\r\\n    \\t\\t\\t\\t\\t\\t\\t\\t\\t    \\t\\t\\t\\t\\t\\t\\t\\t    \\t\\t\\t\\t\\t\\t\\t\\t\\t정운태\\r\\n    \\t\\t\\t\\t\\t\\t\\t\\t\\t    \\t\\t\\t\\t\\t\\t\\t\\t\\t\\t\\t\\t\\t\\t\\t\\t\\t\\t\\t\\t\\t\\t\\t', '\\r\\n\\t\\t\\t\\t\\t\\t\\t\\t    \\t\\t\\t\\t\\t\\t\\t\\t    \\t\\t\\t\\t\\t\\t\\t\\t\\t유진영\\r\\n    \\t\\t\\t\\t\\t\\t\\t\\t\\t    \\t\\t\\t\\t\\t\\t\\t\\t\\t\\t ,\\r\\n    \\t\\t\\t\\t\\t\\t\\t\\t\\t    \\t\\t\\t\\t\\t\\t\\t\\t    \\t\\t\\t\\t\\t\\t\\t\\t\\t윤미라\\r\\n    \\t\\t\\t\\t\\t\\t\\t\\t\\t    \\t\\t\\t\\t\\t\\t\\t\\t\\t\\t\\t\\t\\t\\t\\t\\t\\t\\t\\t\\t\\t\\t\\t', '\\r\\n\\t\\t\\t\\t\\t\\t\\t\\t    \\t\\t\\t\\t\\t\\t\\t\\t    \\t\\t\\t\\t\\t\\t\\t\\t\\t박순권\\r\\n    \\t\\t\\t\\t\\t\\t\\t\\t\\t    \\t\\t\\t\\t\\t\\t\\t\\t\\t\\t ,\\r\\n    \\t\\t\\t\\t\\t\\t\\t\\t\\t    \\t\\t\\t\\t\\t\\t\\t\\t    \\t\\t\\t\\t\\t\\t\\t\\t\\t김광연\\r\\n    \\t\\t\\t\\t\\t\\t\\t\\t\\t    \\t\\t\\t\\t\\t\\t\\t\\t\\t\\t ,\\r\\n    \\t\\t\\t\\t\\t\\t\\t\\t\\t    \\t\\t\\t\\t\\t\\t\\t\\t    \\t\\t\\t\\t\\t\\t\\t\\t\\t윤선영\\r\\n    \\t\\t\\t\\t\\t\\t\\t\\t\\t    \\t\\t\\t\\t\\t\\t\\t\\t\\t\\t ,\\r\\n    \\t\\t\\t\\t\\t\\t\\t\\t\\t    \\t\\t\\t\\t\\t\\t\\t\\t    \\t\\t\\t\\t\\t\\t\\t\\t\\t김현정\\r\\n    \\t\\t\\t\\t\\t\\t\\t\\t\\t    \\t\\t\\t\\t\\t\\t\\t\\t\\t\\t\\t\\t\\t\\t\\t\\t\\t\\t\\t\\t\\t\\t\\t\\t\\t\\t\\t\\t\\t\\t\\t\\t    \\t\\t\\t\\t\\t\\t\\t\\t    \\t\\t\\t\\t\\t\\t\\t\\t\\t, 송민욱\\r\\n    \\t\\t\\t\\t\\t\\t\\t\\t    \\t\\t\\t\\t\\t\\t\\t\\t\\t\\t\\t\\t\\t\\t\\t\\t\\t\\t\\t\\t\\t\\t\\t', '', '']\n"
     ]
    }
   ],
   "source": [
    "import requests\n",
    "from bs4 import BeautifulSoup\n",
    "import re\n",
    "from urllib.parse import urljoin\n",
    "\n",
    "print('----- 시작')\n",
    "for idx,member in enumerate(member_list[0:2],1):\n",
    "    print(f'---> 번호 {idx} <------')\n",
    "    member_id = member['id']\n",
    "    detail_url = f'https://www.assembly.go.kr/assm/memPop/memPopup.do?dept_cd={member_id}'\n",
    "    \n",
    "    res = requests.get(detail_url)\n",
    "    if res.ok:\n",
    "        soup = BeautifulSoup(res.text, 'html.parser')\n",
    "        \n",
    "        #1명의 국회의원 정보를 저장할 dict를 선언\n",
    "        member_dict = dict()\n",
    "        \n",
    "        dt_list = []\n",
    "        for dt in soup.select(\"div.info_mna dl.pro_detail dt\"):\n",
    "            dt_list.append(dt.text)\n",
    "        \n",
    "        dd_list = []\n",
    "        for dd in soup.select(\"div.info_mna dl.pro_detail dd\"):\n",
    "            dd_list.append(dd.text)\n",
    "        print(dd_list)"
   ]
  }
 ],
 "metadata": {
  "kernelspec": {
   "display_name": "Python 3",
   "language": "python",
   "name": "python3"
  },
  "language_info": {
   "codemirror_mode": {
    "name": "ipython",
    "version": 3
   },
   "file_extension": ".py",
   "mimetype": "text/x-python",
   "name": "python",
   "nbconvert_exporter": "python",
   "pygments_lexer": "ipython3",
   "version": "3.8.8"
  }
 },
 "nbformat": 4,
 "nbformat_minor": 5
}
