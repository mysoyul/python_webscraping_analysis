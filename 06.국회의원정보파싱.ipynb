{
 "cells": [
  {
   "cell_type": "markdown",
   "id": "a0490d0c",
   "metadata": {},
   "source": [
    "### 국회의원 정보 스크래핑\n",
    "* 이름, ID 추출\n",
    "* ID를 사용해서 상세페이지로 요청 보내기\n",
    "* DataFrame에 저장하고, DB에 저장\n",
    "* 시각화"
   ]
  },
  {
   "cell_type": "code",
   "execution_count": 15,
   "id": "70af553b",
   "metadata": {},
   "outputs": [
    {
     "name": "stdout",
     "output_type": "stream",
     "text": [
      "200\n",
      "297\n"
     ]
    },
    {
     "data": {
      "text/plain": [
       "[{'name': '강기윤', 'id': '9771230'}, {'name': '강대식', 'id': '9771142'}]"
      ]
     },
     "execution_count": 15,
     "metadata": {},
     "output_type": "execute_result"
    }
   ],
   "source": [
    "import requests\n",
    "from bs4 import BeautifulSoup\n",
    "import re\n",
    "\n",
    "url = 'https://www.assembly.go.kr/assm/memact/congressman/memCond/memCondListAjax.do'\n",
    "req_param = {\n",
    "    #?currentPage=1&rowPerPage=500\n",
    "    \"currentPage\":1,\n",
    "    \"rowPerPage\":500\n",
    "}\n",
    "\n",
    "res = requests.get(url, params=req_param)\n",
    "print(res.status_code)\n",
    "\n",
    "if res.ok:\n",
    "    soup = BeautifulSoup(res.text, 'html.parser')\n",
    "    atag_list = soup.select(\"div.memberna_list dl dt a\")\n",
    "    \n",
    "    member_list = []    \n",
    "    for atag in atag_list:\n",
    "\n",
    "        member_dict = {}\n",
    "        \n",
    "        member_dict['name'] = atag.text  #<a href=\"\">둘리</a>\n",
    "        \n",
    "        href = atag['href']\n",
    "        matched = re.search(r'(\\d+)', href)\n",
    "        if matched:\n",
    "            member_dict['id'] = matched.group(0)\n",
    "        \n",
    "        #print(member_dict)\n",
    "        member_list.append(member_dict)\n",
    "\n",
    "print(len(member_list))\n",
    "member_list[0:2]"
   ]
  },
  {
   "cell_type": "code",
   "execution_count": 22,
   "id": "94d0c3c0",
   "metadata": {},
   "outputs": [
    {
     "name": "stdout",
     "output_type": "stream",
     "text": [
      "----- 시작\n",
      "---1\n",
      "<dt>정당</dt>\n",
      "<dt>선거구</dt>\n",
      "<dt>소속위원회</dt>\n",
      "<dt>당선횟수</dt>\n",
      "<dt>사무실 전화</dt>\n",
      "<dt>사무실 호실</dt>\n",
      "<dt>홈페이지</dt>\n",
      "<dt>이메일</dt>\n",
      "<dt>보좌관</dt>\n",
      "<dt>비서관</dt>\n",
      "<dt>비서</dt>\n",
      "<dt>취미, 특기</dt>\n",
      "<dt>의원실 안내</dt>\n",
      "---2\n",
      "<dt>정당</dt>\n",
      "<dt>선거구</dt>\n",
      "<dt>소속위원회</dt>\n",
      "<dt>당선횟수</dt>\n",
      "<dt>사무실 전화</dt>\n",
      "<dt>사무실 호실</dt>\n",
      "<dt>홈페이지</dt>\n",
      "<dt>이메일</dt>\n",
      "<dt>보좌관</dt>\n",
      "<dt>비서관</dt>\n",
      "<dt>비서</dt>\n",
      "<dt>취미, 특기</dt>\n",
      "<dt>의원실 안내</dt>\n"
     ]
    }
   ],
   "source": [
    "import requests\n",
    "from bs4 import BeautifulSoup\n",
    "import re\n",
    "from urllib.parse import urljoin\n",
    "\n",
    "print('----- 시작')\n",
    "for idx,member in enumerate(member_list[0:2],1):\n",
    "    print(f'---> 번호 {idx} <------')\n",
    "    member_id = member['id']\n",
    "    detail_url = f'https://www.assembly.go.kr/assm/memPop/memPopup.do?dept_cd={member_id}'\n",
    "    \n",
    "    res = requests.get(detail_url)\n",
    "    if res.ok:\n",
    "        soup = BeautifulSoup(res.text, 'html.parser')\n",
    "        \n",
    "        #1명의 국회의원 정보를 저장할 dict를 선언\n",
    "        member_dict = dict()\n",
    "        \n",
    "        dt_list = []\n",
    "        for dt in soup.select(\"div.info_mna dl.pro_detail dt\"):\n",
    "            print(dt)\n"
   ]
  }
 ],
 "metadata": {
  "kernelspec": {
   "display_name": "Python 3",
   "language": "python",
   "name": "python3"
  },
  "language_info": {
   "codemirror_mode": {
    "name": "ipython",
    "version": 3
   },
   "file_extension": ".py",
   "mimetype": "text/x-python",
   "name": "python",
   "nbconvert_exporter": "python",
   "pygments_lexer": "ipython3",
   "version": "3.8.8"
  }
 },
 "nbformat": 4,
 "nbformat_minor": 5
}
