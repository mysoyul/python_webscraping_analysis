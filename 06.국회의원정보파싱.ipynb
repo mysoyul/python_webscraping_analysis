{
 "cells": [
  {
   "cell_type": "markdown",
   "id": "43c750b4",
   "metadata": {},
   "source": [
    "### 국회의원 정보 스크래핑\n",
    "* 이름, ID 추출\n",
    "* ID를 사용해서 상세페이지로 요청 보내기\n",
    "* DataFrame에 저장하고, DB에 저장\n",
    "* 시각화"
   ]
  },
  {
   "cell_type": "code",
   "execution_count": 15,
   "id": "48c1f2c2",
   "metadata": {},
   "outputs": [
    {
     "name": "stdout",
     "output_type": "stream",
     "text": [
      "200\n",
      "297\n"
     ]
    },
    {
     "data": {
      "text/plain": [
       "[{'name': '강기윤', 'id': '9771230'}, {'name': '강대식', 'id': '9771142'}]"
      ]
     },
     "execution_count": 15,
     "metadata": {},
     "output_type": "execute_result"
    }
   ],
   "source": [
    "import requests\n",
    "from bs4 import BeautifulSoup\n",
    "import re\n",
    "\n",
    "url = 'https://www.assembly.go.kr/assm/memact/congressman/memCond/memCondListAjax.do'\n",
    "req_param = {\n",
    "    #?currentPage=1&rowPerPage=500\n",
    "    \"currentPage\":1,\n",
    "    \"rowPerPage\":500\n",
    "}\n",
    "\n",
    "res = requests.get(url, params=req_param)\n",
    "print(res.status_code)\n",
    "\n",
    "if res.ok:\n",
    "    soup = BeautifulSoup(res.text, 'html.parser')\n",
    "    atag_list = soup.select(\"div.memberna_list dl dt a\")\n",
    "    \n",
    "    member_list = []    \n",
    "    for atag in atag_list:\n",
    "\n",
    "        member_dict = {}\n",
    "        \n",
    "        member_dict['name'] = atag.text  #<a href=\"\">둘리</a>\n",
    "        \n",
    "        href = atag['href']\n",
    "        matched = re.search(r'(\\d+)', href)\n",
    "        if matched:\n",
    "            member_dict['id'] = matched.group(0)\n",
    "        \n",
    "        #print(member_dict)\n",
    "        member_list.append(member_dict)\n",
    "\n",
    "print(len(member_list))\n",
    "member_list[0:2]"
   ]
  },
  {
   "cell_type": "code",
   "execution_count": 41,
   "id": "e8166f44",
   "metadata": {},
   "outputs": [
    {
     "name": "stdout",
     "output_type": "stream",
     "text": [
      "----- 시작\n",
      "---> 번호 1 <------\n",
      "{'정당': '국민의힘', '선거구': '경남창원시성산구', '소속위원회': '보건복지위원회', '당선횟수': '재선(19대,21대)', '사무실 전화': '02-784-1751', '사무실 호실': '의원회관937호', '홈페이지': 'http://blog.naver.com/ggotop', '이메일': 'ggotop@naver.com', '보좌관': '김홍광,한영애', '비서관': '지상훈,최광림', '비서': '김영록,안효상,이유진,홍지형,김지훈', '취미, 특기': '', '의원실 안내': '', '이름': '강기윤', '이미지': 'https://www.assembly.go.kr/photo/9771230.jpg', '생년월일': '1960-06-04'}\n",
      "---> 번호 2 <------\n",
      "{'정당': '국민의힘', '선거구': '대구동구을', '소속위원회': '국방위원회', '당선횟수': '초선(21대)', '사무실 전화': '02-784-5275', '사무실 호실': '의원회관341호', '홈페이지': '', '이메일': 'kds21341@naver.com', '보좌관': '박홍규,정운태', '비서관': '유진영,윤미라', '비서': '박순권,김광연,윤선영,김현정,송민욱', '취미, 특기': '', '의원실 안내': '', '이름': '강대식', '이미지': 'https://www.assembly.go.kr/photo/9771142.jpg', '생년월일': '1959-11-02'}\n"
     ]
    }
   ],
   "source": [
    "import requests\n",
    "from bs4 import BeautifulSoup\n",
    "import re\n",
    "from urllib.parse import urljoin\n",
    "\n",
    "print('----- 시작')\n",
    "\n",
    "#모든 국회의원 정보를 저장할 list 선언\n",
    "member_list = []\n",
    "\n",
    "for idx,member in enumerate(member_list[0:2],1):\n",
    "    print(f'---> 번호 {idx} <------')\n",
    "    member_id = member['id']\n",
    "    detail_url = f'https://www.assembly.go.kr/assm/memPop/memPopup.do?dept_cd={member_id}'\n",
    "    \n",
    "    res = requests.get(detail_url)\n",
    "    if res.ok:\n",
    "        soup = BeautifulSoup(res.text, 'html.parser')\n",
    "        \n",
    "        #1명의 국회의원 정보를 저장할 dict를 선언\n",
    "        member_dict = dict()\n",
    "        \n",
    "        dt_list = []\n",
    "        for dt in soup.select(\"div.info_mna dl.pro_detail dt\"):\n",
    "            dt_list.append(dt.text)\n",
    "        \n",
    "        dd_list = []\n",
    "        for dd in soup.select(\"div.info_mna dl.pro_detail dd\"):\n",
    "            dd_text = dd.text.strip()\n",
    "            \n",
    "            #Pattern 객체생성\n",
    "            reg_exr = re.compile(r'[\\n\\r\\t]')\n",
    "            #sub()는 Pattern과 일치하는 문자을 empty string으로 대체해라\n",
    "            #replace()는 white space를 empty string으로 변경해라\n",
    "            clean_text = reg_exr.sub('', dd_text).replace(\" \",\"\")\n",
    "            dd_list.append(clean_text)\n",
    "        \n",
    "        member_dict = dict(zip(dt_list,dd_list))\n",
    "        #print(member_dict)\n",
    "        \n",
    "        for div_tag in soup.select(\"div.info_mna div.profile\"):\n",
    "            #print(div_tag)\n",
    "            member_dict[\"이름\"] = div_tag.find('h4').text\n",
    "            \n",
    "            img_src = div_tag.select('img')[0]['src']\n",
    "            img_url = urljoin(detail_url, img_src)\n",
    "            member_dict[\"이미지\"] = img_url\n",
    "            \n",
    "            birth_date = div_tag.select_one(\"li:nth-of-type(4)\").text\n",
    "            member_dict[\"생년월일\"] = birth_date\n",
    "            \n",
    "        member_list.append(member_dict)   \n",
    "\n",
    "print(len(member_list))\n",
    "member_list[0:2]\n",
    "print('----- 끝')        "
   ]
  }
 ],
 "metadata": {
  "kernelspec": {
   "display_name": "Python 3",
   "language": "python",
   "name": "python3"
  },
  "language_info": {
   "codemirror_mode": {
    "name": "ipython",
    "version": 3
   },
   "file_extension": ".py",
   "mimetype": "text/x-python",
   "name": "python",
   "nbconvert_exporter": "python",
   "pygments_lexer": "ipython3",
   "version": "3.8.8"
  }
 },
 "nbformat": 4,
 "nbformat_minor": 5
}
