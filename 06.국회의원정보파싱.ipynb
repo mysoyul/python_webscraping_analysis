{
 "cells": [
  {
   "cell_type": "markdown",
   "id": "2dbe1a97",
   "metadata": {},
   "source": [
    "### 국회의원 정보 스크래핑\n",
    "* 이름, ID 추출\n",
    "* ID를 사용해서 상세페이지로 요청 보내기\n",
    "* DataFrame에 저장하고, DB에 저장\n",
    "* 시각화"
   ]
  },
  {
   "cell_type": "code",
   "execution_count": 2,
   "id": "14e0225c",
   "metadata": {},
   "outputs": [
    {
     "name": "stdout",
     "output_type": "stream",
     "text": [
      "200\n"
     ]
    }
   ],
   "source": [
    "import requests\n",
    "from bs4 import BeautifulSoup\n",
    "import re\n",
    "\n",
    "url = 'https://www.assembly.go.kr/assm/memact/congressman/memCond/memCondListAjax.do'\n",
    "req_param = {\n",
    "    #?currentPage=1&rowPerPage=500\n",
    "    \"currentPage\":1,\n",
    "    \"rowPerPage\":500\n",
    "}\n",
    "\n",
    "res = requests.get(url, params=req_param)\n",
    "print(res.status_code)\n",
    "\n",
    "if res.ok:\n",
    "    soup = BeautifulSoup(res.text, 'html.parser')\n",
    "    "
   ]
  }
 ],
 "metadata": {
  "kernelspec": {
   "display_name": "Python 3",
   "language": "python",
   "name": "python3"
  },
  "language_info": {
   "codemirror_mode": {
    "name": "ipython",
    "version": 3
   },
   "file_extension": ".py",
   "mimetype": "text/x-python",
   "name": "python",
   "nbconvert_exporter": "python",
   "pygments_lexer": "ipython3",
   "version": "3.8.8"
  }
 },
 "nbformat": 4,
 "nbformat_minor": 5
}
