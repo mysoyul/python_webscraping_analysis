{
 "cells": [
  {
   "cell_type": "markdown",
   "id": "3b57d65e",
   "metadata": {},
   "source": [
    "### 기상청 날씨 데이터 파싱\n",
    "* BeautifulSoup의 find(), find_all() 함수 사용\n",
    "* 파싱한 데이터를 dict와 list 에 저장\n",
    "* json file로 저장하기"
   ]
  },
  {
   "cell_type": "code",
   "execution_count": 11,
   "id": "5b3127b0",
   "metadata": {},
   "outputs": [
    {
     "name": "stdout",
     "output_type": "stream",
     "text": [
      "200\n",
      "<class 'bs4.element.Tag'> <title>기상청 육상 중기예보</title> 기상청 육상 중기예보\n",
      "<class 'bs4.element.ResultSet'> [<title>기상청 육상 중기예보</title>, <title>전국 육상 중기예보 - 2021년 09월 28일 (화)요일 06:00 발표</title>, <title>전국 육상중기예보</title>] 기상청 육상 중기예보\n",
      "<class 'str'> 기상청 육상 중기예보\n",
      "<class 'bs4.element.NavigableString'> 기상청 육상 중기예보\n",
      "<class 'str'> 전국 육상 중기예보 - 2021년 09월 28일 (화)요일 06:00 발표\n",
      "<class 'bs4.element.NavigableString'> 전국 육상 중기예보 - 2021년 09월 28일 (화)요일 06:00 발표\n",
      "<class 'str'> 전국 육상중기예보\n",
      "<class 'bs4.element.NavigableString'> 전국 육상중기예보\n"
     ]
    }
   ],
   "source": [
    "import requests \n",
    "from bs4 import BeautifulSoup\n",
    "\n",
    "url = 'http://www.weather.go.kr/weather/forecast/mid-term-rss3.jsp'\n",
    "res = requests.get(url)\n",
    "print(res.status_code)\n",
    "html = res.text\n",
    "soup = BeautifulSoup(html, 'html.parser')\n",
    "#print(soup)\n",
    "\n",
    "title = soup.find('title')\n",
    "print(type(title), title, title.text)\n",
    "\n",
    "titles = soup.find_all('title')\n",
    "print(type(titles), titles, titles[0].text)\n",
    "for item in titles:\n",
    "    print(type(item.text), item.text)\n",
    "    print(type(item.string), item.string)"
   ]
  },
  {
   "cell_type": "code",
   "execution_count": 15,
   "id": "e891b42c",
   "metadata": {},
   "outputs": [
    {
     "name": "stdout",
     "output_type": "stream",
     "text": [
      "<class 'bs4.element.Tag'> <title>기상청 육상 중기예보</title> 기상청 육상 중기예보\n",
      "<class 'bs4.element.ResultSet'> [<title>기상청 육상 중기예보</title>, <title>전국 육상 중기예보 - 2021년 09월 28일 (화)요일 06:00 발표</title>, <title>전국 육상중기예보</title>]\n"
     ]
    }
   ],
   "source": [
    "link = soup.select_one('title')\n",
    "print(type(link), link, link.string)\n",
    "\n",
    "title_all = soup.select('title')\n",
    "print(type(title_all), title_all)"
   ]
  },
  {
   "cell_type": "code",
   "execution_count": 17,
   "id": "ae1b153f",
   "metadata": {},
   "outputs": [
    {
     "name": "stdout",
     "output_type": "stream",
     "text": [
      "<link/>\n"
     ]
    }
   ],
   "source": [
    "# link 태그 text 못 가지고 옴\n",
    "link = soup.find('channel').find('link')\n",
    "print(link)"
   ]
  },
  {
   "cell_type": "code",
   "execution_count": 26,
   "id": "2d4ef8ed",
   "metadata": {},
   "outputs": [
    {
     "name": "stdout",
     "output_type": "stream",
     "text": [
      "서울ㆍ인천ㆍ경기도\n",
      "서울\n",
      "A02 구름많음\n",
      "A02 맑음\n",
      "A02 구름많음\n",
      "A02 맑음\n",
      "A02 구름많음\n",
      "A02 구름많음\n",
      "A02 흐림\n",
      "A02 흐림\n",
      "A02 흐림\n",
      "A02 흐림\n",
      "A01 흐리고 비\n",
      "A01 흐림\n",
      "A01 흐림\n"
     ]
    }
   ],
   "source": [
    "location = soup.find('location', attrs={\"wl_ver\":\"3\"})\n",
    "province = location.find('province').text\n",
    "print(province)\n",
    "city = location.find('city').text\n",
    "print(city)\n",
    "for data in location.find_all('data'):\n",
    "    print(data.find('mode').text, data.find('wf').text)"
   ]
  },
  {
   "cell_type": "markdown",
   "id": "8dbe1374",
   "metadata": {},
   "source": []
  }
 ],
 "metadata": {
  "kernelspec": {
   "display_name": "Python 3",
   "language": "python",
   "name": "python3"
  },
  "language_info": {
   "codemirror_mode": {
    "name": "ipython",
    "version": 3
   },
   "file_extension": ".py",
   "mimetype": "text/x-python",
   "name": "python",
   "nbconvert_exporter": "python",
   "pygments_lexer": "ipython3",
   "version": "3.8.8"
  }
 },
 "nbformat": 4,
 "nbformat_minor": 5
}
