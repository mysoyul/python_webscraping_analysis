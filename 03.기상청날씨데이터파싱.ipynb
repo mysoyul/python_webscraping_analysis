{
 "cells": [
  {
   "cell_type": "markdown",
   "id": "29976f82",
   "metadata": {},
   "source": [
    "### 기상청 날씨 데이터 파싱\n",
    "* BeautifulSoup의 find(), find_all() 함수 사용\n",
    "* 파싱한 데이터를 dict와 list 에 저장\n",
    "* json file로 저장하기"
   ]
  },
  {
   "cell_type": "code",
   "execution_count": 11,
   "id": "592ebca9",
   "metadata": {},
   "outputs": [
    {
     "name": "stdout",
     "output_type": "stream",
     "text": [
      "200\n",
      "<class 'bs4.element.Tag'> <title>기상청 육상 중기예보</title> 기상청 육상 중기예보\n",
      "<class 'bs4.element.ResultSet'> [<title>기상청 육상 중기예보</title>, <title>전국 육상 중기예보 - 2021년 09월 28일 (화)요일 06:00 발표</title>, <title>전국 육상중기예보</title>] 기상청 육상 중기예보\n",
      "<class 'str'> 기상청 육상 중기예보\n",
      "<class 'bs4.element.NavigableString'> 기상청 육상 중기예보\n",
      "<class 'str'> 전국 육상 중기예보 - 2021년 09월 28일 (화)요일 06:00 발표\n",
      "<class 'bs4.element.NavigableString'> 전국 육상 중기예보 - 2021년 09월 28일 (화)요일 06:00 발표\n",
      "<class 'str'> 전국 육상중기예보\n",
      "<class 'bs4.element.NavigableString'> 전국 육상중기예보\n"
     ]
    }
   ],
   "source": [
    "import requests \n",
    "from bs4 import BeautifulSoup\n",
    "\n",
    "url = 'http://www.weather.go.kr/weather/forecast/mid-term-rss3.jsp'\n",
    "res = requests.get(url)\n",
    "print(res.status_code)\n",
    "html = res.text\n",
    "soup = BeautifulSoup(html, 'html.parser')\n",
    "#print(soup)\n",
    "\n",
    "title = soup.find('title')\n",
    "print(type(title), title, title.text)\n",
    "\n",
    "titles = soup.find_all('title')\n",
    "print(type(titles), titles, titles[0].text)\n",
    "for item in titles:\n",
    "    print(type(item.text), item.text)\n",
    "    print(type(item.string), item.string)"
   ]
  },
  {
   "cell_type": "code",
   "execution_count": 15,
   "id": "310b4dd4",
   "metadata": {},
   "outputs": [
    {
     "name": "stdout",
     "output_type": "stream",
     "text": [
      "<class 'bs4.element.Tag'> <title>기상청 육상 중기예보</title> 기상청 육상 중기예보\n",
      "<class 'bs4.element.ResultSet'> [<title>기상청 육상 중기예보</title>, <title>전국 육상 중기예보 - 2021년 09월 28일 (화)요일 06:00 발표</title>, <title>전국 육상중기예보</title>]\n"
     ]
    }
   ],
   "source": [
    "link = soup.select_one('title')\n",
    "print(type(link), link, link.string)\n",
    "\n",
    "title_all = soup.select('title')\n",
    "print(type(title_all), title_all)"
   ]
  },
  {
   "cell_type": "code",
   "execution_count": 17,
   "id": "a17e2df9",
   "metadata": {},
   "outputs": [
    {
     "name": "stdout",
     "output_type": "stream",
     "text": [
      "<link/>\n"
     ]
    }
   ],
   "source": [
    "# link 태그 text 못 가지고 옴\n",
    "link = soup.find('channel').find('link')\n",
    "print(link)"
   ]
  },
  {
   "cell_type": "code",
   "execution_count": 26,
   "id": "a0a10af1",
   "metadata": {},
   "outputs": [
    {
     "name": "stdout",
     "output_type": "stream",
     "text": [
      "서울ㆍ인천ㆍ경기도\n",
      "서울\n",
      "A02 구름많음\n",
      "A02 맑음\n",
      "A02 구름많음\n",
      "A02 맑음\n",
      "A02 구름많음\n",
      "A02 구름많음\n",
      "A02 흐림\n",
      "A02 흐림\n",
      "A02 흐림\n",
      "A02 흐림\n",
      "A01 흐리고 비\n",
      "A01 흐림\n",
      "A01 흐림\n"
     ]
    }
   ],
   "source": [
    "location = soup.find('location', attrs={\"wl_ver\":\"3\"})\n",
    "province = location.find('province').text\n",
    "print(province)\n",
    "city = location.find('city').text\n",
    "print(city)\n",
    "for data in location.find_all('data'):\n",
    "    print(data.find('mode').text, data.find('wf').text)"
   ]
  },
  {
   "cell_type": "markdown",
   "id": "a2862a74",
   "metadata": {},
   "source": [
    "### 전국날씨 데이터를 dict와 list 저장하기\n"
   ]
  },
  {
   "cell_type": "code",
   "execution_count": 31,
   "id": "21784925",
   "metadata": {},
   "outputs": [
    {
     "name": "stdout",
     "output_type": "stream",
     "text": [
      "200\n",
      "41\n",
      "{'province': '서울ㆍ인천ㆍ경기도', 'city': '서울'}\n",
      "{'province': '서울ㆍ인천ㆍ경기도', 'city': '인천'}\n",
      "{'province': '서울ㆍ인천ㆍ경기도', 'city': '수원'}\n",
      "{'province': '서울ㆍ인천ㆍ경기도', 'city': '파주'}\n",
      "{'province': '서울ㆍ인천ㆍ경기도', 'city': '이천'}\n",
      "{'province': '서울ㆍ인천ㆍ경기도', 'city': '평택'}\n",
      "{'province': '강원도영서', 'city': '춘천'}\n",
      "{'province': '강원도영서', 'city': '원주'}\n",
      "{'province': '강원도영동', 'city': '강릉'}\n",
      "{'province': '대전ㆍ세종ㆍ충청남도', 'city': '대전'}\n",
      "{'province': '대전ㆍ세종ㆍ충청남도', 'city': '세종'}\n",
      "{'province': '대전ㆍ세종ㆍ충청남도', 'city': '홍성'}\n",
      "{'province': '충청북도', 'city': '청주'}\n",
      "{'province': '충청북도', 'city': '충주'}\n",
      "{'province': '충청북도', 'city': '영동'}\n",
      "{'province': '광주ㆍ전라남도', 'city': '광주'}\n",
      "{'province': '광주ㆍ전라남도', 'city': '목포'}\n",
      "{'province': '광주ㆍ전라남도', 'city': '여수'}\n",
      "{'province': '광주ㆍ전라남도', 'city': '순천'}\n",
      "{'province': '광주ㆍ전라남도', 'city': '광양'}\n",
      "{'province': '광주ㆍ전라남도', 'city': '나주'}\n",
      "{'province': '전라북도', 'city': '전주'}\n",
      "{'province': '전라북도', 'city': '군산'}\n",
      "{'province': '전라북도', 'city': '정읍'}\n",
      "{'province': '전라북도', 'city': '남원'}\n",
      "{'province': '전라북도', 'city': '고창'}\n",
      "{'province': '전라북도', 'city': '무주'}\n",
      "{'province': '부산ㆍ울산ㆍ경상남도', 'city': '부산'}\n",
      "{'province': '부산ㆍ울산ㆍ경상남도', 'city': '울산'}\n",
      "{'province': '부산ㆍ울산ㆍ경상남도', 'city': '창원'}\n",
      "{'province': '부산ㆍ울산ㆍ경상남도', 'city': '진주'}\n",
      "{'province': '부산ㆍ울산ㆍ경상남도', 'city': '거창'}\n",
      "{'province': '부산ㆍ울산ㆍ경상남도', 'city': '통영'}\n",
      "{'province': '대구ㆍ경상북도', 'city': '대구'}\n",
      "{'province': '대구ㆍ경상북도', 'city': '안동'}\n",
      "{'province': '대구ㆍ경상북도', 'city': '포항'}\n",
      "{'province': '대구ㆍ경상북도', 'city': '경주'}\n",
      "{'province': '대구ㆍ경상북도', 'city': '울진'}\n",
      "{'province': '대구ㆍ경상북도', 'city': '울릉도'}\n",
      "{'province': '제주도', 'city': '제주'}\n",
      "{'province': '제주도', 'city': '서귀포'}\n"
     ]
    }
   ],
   "source": [
    "import requests \n",
    "from bs4 import BeautifulSoup\n",
    "\n",
    "url = 'http://www.weather.go.kr/weather/forecast/mid-term-rss3.jsp'\n",
    "res = requests.get(url)\n",
    "print(res.status_code)\n",
    "html = res.text\n",
    "soup = BeautifulSoup(html, 'html.parser')\n",
    "\n",
    "#41개의 location 정보를 저장할 list 선언\n",
    "location_list = list()\n",
    "location_tags = soup.find_all('location', attrs={\"wl_ver\":\"3\"})\n",
    "print(len(location_tags))\n",
    "for location in location_tags:\n",
    "    #1개의 location 정보를 저장할 dict 선언\n",
    "    location_dict = dict()\n",
    "    location_dict['province'] = location.find('province').text\n",
    "    location_dict['city'] = location.find('city').text\n",
    "    print(location_dict)"
   ]
  },
  {
   "cell_type": "code",
   "execution_count": null,
   "id": "f6520660",
   "metadata": {},
   "outputs": [],
   "source": []
  }
 ],
 "metadata": {
  "kernelspec": {
   "display_name": "Python 3",
   "language": "python",
   "name": "python3"
  },
  "language_info": {
   "codemirror_mode": {
    "name": "ipython",
    "version": 3
   },
   "file_extension": ".py",
   "mimetype": "text/x-python",
   "name": "python",
   "nbconvert_exporter": "python",
   "pygments_lexer": "ipython3",
   "version": "3.8.8"
  }
 },
 "nbformat": 4,
 "nbformat_minor": 5
}
