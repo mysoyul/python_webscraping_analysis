{
 "cells": [
  {
   "cell_type": "markdown",
   "id": "b2649b37",
   "metadata": {},
   "source": [
    "### 기상청 날씨 데이터 파싱\n",
    "* BeautifulSoup의 find(), find_all() 함수 사용\n",
    "* 파싱한 데이터를 dict와 list 에 저장\n",
    "* json file로 저장하기"
   ]
  },
  {
   "cell_type": "code",
   "execution_count": 8,
   "id": "c0be2919",
   "metadata": {},
   "outputs": [
    {
     "name": "stdout",
     "output_type": "stream",
     "text": [
      "200\n",
      "<class 'bs4.element.Tag'> <title>기상청 육상 중기예보</title> 기상청 육상 중기예보\n",
      "<class 'bs4.element.ResultSet'> [<title>기상청 육상 중기예보</title>, <title>전국 육상 중기예보 - 2021년 09월 28일 (화)요일 06:00 발표</title>, <title>전국 육상중기예보</title>]\n"
     ]
    }
   ],
   "source": [
    "import requests \n",
    "from bs4 import BeautifulSoup\n",
    "\n",
    "url = 'http://www.weather.go.kr/weather/forecast/mid-term-rss3.jsp'\n",
    "res = requests.get(url)\n",
    "print(res.status_code)\n",
    "html = res.text\n",
    "soup = BeautifulSoup(html, 'html.parser')\n",
    "#print(soup)\n",
    "\n",
    "title = soup.find('title')\n",
    "print(type(title), title, title.text)\n",
    "\n",
    "titles = soup.find_all('title')\n",
    "print(type(titles), titles)"
   ]
  },
  {
   "cell_type": "code",
   "execution_count": null,
   "id": "f57c3da6",
   "metadata": {},
   "outputs": [],
   "source": []
  }
 ],
 "metadata": {
  "kernelspec": {
   "display_name": "Python 3",
   "language": "python",
   "name": "python3"
  },
  "language_info": {
   "codemirror_mode": {
    "name": "ipython",
    "version": 3
   },
   "file_extension": ".py",
   "mimetype": "text/x-python",
   "name": "python",
   "nbconvert_exporter": "python",
   "pygments_lexer": "ipython3",
   "version": "3.8.8"
  }
 },
 "nbformat": 4,
 "nbformat_minor": 5
}
