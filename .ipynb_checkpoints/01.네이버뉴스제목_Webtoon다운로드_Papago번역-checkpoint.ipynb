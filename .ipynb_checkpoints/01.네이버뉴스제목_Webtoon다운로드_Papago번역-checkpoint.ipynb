{
 "cells": [
  {
   "cell_type": "code",
   "execution_count": 1,
   "id": "2e58471e",
   "metadata": {},
   "outputs": [
    {
     "name": "stdout",
     "output_type": "stream",
     "text": [
      "Name: requests\n",
      "Version: 2.25.1\n",
      "Summary: Python HTTP for Humans.\n",
      "Home-page: https://requests.readthedocs.io\n",
      "Author: Kenneth Reitz\n",
      "Author-email: me@kennethreitz.org\n",
      "License: Apache 2.0\n",
      "Location: c:\\users\\vega2\\anaconda3\\lib\\site-packages\n",
      "Requires: urllib3, certifi, chardet, idna\n",
      "Required-by: Sphinx, jupyterlab-server, conda, conda-repo-cli, conda-build, anaconda-project, anaconda-client\n"
     ]
    }
   ],
   "source": [
    "!pip show requests"
   ]
  },
  {
   "cell_type": "code",
   "execution_count": 4,
   "id": "08e4194f",
   "metadata": {},
   "outputs": [
    {
     "name": "stdout",
     "output_type": "stream",
     "text": [
      "Name: beautifulsoup4\n",
      "Version: 4.9.3\n",
      "Summary: Screen-scraping library\n",
      "Home-page: http://www.crummy.com/software/BeautifulSoup/bs4/\n",
      "Author: Leonard Richardson\n",
      "Author-email: leonardr@segfault.org\n",
      "License: MIT\n",
      "Location: c:\\users\\vega2\\anaconda3\\lib\\site-packages\n",
      "Requires: soupsieve\n",
      "Required-by: conda-build\n"
     ]
    }
   ],
   "source": [
    "!pip show beautifulsoup4"
   ]
  },
  {
   "cell_type": "markdown",
   "id": "d523865a",
   "metadata": {},
   "source": [
    "### 네이버 뉴스제목 검색하기\n",
    "* user-agent 헤더값을 반드시 설정"
   ]
  },
  {
   "cell_type": "code",
   "execution_count": 42,
   "id": "68987db1",
   "metadata": {},
   "outputs": [],
   "source": [
    "import requests\n",
    "from bs4 import BeautifulSoup\n",
    "from urllib.parse import urljoin\n",
    "import os"
   ]
  },
  {
   "cell_type": "code",
   "execution_count": 33,
   "id": "3df31058",
   "metadata": {},
   "outputs": [
    {
     "name": "stdout",
     "output_type": "stream",
     "text": [
      "<class 'requests.models.Response'>\n",
      "True\n",
      "200\n",
      "응답헤더  {'date': 'Tue, 28 Sep 2021 04:33:21 GMT', 'cache-control': 'no-cache', 'expires': 'Thu, 01 Jan 1970 00:00:00 GMT', 'set-cookie': 'JSESSIONID=CBE986AAAB59F4CA32F1816A23D048EF; Path=/main; HttpOnly', 'content-language': 'ko-KR', 'vary': 'Accept-Encoding', 'content-encoding': 'gzip', 'transfer-encoding': 'chunked', 'content-type': 'text/html;charset=EUC-KR', 'referrer-policy': 'unsafe-url', 'server': 'nfront'}\n",
      "요청헤더  {'user-agent': 'Mozilla/5.0 (Windows NT 10.0; Win64; x64) AppleWebKit/537.36 (KHTML, like Gecko) Chrome/93.0.4577.82 Safari/537.36', 'Accept-Encoding': 'gzip, deflate', 'Accept': '*/*', 'Connection': 'keep-alive'}\n",
      "text/html;charset=EUC-KR\n"
     ]
    }
   ],
   "source": [
    "url = 'https://news.naver.com/'\n",
    "req_header = {\n",
    "    'user-agent':'Mozilla/5.0 (Windows NT 10.0; Win64; x64) AppleWebKit/537.36 (KHTML, like Gecko) Chrome/93.0.4577.82 Safari/537.36'\n",
    "}\n",
    "res = requests.get(url, headers=req_header)\n",
    "print(type(res))\n",
    "#res = requests.get(url)\n",
    "print(res.ok)\n",
    "print(res.status_code)\n",
    "print('응답헤더 ', res.headers)\n",
    "print('요청헤더 ', res.request.headers)\n",
    "print(res.headers['content-type'])"
   ]
  },
  {
   "cell_type": "code",
   "execution_count": 34,
   "id": "45dfab23",
   "metadata": {},
   "outputs": [
    {
     "name": "stdout",
     "output_type": "stream",
     "text": [
      "199\n",
      "0 신규확진 2289명, 월요일 기준 최다…확산세 지… https://news.naver.com/main/read.naver?mode=LSD&mid=shm&sid1=102&oid=025&aid=0003138010\n",
      "1 장제원 \"자식 잘못키운 죄\"…尹캠프 총괄실장 직… https://news.naver.com/main/read.naver?mode=LSD&mid=shm&sid1=100&oid=448&aid=0000340123\n",
      "2 SK이노베이션, 미국에 5.1조 원 투자…배터리 영토 넓힌다 https://news.naver.com/main/read.naver?mode=LSD&mid=shm&sid1=101&oid=056&aid=0011127308\n",
      "3 고령층·의료진 부스터샷…화이자·모더나 접종 간격 단축 https://news.naver.com/main/read.naver?mode=LSD&mid=shm&sid1=102&oid=437&aid=0000276989\n",
      "4 DL케미칼, 글로벌 석유회사 크레이튼 인수…1조 8800억원 규모 https://news.naver.com/main/read.naver?mode=LSD&mid=shm&sid1=101&oid=018&aid=0005046288\n",
      "5 넷플릭스 CEO \"오징어 게임, 역대 최고 흥행 유력\" https://news.naver.com/main/read.naver?mode=LSD&mid=shm&sid1=105&oid=092&aid=0002234604\n",
      "6 文 \"고용회복 빨라져 다행…소상공인에는 거듭 위로\" https://news.naver.com/main/read.naver?mode=LSD&mid=shm&sid1=100&oid=215&aid=0000986975\n",
      "8 장제원, '아들 음주운전' 지적한 배현진에 전화 걸어 '말다툼' https://news.naver.com/main/read.naver?mode=LSD&mid=shm&sid1=100&oid=011&aid=0003966812\n",
      "9 여야, '화천대유' 공방 가열…언론중재법 상정 연기 https://news.naver.com/main/read.naver?mode=LSD&mid=shm&sid1=100&oid=422&aid=0000506522\n",
      "10 이동학, 곽상도에 ‘뼈 있는 말’…“자기 자식 소중하면 남의 자식도 소중하지” https://news.naver.com/main/read.naver?mode=LSD&mid=shm&sid1=100&oid=029&aid=0002698435\n",
      "11 [전문] 문 대통령 “단계적 일상회복 마냥 늦출 수 없어” https://news.naver.com/main/read.naver?mode=LSD&mid=shm&sid1=100&oid=005&aid=0001473227\n",
      "12 北, 南 반응 떠보기…'도발' 평가 여부 주시할 듯 https://news.naver.com/main/read.naver?mode=LSD&mid=shm&sid1=100&oid=422&aid=0000506518\n",
      "13 北, 동해로 미사일 1발 발사…NSC 상임위 긴급회의 https://news.naver.com/main/read.naver?mode=LSD&mid=shm&sid1=100&oid=422&aid=0000506517\n",
      "15 분양가 10억~13억 '판교 SK뷰 테라스' 계약 앞두고 중도금 대출 위기 https://news.naver.com/main/read.naver?mode=LSD&mid=shm&sid1=101&oid=417&aid=0000738471\n",
      "16 국토부, 2025년까지 116개 도로사업에 10조 투자 https://news.naver.com/main/read.naver?mode=LSD&mid=shm&sid1=101&oid=029&aid=0002698436\n",
      "17 중국 전력난, 성장률 발목 잡나…中국제금융공사도 전망치 하향 조정 https://news.naver.com/main/read.naver?mode=LSD&mid=shm&sid1=101&oid=018&aid=0005046497\n",
      "18 문 대통령 방문했던 '13평' 동탄 임대아파트, 9개월째 '빈집' https://news.naver.com/main/read.naver?mode=LSD&mid=shm&sid1=101&oid=015&aid=0004609333\n",
      "19 문 대통령 다녀간 동탄 행복주택, 9개월째 비었다 https://news.naver.com/main/read.naver?mode=LSD&mid=shm&sid1=101&oid=469&aid=0000631870\n",
      "20 DL케미칼, 글로벌 석유화학회사 美 크레이튼 16억 달러에 인수 https://news.naver.com/main/read.naver?mode=LSD&mid=shm&sid1=101&oid=009&aid=0004857275\n",
      "22 여수~남해 해저터널 확정…90분에서 10분으로 단축 https://news.naver.com/main/read.naver?mode=LSD&mid=shm&sid1=102&oid=079&aid=0003556975\n",
      "23 '중고 김치냉장고' 바닥서 나온 현금다발 주인 찾았다 https://news.naver.com/main/read.naver?mode=LSD&mid=shm&sid1=102&oid=215&aid=0000986997\n",
      "24 차백신연구소 \"면역증강제·면역관문억제제 병용투여 암 93.1% 감소\" https://news.naver.com/main/read.naver?mode=LSD&mid=shm&sid1=102&oid=421&aid=0005625196\n",
      "25 여기선 5만원, 저기선 360만원… 동네의원 비급여 진료비 ‘천차만별’ https://news.naver.com/main/read.naver?mode=LSD&mid=shm&sid1=102&oid=022&aid=0003623279\n",
      "26 女동창생 '지인 능욕방'에 제보한 고등학생에 法 \"전학 처분 따라야\" https://news.naver.com/main/read.naver?mode=LSD&mid=shm&sid1=102&oid=025&aid=0003138071\n",
      "27 1조원 규모 '안양 박달스마트밸리'에도 대장동 그림자? https://news.naver.com/main/read.naver?mode=LSD&mid=shm&sid1=102&oid=003&aid=0010740120\n",
      "29 “오징어게임 속 이정재 빨간머리 의미는....” 황동혁 감독 인터뷰 https://news.naver.com/main/read.naver?mode=LSD&mid=shm&sid1=103&oid=023&aid=0003642875\n",
      "30 복지장관 “위드 코로나 전환, 10월말~11월초…‘백신 패스’ 검토” https://news.naver.com/main/read.naver?mode=LSD&mid=shm&sid1=103&oid=025&aid=0003138067\n",
      "31 [날씨] 곳곳 산발적 빗방울…차츰 전국 가을비 https://news.naver.com/main/read.naver?mode=LSD&mid=shm&sid1=103&oid=422&aid=0000506508\n",
      "32 [오후날씨 꿀팁] 오후에 서해안부터 비…내일은 전국 비 https://news.naver.com/main/read.naver?mode=LSD&mid=shm&sid1=103&oid=056&aid=0011127496\n",
      "33 [날씨] '20~70mm' 비 예보…내일 중부 중심 '강한 비' https://news.naver.com/main/read.naver?mode=LSD&mid=shm&sid1=103&oid=055&aid=0000923810\n",
      "34 역주행하는 초보 본 운전자의 따뜻한 배려… \"경적 한번 안 울리더라\"[영상] https://news.naver.com/main/read.naver?mode=LSD&mid=shm&sid1=103&oid=417&aid=0000738448\n",
      "36 코로나 줄긴 줄었는데 왜 줄었는지는 불분명…日 긴급사태 해제 https://news.naver.com/main/read.naver?mode=LSD&mid=shm&sid1=104&oid=081&aid=0003218656\n",
      "37 [줌인] 에너지 대란에 원전으로 다시 눈 돌리는 영국 https://news.naver.com/main/read.naver?mode=LSD&mid=shm&sid1=104&oid=366&aid=0000763197\n",
      "38 일본 정부, 코로나19 긴급사태 선언 30일로 전면 해제 https://news.naver.com/main/read.naver?mode=LSD&mid=shm&sid1=104&oid=003&aid=0010740093\n",
      "39 日 이어 美도 '북한 탄도미사일'에 무게…미군은 \"즉각 위협 아냐\" https://news.naver.com/main/read.naver?mode=LSD&mid=shm&sid1=104&oid=008&aid=0004649684\n",
      "40 미국 뉴욕, 코로나19 백신 접종 거부한 의료 인력 해고·휴직 사태 현실화…'의료 대란' 여부 주목 https://news.naver.com/main/read.naver?mode=LSD&mid=shm&sid1=104&oid=032&aid=0003100351\n",
      "41 40년 출산 제한하더니…중국 ‘비의료적 이유’ 임신중단 제한 https://news.naver.com/main/read.naver?mode=LSD&mid=shm&sid1=104&oid=028&aid=0002561755\n",
      "43 근육에 쌓인 피로도 알려주는 옷 나왔다 https://news.naver.com/main/read.naver?mode=LSD&mid=shm&sid1=105&oid=584&aid=0000016093\n",
      "44 [이광식의 천문학+] 우리 우주 너머 또다른 우주가 있을까?…다중우주, 평행우주론 https://news.naver.com/main/read.naver?mode=LSD&mid=shm&sid1=105&oid=081&aid=0003218652\n",
      "45 '엘살바도르 처럼\"...비트코인 법정화폐 활용 국가 늘어난다 https://news.naver.com/main/read.naver?mode=LSD&mid=shm&sid1=105&oid=014&aid=0004714926\n",
      "46 \"안산 7점 최악\" 해설 논란…KBSN \"선수·시청자께 사과\" https://news.naver.com/main/read.naver?mode=LSD&mid=shm&sid1=105&oid=018&aid=0005046493\n",
      "47 [스마트클라우드쇼 2021] 제나 리 MS 총괄 “메타버스로 미래도 예측…비즈니스 혁명 가져올 것” https://news.naver.com/main/read.naver?mode=LSD&mid=shm&sid1=105&oid=366&aid=0000763188\n",
      "48 [산업리포트]5G 특화망, B2B 시장 새 기회 열린다 https://news.naver.com/main/read.naver?mode=LSD&mid=shm&sid1=105&oid=030&aid=0002971856\n",
      "50 중고 냉장고 샀더니 따라온 현금 1억여 원…주인 찾았다 https://news.naver.com/main/ranking/read.naver?mode=LSD&mid=shm&sid1=001&oid=056&aid=0011127445&rankingType=RANKING\n",
      "52 [단독]‘천화동인’ 멤버들, 대장동 개발前 땅 32% 사뒀 … https://news.naver.com/main/ranking/read.naver?mode=LSD&mid=shm&sid1=001&oid=020&aid=0003383871&rankingType=RANKING\n",
      "54 배달기사가 \"결제 안 됐다\"며 시간 끌었던 이유는 https://news.naver.com/main/ranking/read.naver?mode=LSD&mid=shm&sid1=001&oid=055&aid=0000923790&rankingType=RANKING\n",
      "56 지난해 사망자 수 30만명 첫 돌파…‘인구 데드크로스’ https://news.naver.com/main/ranking/read.naver?mode=LSD&mid=shm&sid1=001&oid=028&aid=0002561752&rankingType=RANKING\n",
      "58 중고 냉장고서 발견된 1억…주인은 서울 60대 여성 https://news.naver.com/main/ranking/read.naver?mode=LSD&mid=shm&sid1=001&oid=005&aid=0001473217&rankingType=RANKING\n",
      "60 김형석 \"대리 직급 없어질 듯\"…'50억 퇴직금' 곽상도  … https://news.naver.com/main/ranking/read.naver?mode=LSD&mid=shm&sid1=001&oid=015&aid=0004609263&rankingType=RANKING\n",
      "62 정부, 계란 한 판 1.2만원에 수입해 3천원에 팔아…천억 … https://news.naver.com/main/ranking/read.naver?mode=LSD&mid=shm&sid1=001&oid=277&aid=0004975026&rankingType=RANKING\n",
      "64 안산 7점 쏘자 “최악이다, 이게 뭐냐”…KBS 해설 논란 https://news.naver.com/main/ranking/read.naver?mode=LSD&mid=shm&sid1=001&oid=016&aid=0001892030&rankingType=RANKING\n",
      "66 만취 난동으로 식당서 쫓겨난 노숙자? 알고 보니 니콜라스  … https://news.naver.com/main/ranking/read.naver?mode=LSD&mid=shm&sid1=001&oid=052&aid=0001645418&rankingType=RANKING\n",
      "68 1.5L 콜라 10분만에 원샷후 사망…CT 본 의사 깜짝  … https://news.naver.com/main/ranking/read.naver?mode=LSD&mid=shm&sid1=001&oid=025&aid=0003137862&rankingType=RANKING\n",
      "70 \"속옷만 입으라해 거절했는데\"...'오징어게임' 인간소파女 … https://news.naver.com/main/ranking/read.naver?mode=LSD&mid=shm&sid1=001&oid=014&aid=0004714608&rankingType=RANKING\n",
      "71 동영상기사 https://news.naver.com/main/ranking/read.naver?mode=LSD&mid=shm&sid1=001&oid=214&aid=0001150559&rankingType=RANKING\n",
      "72 [재택플러스] '한국 놀이' 원더풀‥오징어게임 신드롬 https://news.naver.com/main/ranking/read.naver?mode=LSD&mid=shm&sid1=001&oid=214&aid=0001150559&rankingType=RANKING\n",
      "74 여수 ‘층간소음’ 참극 이웃 증언…“매트도 깔고 샤워만 했 … https://news.naver.com/main/ranking/read.naver?mode=LSD&mid=shm&sid1=001&oid=023&aid=0003642838&rankingType=RANKING\n",
      "76 \"술·담배 안 한 건강한 남편 AZ 맞고 숨져···그냥 있 … https://news.naver.com/main/ranking/read.naver?mode=LSD&mid=shm&sid1=001&oid=011&aid=0003966686&rankingType=RANKING\n",
      "78 윤석열 \"몸통은 이재명…내가 대통령 되면 화천대유 주인 감 … https://news.naver.com/main/ranking/read.naver?mode=LSD&mid=shm&sid1=001&oid=437&aid=0000277021&rankingType=RANKING\n",
      "80 [단독]‘대장동 1007억’ 챙긴 남욱, 강남 노른자위 건 … https://news.naver.com/main/ranking/read.naver?mode=LSD&mid=shm&sid1=001&oid=021&aid=0002486844&rankingType=RANKING\n",
      "82 \"이웃집으로 잘못 배달 된 추석 선물, 다 먹었대요\"…책임 … https://news.naver.com/main/ranking/read.naver?mode=LSD&mid=shm&sid1=001&oid=008&aid=0004649490&rankingType=RANKING\n",
      "84 구독자 140만 '떡상' 유튜버 식빵언니 김연경…8개월만에 … https://news.naver.com/main/ranking/read.naver?mode=LSD&mid=shm&sid1=001&oid=009&aid=0004857211&rankingType=RANKING\n",
      "86 전세 싸게 얻었다 했더니 신탁물건 사기... 하루아침에 ' … https://news.naver.com/main/ranking/read.naver?mode=LSD&mid=shm&sid1=001&oid=469&aid=0000631839&rankingType=RANKING\n",
      "88 중고 김치냉장고서 발견된 ‘1억 돈다발’… 주인 찾았지만  … https://news.naver.com/main/ranking/read.naver?mode=LSD&mid=shm&sid1=001&oid=022&aid=0003623270&rankingType=RANKING\n",
      "90 [속보]권덕철 복지부 장관 '위드 코로나' 전환 10월말∼ … https://news.naver.com/main/ranking/read.naver?mode=LSD&mid=shm&sid1=001&oid=087&aid=0000861921&rankingType=RANKING\n",
      "92 [단독]삼성家 이서현, 상속세 담보로 2조원대 삼성전자 주 … https://news.naver.com/main/ranking/read.naver?mode=LSD&mid=shm&sid1=001&oid=421&aid=0005623993&rankingType=RANKING\n",
      "93 동영상기사 https://news.naver.com/main/ranking/read.naver?mode=LSD&mid=shm&sid1=001&oid=422&aid=0000506468&rankingType=RANKING\n",
      "94 화이자, '알약 형태' 코로나 치료제 2상 임상시험 개시 https://news.naver.com/main/ranking/read.naver?mode=LSD&mid=shm&sid1=001&oid=422&aid=0000506468&rankingType=RANKING\n",
      "96 윤석열 캠프 \"노부모 패륜 취재\" 열공TV \"범죄자 취급해 … https://news.naver.com/main/ranking/read.naver?mode=LSD&mid=shm&sid1=001&oid=006&aid=0000109850&rankingType=RANKING\n",
      "98 '4억 로또분양' 대박 조짐...특공 경쟁률 166.8대  … https://news.naver.com/main/ranking/read.naver?mode=LSD&mid=shm&sid1=001&oid=215&aid=0000986941&rankingType=RANKING\n",
      "100 이준석, ‘곽상도 연루’ 알고도 대선주자 “화천대유 하십쇼 … https://news.naver.com/main/ranking/read.naver?mode=LSD&mid=shm&sid1=001&oid=366&aid=0000763182&rankingType=RANKING\n",
      "102 반도체 초강국 이끌 '최상위 협의체' 출범 https://news.naver.com/main/ranking/read.naver?mode=LSD&mid=shm&sid1=001&oid=092&aid=0002234640&rankingType=RANKING\n",
      "104 장제원 \"자식 잘 못 키운 아비의 죄 반성\" 尹 캠프 상황 … https://news.naver.com/main/ranking/read.naver?mode=LSD&mid=shm&sid1=001&oid=079&aid=0003556797&rankingType=RANKING\n",
      "106 이준석 \"곽상도 아들 '50억', 장제원 아들 일탈과 달라 … https://news.naver.com/main/ranking/read.naver?mode=LSD&mid=shm&sid1=001&oid=018&aid=0005046232&rankingType=RANKING\n",
      "108 [초점] SK이노-포드, 美 최대규모 배터리공장 건설…전기 … https://news.naver.com/main/ranking/read.naver?mode=LSD&mid=shm&sid1=001&oid=031&aid=0000625962&rankingType=RANKING\n",
      "110 “손목 힘줄이며 신경 다 잘렸다”…산책하는 연인에 흉기 휘 … https://news.naver.com/main/ranking/read.naver?mode=LSD&mid=shm&sid1=001&oid=081&aid=0003218596&rankingType=RANKING\n",
      "112 제주로 배달된 중고냉장고 바닥 현금 1억1000만원 주인  … https://news.naver.com/main/ranking/read.naver?mode=LSD&mid=shm&sid1=001&oid=032&aid=0003100346&rankingType=RANKING\n",
      "114 '규모의 경제'에 올인 SK이노베이션, 포드 합작사에 5조 … https://news.naver.com/main/ranking/read.naver?mode=LSD&mid=shm&sid1=001&oid=293&aid=0000036423&rankingType=RANKING\n",
      "116 윤석열 \"대장동 게이트 몸통은 이재명\" https://news.naver.com/main/ranking/read.naver?mode=LSD&mid=shm&sid1=001&oid=448&aid=0000340124&rankingType=RANKING\n",
      "118 곽상도 아들의 50억, 목숨 잃은 노동자의 1억 https://news.naver.com/main/ranking/read.naver?mode=LSD&mid=shm&sid1=001&oid=047&aid=0002327722&rankingType=RANKING\n",
      "120 이준석 \"곽상도 엄격 대응\"…윤리위 제명 언급 https://news.naver.com/main/ranking/read.naver?mode=LSD&mid=shm&sid1=001&oid=002&aid=0002211845&rankingType=RANKING\n",
      "122 [속보] 정부 \"현행 거리두기 유지 어려운 상황…일상회복  … https://news.naver.com/main/ranking/read.naver?mode=LSD&mid=shm&sid1=001&oid=082&aid=0001120999&rankingType=RANKING\n",
      "124 스타벅스, 오늘 하루 전국 매장서 다회용 컵에 음료 제공 https://news.naver.com/main/ranking/read.naver?mode=LSD&mid=shm&sid1=001&oid=003&aid=0010739284&rankingType=RANKING\n",
      "126 \"두달간 1인당 최대 20만원\" 상생소비지원금 시행 https://news.naver.com/main/ranking/read.naver?mode=LSD&mid=shm&sid1=001&oid=030&aid=0002971593&rankingType=RANKING\n",
      "128 [단독]곽상도, 의원직 당장 사퇴 안 한다…“검찰 수사 후 … https://news.naver.com/main/ranking/read.naver?mode=LSD&mid=shm&sid1=001&oid=449&aid=0000215442&rankingType=RANKING\n",
      "130 [단독] 현직 기상캐스터, '면허 정지 수준' 음주운전…벌 … https://news.naver.com/main/ranking/read.naver?mode=LSD&mid=shm&sid1=001&oid=057&aid=0001610246&rankingType=RANKING\n",
      "132 \"가정 쑥대밭…\" 노엘 아버지 장제원 SNS에 남긴 글 https://news.naver.com/main/ranking/read.naver?mode=LSD&mid=shm&sid1=001&oid=119&aid=0002533183&rankingType=RANKING\n",
      "133 동영상기사 https://news.naver.com/main/ranking/read.naver?mode=LSD&mid=shm&sid1=001&oid=374&aid=0000259027&rankingType=RANKING\n",
      "134 코스피, 외국인·기관 매도에 3100선 후퇴…네이버·카카오 … https://news.naver.com/main/ranking/read.naver?mode=LSD&mid=shm&sid1=001&oid=374&aid=0000259027&rankingType=RANKING\n",
      "136 Time to review banning dog meat: … https://news.naver.com/main/ranking/read.naver?mode=LSD&mid=shm&sid1=001&oid=044&aid=0000230989&rankingType=RANKING\n",
      "138 [검찰의 사냥법] ③ 서울남부지검이 덮은 두번째 '원유철  … https://news.naver.com/main/ranking/read.naver?mode=LSD&mid=shm&sid1=001&oid=607&aid=0000000885&rankingType=RANKING\n",
      "140 [속보] 코로나 신규확진 2289명…3일째 2000명대 https://news.naver.com/main/ranking/read.naver?mode=LSD&mid=shm&sid1=001&oid=629&aid=0000107849&rankingType=RANKING\n",
      "142 \"어렵게 당첨됐는데\" 대출 막힌 실수요자들 분통 https://news.naver.com/main/ranking/read.naver?mode=LSD&mid=shm&sid1=001&oid=029&aid=0002698320&rankingType=RANKING\n",
      "144 안산 7점 쏘자 \"최악\" 비하 발언 논란 KBSN…\"진심으 … https://news.naver.com/main/ranking/read.naver?mode=LSD&mid=shm&sid1=001&oid=088&aid=0000723116&rankingType=RANKING\n",
      "146 오징어 게임 전화번호 산다고?…수천만원 과태료 낼수도 https://news.naver.com/main/ranking/read.naver?mode=LSD&mid=shm&sid1=001&oid=138&aid=0002110804&rankingType=RANKING\n",
      "148 경남-김경수 도지사 중도하차한 뒤 경남은? https://news.naver.com/main/ranking/read.naver?mode=LSD&mid=shm&sid1=001&oid=036&aid=0000045428&rankingType=RANKING\n",
      "150 \"넣어도 돼요?\"… 초등학교 6학년 남학생, 담임교사 성희 … https://news.naver.com/main/ranking/read.naver?mode=LSD&mid=shm&sid1=001&oid=417&aid=0000738382&rankingType=RANKING\n",
      "152 미투운동 ‘이후’ 이야기해야 하는 것들 https://news.naver.com/main/ranking/read.naver?mode=LSD&mid=shm&sid1=001&oid=007&aid=0000006902&rankingType=RANKING\n",
      "154 “왜 남동생만 상속 많이 받나” 소송 제기한 누나들 [법알 … https://news.naver.com/main/ranking/read.naver?mode=LSD&mid=shm&sid1=001&oid=050&aid=0000058612&rankingType=RANKING\n",
      "156 장제원, 결국 尹캠프 총괄실장 사퇴…\"가정 쑥대밭 됐다\" https://news.naver.com/main/ranking/read.naver?mode=LSD&mid=shm&sid1=001&oid=586&aid=0000029427&rankingType=RANKING\n",
      "158 [신안특집] 김환기의 고향 안좌도, 보랏빛으로 물들다 https://news.naver.com/main/ranking/read.naver?mode=LSD&mid=shm&sid1=001&oid=094&aid=0000009413&rankingType=RANKING\n",
      "160 DL 아파트 리모델링 시장서 약진… 대형 건설사 ‘적과 동 … https://news.naver.com/main/ranking/read.naver?mode=LSD&mid=shm&sid1=001&oid=037&aid=0000029793&rankingType=RANKING\n",
      "162 '시세보다 싼' 청년·신혼 매입임대주택 입주자모집공고 https://news.naver.com/main/ranking/read.naver?mode=LSD&mid=shm&sid1=001&oid=648&aid=0000003932&rankingType=RANKING\n",
      "164 특히 중년 여성에게 좋은 운동 5 https://news.naver.com/main/ranking/read.naver?mode=LSD&mid=shm&sid1=001&oid=296&aid=0000051992&rankingType=RANKING\n",
      "166 리니지 모델 안 먹히네! 사면초가 ‘택진이형’의 딜레마 https://news.naver.com/main/ranking/read.naver?mode=LSD&mid=shm&sid1=001&oid=053&aid=0000029721&rankingType=RANKING\n",
      "168 원준·아스플로·씨유테크·케이카 등 4곳 이번 주 공모주 청 … https://news.naver.com/main/ranking/read.naver?mode=LSD&mid=shm&sid1=001&oid=024&aid=0000070727&rankingType=RANKING\n",
      "170 서울지노위 \"스포츠서울 임직원 14명 정리해고는 부당\" https://news.naver.com/main/ranking/read.naver?mode=LSD&mid=shm&sid1=001&oid=127&aid=0000031587&rankingType=RANKING\n",
      "172 ‘버전 2.0’으로 돌아온 탈레반, 그들이 진화한 두 가지 … https://news.naver.com/main/ranking/read.naver?mode=LSD&mid=shm&sid1=001&oid=308&aid=0000029475&rankingType=RANKING\n",
      "174 [단독]北 물자부족 비상, 中 파견노동자에 생필품 헌납 지 … https://news.naver.com/main/ranking/read.naver?mode=LSD&mid=shm&sid1=001&oid=262&aid=0000014819&rankingType=RANKING\n",
      "176 이정재가 입은 초록색 운동복 가격이…‘오징어게임’ 굿즈도  … https://news.naver.com/main/ranking/read.naver?mode=LSD&mid=shm&sid1=001&oid=243&aid=0000016598&rankingType=RANKING\n",
      "178 [대선주자 주택공약 진단] ①이재명 사상 최대 250만호  … https://news.naver.com/main/ranking/read.naver?mode=LSD&mid=shm&sid1=001&oid=123&aid=0002255625&rankingType=RANKING\n",
      "180 여성 뱃살 붙는 '세 번'의 위기… 막으려면? https://news.naver.com/main/ranking/read.naver?mode=LSD&mid=shm&sid1=001&oid=346&aid=0000044599&rankingType=RANKING\n",
      "182 국민 90% \"코로나 종식 불가능... 독감처럼 계속 백신 … https://news.naver.com/main/ranking/read.naver?mode=LSD&mid=shm&sid1=001&oid=310&aid=0000090796&rankingType=RANKING\n",
      "184 연일 확진자 쏟아져도 '위드 코로나' 계획대로 간다 \u0001 … https://news.naver.com/main/ranking/read.naver?mode=LSD&mid=shm&sid1=001&oid=584&aid=0000016090&rankingType=RANKING\n",
      "186 North’s missile is sixth major w … https://news.naver.com/main/ranking/read.naver?mode=LSD&mid=shm&sid1=001&oid=640&aid=0000016600&rankingType=RANKING\n",
      "188 “백신 부작용 감수하며 맞아야 하나” 20~30대 접종 꺼 … https://news.naver.com/main/ranking/read.naver?mode=LSD&mid=shm&sid1=001&oid=353&aid=0000040553&rankingType=RANKING\n",
      "190 국민 90% \"코로나 종식 불가능... 독감처럼 계속 백신 … https://news.naver.com/main/ranking/read.naver?mode=LSD&mid=shm&sid1=001&oid=310&aid=0000090796&rankingType=RANKING\n",
      "192 연일 확진자 쏟아져도 '위드 코로나' 계획대로 간다 \u0001 … https://news.naver.com/main/ranking/read.naver?mode=LSD&mid=shm&sid1=001&oid=584&aid=0000016090&rankingType=RANKING\n",
      "194 North’s missile is sixth major w … https://news.naver.com/main/ranking/read.naver?mode=LSD&mid=shm&sid1=001&oid=640&aid=0000016600&rankingType=RANKING\n",
      "196 “백신 부작용 감수하며 맞아야 하나” 20~30대 접종 꺼 … https://news.naver.com/main/ranking/read.naver?mode=LSD&mid=shm&sid1=001&oid=353&aid=0000040553&rankingType=RANKING\n",
      "198 [임성용의 보약밥상] 수술 앞둔 사람은 피해야 할 ‘은행’ https://news.naver.com/main/ranking/read.naver?mode=LSD&mid=shm&sid1=001&oid=145&aid=0000015525&rankingType=RANKING\n"
     ]
    }
   ],
   "source": [
    "if res.ok:\n",
    "    html = res.text #소스보기\n",
    "    soup = BeautifulSoup(html, 'html.parser')\n",
    "    print(len(soup.select(\"a[href*='read.naver']\")))\n",
    "    a_tag_list = soup.select(\"a[href*='read.naver']\")\n",
    "    for idx,a_tag in enumerate(a_tag_list):\n",
    "        #print(type(a_tag), a_tag)\n",
    "        title = a_tag.text.strip()\n",
    "        if title:\n",
    "            link = urljoin(url,a_tag['href'])\n",
    "            print(idx, title, link)\n",
    "            "
   ]
  },
  {
   "cell_type": "markdown",
   "id": "61851386",
   "metadata": {},
   "source": [
    "### 웹툰 이미지 다운로드\n",
    "* referer header 설정 필요함"
   ]
  },
  {
   "cell_type": "code",
   "execution_count": 48,
   "id": "a76c19e9",
   "metadata": {},
   "outputs": [
    {
     "name": "stdout",
     "output_type": "stream",
     "text": [
      "200\n",
      "writing to 20210907194339_2494cfe7e2b00f48fd40ee768fd5b400_IMAG01_2.jpg (161851) bytes\n",
      "200\n",
      "writing to 20210907194339_2494cfe7e2b00f48fd40ee768fd5b400_IMAG01_1.jpg (143170) bytes\n",
      "200\n",
      "writing to 20210907194339_2494cfe7e2b00f48fd40ee768fd5b400_IMAG01_3.jpg (108006) bytes\n"
     ]
    }
   ],
   "source": [
    "req_header = {\n",
    "    'referer':'https://comic.naver.com/webtoon/detail?titleId=703846&no=181&amp;weekday=tue'\n",
    "}\n",
    "img_urls = {\n",
    "    'https://image-comic.pstatic.net/webtoon/703846/181/20210907194339_2494cfe7e2b00f48fd40ee768fd5b400_IMAG01_1.jpg',\n",
    "    'https://image-comic.pstatic.net/webtoon/703846/181/20210907194339_2494cfe7e2b00f48fd40ee768fd5b400_IMAG01_2.jpg',\n",
    "    'https://image-comic.pstatic.net/webtoon/703846/181/20210907194339_2494cfe7e2b00f48fd40ee768fd5b400_IMAG01_3.jpg'\n",
    "}\n",
    "for img_url in img_urls:\n",
    "    res = requests.get(img_url, headers=req_header)\n",
    "    print(res.status_code)\n",
    "    img_data = res.content #binary data\n",
    "    file_name = os.path.basename(img_url)\n",
    "    #print(file_name)\n",
    "    #file로 저장하기\n",
    "    with open(file_name,'wb') as file:\n",
    "        print(f'writing to {file_name} ({len(img_data)}) bytes')\n",
    "        file.write(img_data)"
   ]
  },
  {
   "cell_type": "markdown",
   "id": "131b80fc",
   "metadata": {},
   "source": [
    "### File Upload\n",
    "* httpbin.org/post 요청으로 image upload하기"
   ]
  },
  {
   "cell_type": "code",
   "execution_count": 49,
   "id": "01c1fe1c",
   "metadata": {},
   "outputs": [
    {
     "data": {
      "text/plain": [
       "{'img1': <_io.BufferedReader name='f1.jpg'>,\n",
       " 'img2': <_io.BufferedReader name='f2.jpg'>,\n",
       " 'img3': <_io.BufferedReader name='f3.jpg'>}"
      ]
     },
     "execution_count": 49,
     "metadata": {},
     "output_type": "execute_result"
    }
   ],
   "source": [
    "img_files = {\n",
    "    'img1':open('f1.jpg','rb'),\n",
    "    'img2':open('f2.jpg','rb'),\n",
    "    'img3':open('f3.jpg','rb')\n",
    "}\n",
    "params = {'key1':'value1'}\n",
    "res = requests.post('http://httpbin.org/post', data=params)"
   ]
  }
 ],
 "metadata": {
  "kernelspec": {
   "display_name": "Python 3",
   "language": "python",
   "name": "python3"
  },
  "language_info": {
   "codemirror_mode": {
    "name": "ipython",
    "version": 3
   },
   "file_extension": ".py",
   "mimetype": "text/x-python",
   "name": "python",
   "nbconvert_exporter": "python",
   "pygments_lexer": "ipython3",
   "version": "3.8.8"
  }
 },
 "nbformat": 4,
 "nbformat_minor": 5
}
