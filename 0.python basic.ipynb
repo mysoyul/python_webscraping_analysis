{
 "cells": [
  {
   "cell_type": "markdown",
   "id": "0aa74790",
   "metadata": {},
   "source": [
    "# The largest heading\n",
    "## The second largest heading\n",
    "###### The smallest heading\n",
    "\n",
    "This site was built using [GitHub Pages](https://pages.github.com/).\n",
    "- George Washington\n",
    "- John Adams\n",
    "- Thomas Jefferson"
   ]
  },
  {
   "cell_type": "code",
   "execution_count": 1,
   "id": "f481fc17",
   "metadata": {},
   "outputs": [
    {
     "name": "stdout",
     "output_type": "stream",
     "text": [
      "0 a\n",
      "1 b\n",
      "2 c\n",
      "3 d\n"
     ]
    }
   ],
   "source": [
    "my_list = ['a','b','c','d']\n",
    "for idx, val in enumerate(my_list):\n",
    "    print(idx, val)"
   ]
  },
  {
   "cell_type": "code",
   "execution_count": 5,
   "id": "00f854fa",
   "metadata": {},
   "outputs": [
    {
     "name": "stdout",
     "output_type": "stream",
     "text": [
      "파일명 은 aa.jpg type은 <class 'str'>\n"
     ]
    }
   ],
   "source": [
    "file_name = 'aa.jpg'\n",
    "print('파일명 은 {} type은 {}'.format(file_name, type(file_name)))"
   ]
  },
  {
   "cell_type": "code",
   "execution_count": 7,
   "id": "5bfef132",
   "metadata": {},
   "outputs": [
    {
     "name": "stdout",
     "output_type": "stream",
     "text": [
      "파일명 aa.jpg type은 <class 'str'>\n"
     ]
    }
   ],
   "source": [
    "print(f'파일명 {file_name} type은 {type(file_name)}')"
   ]
  },
  {
   "cell_type": "markdown",
   "id": "c7ad7461",
   "metadata": {},
   "source": [
    "### List Comprehension"
   ]
  },
  {
   "cell_type": "code",
   "execution_count": 12,
   "id": "2cfc99ce",
   "metadata": {},
   "outputs": [
    {
     "name": "stdout",
     "output_type": "stream",
     "text": [
      "[0, 4, 16, 36, 64]\n"
     ]
    }
   ],
   "source": [
    "# create a list using a for loop\n",
    "squares = []\n",
    "\n",
    "for x in range(10):\n",
    "    if x % 2 == 0:\n",
    "        # raise x to the power of 2\n",
    "        squares.append(x**2)\n",
    "\n",
    "print(squares)"
   ]
  },
  {
   "cell_type": "code",
   "execution_count": 13,
   "id": "f896c7eb",
   "metadata": {},
   "outputs": [
    {
     "name": "stdout",
     "output_type": "stream",
     "text": [
      "[0, 4, 16, 36, 64]\n"
     ]
    }
   ],
   "source": [
    "# create a list using list comprehension\n",
    "squares = [x**2 for x in range(10) if x % 2 == 0]\n",
    "\n",
    "print(squares)"
   ]
  },
  {
   "cell_type": "code",
   "execution_count": 17,
   "id": "0ebea586",
   "metadata": {},
   "outputs": [
    {
     "name": "stdout",
     "output_type": "stream",
     "text": [
      "0\n",
      "1\n",
      "2\n",
      "3\n",
      "4\n",
      "5\n",
      "6\n",
      "7\n",
      "8\n",
      "9\n"
     ]
    }
   ],
   "source": [
    "import numpy as np\n",
    "\n",
    "np.arange(10)\n",
    "for val in np.arange(10):\n",
    "    print(val)"
   ]
  },
  {
   "cell_type": "code",
   "execution_count": 19,
   "id": "e532ab74",
   "metadata": {},
   "outputs": [
    {
     "data": {
      "text/plain": [
       "int"
      ]
     },
     "execution_count": 19,
     "metadata": {},
     "output_type": "execute_result"
    }
   ],
   "source": [
    "num = (10)\n",
    "type(num)"
   ]
  },
  {
   "cell_type": "code",
   "execution_count": 1,
   "id": "077f525c",
   "metadata": {},
   "outputs": [
    {
     "data": {
      "text/plain": [
       "tuple"
      ]
     },
     "execution_count": 1,
     "metadata": {},
     "output_type": "execute_result"
    }
   ],
   "source": [
    "num2 = (10,)\n",
    "type(num2)"
   ]
  },
  {
   "cell_type": "code",
   "execution_count": 2,
   "id": "166cae94",
   "metadata": {},
   "outputs": [],
   "source": [
    "def swap(n1, n2):\n",
    "    return  (n2, n1)"
   ]
  },
  {
   "cell_type": "code",
   "execution_count": 4,
   "id": "1e481caa",
   "metadata": {},
   "outputs": [
    {
     "name": "stdout",
     "output_type": "stream",
     "text": [
      "20\n",
      "10\n"
     ]
    }
   ],
   "source": [
    "a,b = swap(10,20)\n",
    "print(a)\n",
    "print(b)"
   ]
  },
  {
   "cell_type": "code",
   "execution_count": 5,
   "id": "021e2cbe",
   "metadata": {},
   "outputs": [],
   "source": [
    "def add(n1,n2):\n",
    "    return n1 + n2"
   ]
  },
  {
   "cell_type": "code",
   "execution_count": 7,
   "id": "ef2593fd",
   "metadata": {},
   "outputs": [
    {
     "data": {
      "text/plain": [
       "30"
      ]
     },
     "execution_count": 7,
     "metadata": {},
     "output_type": "execute_result"
    }
   ],
   "source": [
    "add(10,20)"
   ]
  },
  {
   "cell_type": "code",
   "execution_count": 10,
   "id": "3cf37f92",
   "metadata": {},
   "outputs": [],
   "source": [
    "add2 = lambda n1,n2:n1+n2"
   ]
  },
  {
   "cell_type": "code",
   "execution_count": 12,
   "id": "9072bd9c",
   "metadata": {},
   "outputs": [
    {
     "data": {
      "text/plain": [
       "70"
      ]
     },
     "execution_count": 12,
     "metadata": {},
     "output_type": "execute_result"
    }
   ],
   "source": [
    "add2(30,40)"
   ]
  },
  {
   "cell_type": "code",
   "execution_count": 15,
   "id": "edcfee46",
   "metadata": {},
   "outputs": [
    {
     "name": "stdout",
     "output_type": "stream",
     "text": [
      "<zip object at 0x00000189C3D42E80>\n",
      "<class 'tuple'> ('정당', '민주당')\n",
      "<class 'tuple'> ('선거구', '서울은평구')\n"
     ]
    }
   ],
   "source": [
    "dt_list = ['정당','선거구']\n",
    "dd_list = ['민주당','서울은평구']\n",
    "\n",
    "print(zip(dt_list,dd_list))\n",
    "for dt_dd in zip(dt_list,dd_list):\n",
    "    print(type(dt_dd), dt_dd)"
   ]
  },
  {
   "cell_type": "code",
   "execution_count": 17,
   "id": "2cd0c813",
   "metadata": {},
   "outputs": [
    {
     "data": {
      "text/plain": [
       "{'정당': '민주당', '선거구': '서울은평구'}"
      ]
     },
     "execution_count": 17,
     "metadata": {},
     "output_type": "execute_result"
    }
   ],
   "source": [
    "data_dict = dict(zip(dt_list,dd_list))\n",
    "data_dict"
   ]
  },
  {
   "cell_type": "code",
   "execution_count": 21,
   "id": "6a751bfd",
   "metadata": {},
   "outputs": [
    {
     "name": "stdout",
     "output_type": "stream",
     "text": [
      "2021\n",
      "9\n",
      "30\n"
     ]
    }
   ],
   "source": [
    "from datetime import date\n",
    "\n",
    "today = date.today()\n",
    "print(today.year)\n",
    "print(today.month)\n",
    "print(today.day)"
   ]
  },
  {
   "cell_type": "code",
   "execution_count": 23,
   "id": "54b40946",
   "metadata": {},
   "outputs": [
    {
     "name": "stdout",
     "output_type": "stream",
     "text": [
      "1960-06-05 1960-12-04\n"
     ]
    }
   ],
   "source": [
    "birth1 = date(1960,6,5)\n",
    "birth2 = date(1960,12,4)\n",
    "\n",
    "print(birth1,birth2)"
   ]
  },
  {
   "cell_type": "code",
   "execution_count": 24,
   "id": "8bb51038",
   "metadata": {},
   "outputs": [
    {
     "data": {
      "text/plain": [
       "False"
      ]
     },
     "execution_count": 24,
     "metadata": {},
     "output_type": "execute_result"
    }
   ],
   "source": [
    "(9,30) < (6,5)  #0"
   ]
  },
  {
   "cell_type": "code",
   "execution_count": 25,
   "id": "9be6de2c",
   "metadata": {},
   "outputs": [
    {
     "data": {
      "text/plain": [
       "True"
      ]
     },
     "execution_count": 25,
     "metadata": {},
     "output_type": "execute_result"
    }
   ],
   "source": [
    "(9,30) < (12,4) #1"
   ]
  },
  {
   "cell_type": "code",
   "execution_count": 26,
   "id": "a52ba4de",
   "metadata": {},
   "outputs": [
    {
     "data": {
      "text/plain": [
       "False"
      ]
     },
     "execution_count": 26,
     "metadata": {},
     "output_type": "execute_result"
    }
   ],
   "source": [
    "(today.month, today.day) < (birth1.month, birth1.day)"
   ]
  },
  {
   "cell_type": "code",
   "execution_count": 28,
   "id": "4fd05788",
   "metadata": {},
   "outputs": [
    {
     "name": "stdout",
     "output_type": "stream",
     "text": [
      "61\n"
     ]
    }
   ],
   "source": [
    "age = today.year - birth1.year - ((today.month, today.day) < (birth1.month, birth1.day))\n",
    "print(age)"
   ]
  },
  {
   "cell_type": "code",
   "execution_count": 29,
   "id": "62a80416",
   "metadata": {},
   "outputs": [
    {
     "name": "stdout",
     "output_type": "stream",
     "text": [
      "60\n"
     ]
    }
   ],
   "source": [
    "age2 = today.year - birth1.year - ((today.month, today.day) < (birth2.month, birth2.day))\n",
    "print(age2)"
   ]
  }
 ],
 "metadata": {
  "kernelspec": {
   "display_name": "Python 3",
   "language": "python",
   "name": "python3"
  },
  "language_info": {
   "codemirror_mode": {
    "name": "ipython",
    "version": 3
   },
   "file_extension": ".py",
   "mimetype": "text/x-python",
   "name": "python",
   "nbconvert_exporter": "python",
   "pygments_lexer": "ipython3",
   "version": "3.8.8"
  }
 },
 "nbformat": 4,
 "nbformat_minor": 5
}
