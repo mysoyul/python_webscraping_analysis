{
 "cells": [
  {
   "cell_type": "markdown",
   "id": "0aa74790",
   "metadata": {},
   "source": [
    "# The largest heading\n",
    "## The second largest heading\n",
    "###### The smallest heading\n",
    "\n",
    "This site was built using [GitHub Pages](https://pages.github.com/).\n",
    "- George Washington\n",
    "- John Adams\n",
    "- Thomas Jefferson"
   ]
  },
  {
   "cell_type": "code",
   "execution_count": 5,
   "id": "f481fc17",
   "metadata": {},
   "outputs": [
    {
     "name": "stdout",
     "output_type": "stream",
     "text": [
      "0 a\n",
      "1 b\n",
      "2 c\n",
      "3 d\n"
     ]
    }
   ],
   "source": [
    "my_list = ['a','b','c','d']\n",
    "for idx, val in enumerate(my_list):\n",
    "    print(idx, val)"
   ]
  }
 ],
 "metadata": {
  "kernelspec": {
   "display_name": "Python 3",
   "language": "python",
   "name": "python3"
  },
  "language_info": {
   "codemirror_mode": {
    "name": "ipython",
    "version": 3
   },
   "file_extension": ".py",
   "mimetype": "text/x-python",
   "name": "python",
   "nbconvert_exporter": "python",
   "pygments_lexer": "ipython3",
   "version": "3.8.8"
  }
 },
 "nbformat": 4,
 "nbformat_minor": 5
}
