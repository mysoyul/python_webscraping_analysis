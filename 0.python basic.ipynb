{
 "cells": [
  {
   "cell_type": "markdown",
   "id": "0aa74790",
   "metadata": {},
   "source": [
    "# The largest heading\n",
    "## The second largest heading\n",
    "###### The smallest heading\n",
    "\n",
    "This site was built using [GitHub Pages](https://pages.github.com/).\n",
    "- George Washington\n",
    "- John Adams\n",
    "- Thomas Jefferson"
   ]
  },
  {
   "cell_type": "code",
   "execution_count": 1,
   "id": "f481fc17",
   "metadata": {},
   "outputs": [
    {
     "name": "stdout",
     "output_type": "stream",
     "text": [
      "0 a\n",
      "1 b\n",
      "2 c\n",
      "3 d\n"
     ]
    }
   ],
   "source": [
    "my_list = ['a','b','c','d']\n",
    "for idx, val in enumerate(my_list):\n",
    "    print(idx, val)"
   ]
  },
  {
   "cell_type": "code",
   "execution_count": 5,
   "id": "00f854fa",
   "metadata": {},
   "outputs": [
    {
     "name": "stdout",
     "output_type": "stream",
     "text": [
      "파일명 은 aa.jpg type은 <class 'str'>\n"
     ]
    }
   ],
   "source": [
    "file_name = 'aa.jpg'\n",
    "print('파일명 은 {} type은 {}'.format(file_name, type(file_name)))"
   ]
  },
  {
   "cell_type": "code",
   "execution_count": 7,
   "id": "5bfef132",
   "metadata": {},
   "outputs": [
    {
     "name": "stdout",
     "output_type": "stream",
     "text": [
      "파일명 aa.jpg type은 <class 'str'>\n"
     ]
    }
   ],
   "source": [
    "print(f'파일명 {file_name} type은 {type(file_name)}')"
   ]
  },
  {
   "cell_type": "markdown",
   "id": "c7ad7461",
   "metadata": {},
   "source": [
    "### List Comprehension"
   ]
  },
  {
   "cell_type": "code",
   "execution_count": 12,
   "id": "2cfc99ce",
   "metadata": {},
   "outputs": [
    {
     "name": "stdout",
     "output_type": "stream",
     "text": [
      "[0, 4, 16, 36, 64]\n"
     ]
    }
   ],
   "source": [
    "# create a list using a for loop\n",
    "squares = []\n",
    "\n",
    "for x in range(10):\n",
    "    if x % 2 == 0:\n",
    "        # raise x to the power of 2\n",
    "        squares.append(x**2)\n",
    "\n",
    "print(squares)"
   ]
  },
  {
   "cell_type": "code",
   "execution_count": 13,
   "id": "f896c7eb",
   "metadata": {},
   "outputs": [
    {
     "name": "stdout",
     "output_type": "stream",
     "text": [
      "[0, 4, 16, 36, 64]\n"
     ]
    }
   ],
   "source": [
    "# create a list using list comprehension\n",
    "squares = [x**2 for x in range(10) if x % 2 == 0]\n",
    "\n",
    "print(squares)"
   ]
  },
  {
   "cell_type": "code",
   "execution_count": null,
   "id": "0ebea586",
   "metadata": {},
   "outputs": [],
   "source": []
  }
 ],
 "metadata": {
  "kernelspec": {
   "display_name": "Python 3",
   "language": "python",
   "name": "python3"
  },
  "language_info": {
   "codemirror_mode": {
    "name": "ipython",
    "version": 3
   },
   "file_extension": ".py",
   "mimetype": "text/x-python",
   "name": "python",
   "nbconvert_exporter": "python",
   "pygments_lexer": "ipython3",
   "version": "3.8.8"
  }
 },
 "nbformat": 4,
 "nbformat_minor": 5
}
