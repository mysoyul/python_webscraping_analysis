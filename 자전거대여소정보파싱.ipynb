{
 "cells": [
  {
   "cell_type": "markdown",
   "metadata": {},
   "source": [
    "### 크롤링으로 위경도 가져오기\n",
    "* 따릉이 대여소 정보 가져오기"
   ]
  },
  {
   "cell_type": "code",
   "execution_count": 1,
   "metadata": {},
   "outputs": [
    {
     "name": "stdout",
     "output_type": "stream",
     "text": [
      "200\n",
      "True\n",
      "<class 'list'>\n"
     ]
    }
   ],
   "source": [
    "import requests\n",
    "import json\n",
    "\n",
    "rent_stations = []\n",
    "base_url = 'https://www.bikeseoul.com/app/station/getStationRealtimeStatus.do?stationGrpSeq=ALL'\n",
    "\n",
    "response = requests.get(base_url)\n",
    "print(response.status_code)\n",
    "print(response.ok)\n",
    "if response.ok:\n",
    "    print(type(response.json()['realtimeList']))\n",
    "    station_list = response.json()['realtimeList']\n",
    "\n",
    "    with open('data/seoul_bike/station.json','w') as file:\n",
    "        json.dump(station_list, file)        "
   ]
  },
  {
   "cell_type": "code",
   "execution_count": 2,
   "metadata": {},
   "outputs": [
    {
     "name": "stdout",
     "output_type": "stream",
     "text": [
      "(2480, 11)\n"
     ]
    },
    {
     "data": {
      "text/html": [
       "<div>\n",
       "<style scoped>\n",
       "    .dataframe tbody tr th:only-of-type {\n",
       "        vertical-align: middle;\n",
       "    }\n",
       "\n",
       "    .dataframe tbody tr th {\n",
       "        vertical-align: top;\n",
       "    }\n",
       "\n",
       "    .dataframe thead th {\n",
       "        text-align: right;\n",
       "    }\n",
       "</style>\n",
       "<table border=\"1\" class=\"dataframe\">\n",
       "  <thead>\n",
       "    <tr style=\"text-align: right;\">\n",
       "      <th></th>\n",
       "      <th>stationName</th>\n",
       "      <th>stationImgFileName</th>\n",
       "      <th>stationId</th>\n",
       "      <th>stationLongitude</th>\n",
       "      <th>stationLatitude</th>\n",
       "      <th>rackTotCnt</th>\n",
       "      <th>parkingBikeTotCnt</th>\n",
       "      <th>parkingQRBikeCnt</th>\n",
       "      <th>parkingELECBikeCnt</th>\n",
       "      <th>stationSeCd</th>\n",
       "      <th>mode</th>\n",
       "    </tr>\n",
       "  </thead>\n",
       "  <tbody>\n",
       "    <tr>\n",
       "      <th>0</th>\n",
       "      <td>위트콤공장</td>\n",
       "      <td></td>\n",
       "      <td>ST-598</td>\n",
       "      <td>0.000000</td>\n",
       "      <td>0.000000</td>\n",
       "      <td>68</td>\n",
       "      <td>0</td>\n",
       "      <td>0</td>\n",
       "      <td>0</td>\n",
       "      <td>RAK_001</td>\n",
       "      <td>NaN</td>\n",
       "    </tr>\n",
       "    <tr>\n",
       "      <th>1</th>\n",
       "      <td>102. 망원역 1번출구 앞</td>\n",
       "      <td></td>\n",
       "      <td>ST-4</td>\n",
       "      <td>126.910629</td>\n",
       "      <td>37.555649</td>\n",
       "      <td>22</td>\n",
       "      <td>0</td>\n",
       "      <td>0</td>\n",
       "      <td>0</td>\n",
       "      <td>RAK_001</td>\n",
       "      <td>NaN</td>\n",
       "    </tr>\n",
       "    <tr>\n",
       "      <th>2</th>\n",
       "      <td>103. 망원역 2번출구 앞</td>\n",
       "      <td></td>\n",
       "      <td>ST-5</td>\n",
       "      <td>126.910835</td>\n",
       "      <td>37.554951</td>\n",
       "      <td>16</td>\n",
       "      <td>0</td>\n",
       "      <td>1</td>\n",
       "      <td>1</td>\n",
       "      <td>RAK_001</td>\n",
       "      <td>NaN</td>\n",
       "    </tr>\n",
       "    <tr>\n",
       "      <th>3</th>\n",
       "      <td>104. 합정역 1번출구 앞</td>\n",
       "      <td></td>\n",
       "      <td>ST-6</td>\n",
       "      <td>126.914986</td>\n",
       "      <td>37.550629</td>\n",
       "      <td>15</td>\n",
       "      <td>0</td>\n",
       "      <td>1</td>\n",
       "      <td>1</td>\n",
       "      <td>RAK_001</td>\n",
       "      <td>NaN</td>\n",
       "    </tr>\n",
       "    <tr>\n",
       "      <th>4</th>\n",
       "      <td>105. 합정역 5번출구 앞</td>\n",
       "      <td></td>\n",
       "      <td>ST-7</td>\n",
       "      <td>126.914825</td>\n",
       "      <td>37.550007</td>\n",
       "      <td>7</td>\n",
       "      <td>0</td>\n",
       "      <td>1</td>\n",
       "      <td>0</td>\n",
       "      <td>RAK_001</td>\n",
       "      <td>NaN</td>\n",
       "    </tr>\n",
       "  </tbody>\n",
       "</table>\n",
       "</div>"
      ],
      "text/plain": [
       "       stationName stationImgFileName stationId  stationLongitude  \\\n",
       "0            위트콤공장                       ST-598          0.000000   \n",
       "1  102. 망원역 1번출구 앞                         ST-4        126.910629   \n",
       "2  103. 망원역 2번출구 앞                         ST-5        126.910835   \n",
       "3  104. 합정역 1번출구 앞                         ST-6        126.914986   \n",
       "4  105. 합정역 5번출구 앞                         ST-7        126.914825   \n",
       "\n",
       "   stationLatitude  rackTotCnt  parkingBikeTotCnt  parkingQRBikeCnt  \\\n",
       "0         0.000000          68                  0                 0   \n",
       "1        37.555649          22                  0                 0   \n",
       "2        37.554951          16                  0                 1   \n",
       "3        37.550629          15                  0                 1   \n",
       "4        37.550007           7                  0                 1   \n",
       "\n",
       "   parkingELECBikeCnt stationSeCd  mode  \n",
       "0                   0     RAK_001   NaN  \n",
       "1                   0     RAK_001   NaN  \n",
       "2                   1     RAK_001   NaN  \n",
       "3                   1     RAK_001   NaN  \n",
       "4                   0     RAK_001   NaN  "
      ]
     },
     "execution_count": 2,
     "metadata": {},
     "output_type": "execute_result"
    }
   ],
   "source": [
    "import pandas as pd\n",
    "\n",
    "station_origin_df = pd.read_json('data/seoul_bike/station.json')\n",
    "print(station_origin_df.shape)\n",
    "station_origin_df.head()"
   ]
  },
  {
   "cell_type": "code",
   "execution_count": 40,
   "metadata": {},
   "outputs": [
    {
     "name": "stdout",
     "output_type": "stream",
     "text": [
      " 동대문중 교차로\n"
     ]
    }
   ],
   "source": [
    "#610. 동대문중 교차로\n",
    "s1=\"610. 동대문중 교차로\"\n",
    "idx = s1.index(\".\") + 1\n",
    "s2 = s1[idx:]\n",
    "print (s2)"
   ]
  },
  {
   "cell_type": "code",
   "execution_count": 4,
   "metadata": {},
   "outputs": [],
   "source": [
    "station_list = []\n",
    "for idx,row in station_origin_df.iterrows():\n",
    "    idx = row[\"stationName\"].find(\".\") + 1\n",
    "    temp_str = row['stationName'][idx:]\n",
    "    station_list.append(temp_str.strip())\n",
    "    \n",
    "station_origin_df['대여소'] = station_list"
   ]
  },
  {
   "cell_type": "code",
   "execution_count": 5,
   "metadata": {},
   "outputs": [
    {
     "data": {
      "text/plain": [
       "0              위트콤공장\n",
       "1         망원역 1번출구 앞\n",
       "2         망원역 2번출구 앞\n",
       "3         합정역 1번출구 앞\n",
       "4         합정역 5번출구 앞\n",
       "5         합정역 7번출구 앞\n",
       "6    신한은행 서교동금융센터점 앞\n",
       "7            서교동 사거리\n",
       "8             제일빌딩 앞\n",
       "9         상수역 2번출구 앞\n",
       "Name: 대여소, dtype: object"
      ]
     },
     "execution_count": 5,
     "metadata": {},
     "output_type": "execute_result"
    }
   ],
   "source": [
    "station_origin_df['대여소'].head(10)"
   ]
  },
  {
   "cell_type": "code",
   "execution_count": 57,
   "metadata": {},
   "outputs": [
    {
     "data": {
      "text/html": [
       "<div>\n",
       "<style scoped>\n",
       "    .dataframe tbody tr th:only-of-type {\n",
       "        vertical-align: middle;\n",
       "    }\n",
       "\n",
       "    .dataframe tbody tr th {\n",
       "        vertical-align: top;\n",
       "    }\n",
       "\n",
       "    .dataframe thead th {\n",
       "        text-align: right;\n",
       "    }\n",
       "</style>\n",
       "<table border=\"1\" class=\"dataframe\">\n",
       "  <thead>\n",
       "    <tr style=\"text-align: right;\">\n",
       "      <th></th>\n",
       "      <th>stationId</th>\n",
       "      <th>stationImgFileName</th>\n",
       "      <th>stationName</th>\n",
       "      <th>stationLongitude</th>\n",
       "      <th>stationLatitude</th>\n",
       "      <th>rackTotCnt</th>\n",
       "      <th>parkingBikeTotCnt</th>\n",
       "      <th>parkingQRBikeCnt</th>\n",
       "      <th>parkingELECBikeCnt</th>\n",
       "      <th>stationSeCd</th>\n",
       "      <th>mode</th>\n",
       "      <th>대여소</th>\n",
       "    </tr>\n",
       "  </thead>\n",
       "  <tbody>\n",
       "    <tr>\n",
       "      <th>0</th>\n",
       "      <td>ST-598</td>\n",
       "      <td></td>\n",
       "      <td>위트콤공장</td>\n",
       "      <td>0.000000</td>\n",
       "      <td>0.000000</td>\n",
       "      <td>68</td>\n",
       "      <td>0</td>\n",
       "      <td>0</td>\n",
       "      <td>0</td>\n",
       "      <td>RAK_001</td>\n",
       "      <td>NaN</td>\n",
       "      <td>위트콤공장</td>\n",
       "    </tr>\n",
       "    <tr>\n",
       "      <th>1</th>\n",
       "      <td>ST-4</td>\n",
       "      <td></td>\n",
       "      <td>102. 망원역 1번출구 앞</td>\n",
       "      <td>126.910629</td>\n",
       "      <td>37.555649</td>\n",
       "      <td>22</td>\n",
       "      <td>0</td>\n",
       "      <td>5</td>\n",
       "      <td>3</td>\n",
       "      <td>RAK_001</td>\n",
       "      <td>NaN</td>\n",
       "      <td>망원역 1번출구 앞</td>\n",
       "    </tr>\n",
       "    <tr>\n",
       "      <th>2</th>\n",
       "      <td>ST-5</td>\n",
       "      <td></td>\n",
       "      <td>103. 망원역 2번출구 앞</td>\n",
       "      <td>126.910835</td>\n",
       "      <td>37.554951</td>\n",
       "      <td>16</td>\n",
       "      <td>0</td>\n",
       "      <td>9</td>\n",
       "      <td>1</td>\n",
       "      <td>RAK_001</td>\n",
       "      <td>NaN</td>\n",
       "      <td>망원역 2번출구 앞</td>\n",
       "    </tr>\n",
       "  </tbody>\n",
       "</table>\n",
       "</div>"
      ],
      "text/plain": [
       "  stationId stationImgFileName      stationName  stationLongitude  \\\n",
       "0    ST-598                               위트콤공장          0.000000   \n",
       "1      ST-4                     102. 망원역 1번출구 앞        126.910629   \n",
       "2      ST-5                     103. 망원역 2번출구 앞        126.910835   \n",
       "\n",
       "   stationLatitude  rackTotCnt  parkingBikeTotCnt  parkingQRBikeCnt  \\\n",
       "0         0.000000          68                  0                 0   \n",
       "1        37.555649          22                  0                 5   \n",
       "2        37.554951          16                  0                 9   \n",
       "\n",
       "   parkingELECBikeCnt stationSeCd  mode         대여소  \n",
       "0                   0     RAK_001   NaN       위트콤공장  \n",
       "1                   3     RAK_001   NaN  망원역 1번출구 앞  \n",
       "2                   1     RAK_001   NaN  망원역 2번출구 앞  "
      ]
     },
     "execution_count": 57,
     "metadata": {},
     "output_type": "execute_result"
    }
   ],
   "source": [
    "station_origin_df.head(3)"
   ]
  },
  {
   "cell_type": "code",
   "execution_count": 6,
   "metadata": {},
   "outputs": [
    {
     "name": "stdout",
     "output_type": "stream",
     "text": [
      "(2480, 3)\n"
     ]
    }
   ],
   "source": [
    "station_df = station_origin_df.loc[:,['대여소','stationLongitude','stationLatitude']]\n",
    "station_df.columns = ['대여소','경도','위도']\n",
    "print(station_df.shape)"
   ]
  },
  {
   "cell_type": "code",
   "execution_count": 62,
   "metadata": {},
   "outputs": [
    {
     "data": {
      "text/html": [
       "<div>\n",
       "<style scoped>\n",
       "    .dataframe tbody tr th:only-of-type {\n",
       "        vertical-align: middle;\n",
       "    }\n",
       "\n",
       "    .dataframe tbody tr th {\n",
       "        vertical-align: top;\n",
       "    }\n",
       "\n",
       "    .dataframe thead th {\n",
       "        text-align: right;\n",
       "    }\n",
       "</style>\n",
       "<table border=\"1\" class=\"dataframe\">\n",
       "  <thead>\n",
       "    <tr style=\"text-align: right;\">\n",
       "      <th></th>\n",
       "      <th>대여소</th>\n",
       "      <th>경도</th>\n",
       "      <th>위도</th>\n",
       "    </tr>\n",
       "  </thead>\n",
       "  <tbody>\n",
       "    <tr>\n",
       "      <th>0</th>\n",
       "      <td>위트콤공장</td>\n",
       "      <td>0.000000</td>\n",
       "      <td>0.000000</td>\n",
       "    </tr>\n",
       "    <tr>\n",
       "      <th>1</th>\n",
       "      <td>망원역 1번출구 앞</td>\n",
       "      <td>126.910629</td>\n",
       "      <td>37.555649</td>\n",
       "    </tr>\n",
       "    <tr>\n",
       "      <th>2</th>\n",
       "      <td>망원역 2번출구 앞</td>\n",
       "      <td>126.910835</td>\n",
       "      <td>37.554951</td>\n",
       "    </tr>\n",
       "    <tr>\n",
       "      <th>3</th>\n",
       "      <td>합정역 1번출구 앞</td>\n",
       "      <td>126.914986</td>\n",
       "      <td>37.550629</td>\n",
       "    </tr>\n",
       "    <tr>\n",
       "      <th>4</th>\n",
       "      <td>합정역 5번출구 앞</td>\n",
       "      <td>126.914825</td>\n",
       "      <td>37.550007</td>\n",
       "    </tr>\n",
       "  </tbody>\n",
       "</table>\n",
       "</div>"
      ],
      "text/plain": [
       "          대여소          경도         위도\n",
       "0       위트콤공장    0.000000   0.000000\n",
       "1  망원역 1번출구 앞  126.910629  37.555649\n",
       "2  망원역 2번출구 앞  126.910835  37.554951\n",
       "3  합정역 1번출구 앞  126.914986  37.550629\n",
       "4  합정역 5번출구 앞  126.914825  37.550007"
      ]
     },
     "execution_count": 62,
     "metadata": {},
     "output_type": "execute_result"
    }
   ],
   "source": [
    "station_df.head()"
   ]
  },
  {
   "cell_type": "code",
   "execution_count": 7,
   "metadata": {},
   "outputs": [],
   "source": [
    "station_df.to_csv('data/seoul_bike/bike_station.csv', index=False)"
   ]
  }
 ],
 "metadata": {
  "kernelspec": {
   "display_name": "Python 3",
   "language": "python",
   "name": "python3"
  },
  "language_info": {
   "codemirror_mode": {
    "name": "ipython",
    "version": 3
   },
   "file_extension": ".py",
   "mimetype": "text/x-python",
   "name": "python",
   "nbconvert_exporter": "python",
   "pygments_lexer": "ipython3",
   "version": "3.8.8"
  }
 },
 "nbformat": 4,
 "nbformat_minor": 4
}
